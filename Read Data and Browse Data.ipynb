{
 "cells": [
  {
   "cell_type": "markdown",
   "metadata": {},
   "source": [
    "## Project Overview"
   ]
  },
  {
   "cell_type": "markdown",
   "metadata": {},
   "source": [
    "公司介绍：国内领先的用户行为分析产品\n",
    "\n",
    "数据内容: 该公司官网访问约一周的数据，包括用户访问时产生的点击按钮、申请账号、提交验证码、观看视频、离开页面等行为记录。详细的日志描述并配以官方技术文档以及API手册说明。\n",
    "\n",
    "项目目标: \n",
    "\n",
    "    Clean dirty log data and transform it for analytics.\n",
    "\n",
    "    Exploratory data analysis, e.g. find user activity levels for different events, and user interaction with web components.\n",
    "\n",
    "    Find the conversion rate of users, identify key factors that bottleneck the conversion rate.\n",
    "\n",
    "    Propose any hypothesis and set up experiments for testing.\n",
    "\n",
    "    Build machine learning models to predict user behaviors, including but not limited to signup, churn, etc.\n",
    "    Discover interesting insights in the dataset and suggest how to improve the user signup rate.\n"
   ]
  },
  {
   "cell_type": "markdown",
   "metadata": {},
   "source": [
    "## Dataset description"
   ]
  },
  {
   "cell_type": "markdown",
   "metadata": {},
   "source": [
    "Columns：\n",
    "- _nocache：随机数字防止缓存\n",
    "\n",
    "- Distinct_id：类型是字符串，对用户的标识，对未登录用户，可以填充设备标识、CookieID 等，对于登录用户，则应该填充注册账号；这里的例子，我们假设是一个未注册用户，所以填充的是一个设备编号；\n",
    "\n",
    "- event：事件名，需是合法的变量名，即不能以数字开头，且只包含：大小写字母、数字、下划线和 $； \n",
    "\n",
    "- properties: 这个 Event 的具体属性，以 dict 的形式存在。其中以 $ 开头的表明是系统的保留字段，它的类型和中文名已经预先定义好了，自定义属性请不要以 $ 开头；同时，同一个名称的 property，在不同 event 中，必须保持一致的定义和类型。 \n",
    "\n",
    "  *《JavaScript SDK》 https://sensorsdata.cn/manual/js_sdk.html#62-预置属性\n",
    "     \n",
    "     - index_leave\n",
    "     - nan \n",
    "     - $pageview\n",
    "     - btnClick \n",
    "     - demo_leave\n",
    "     - click_send_cellphone\n",
    "     - verify_cellphone_code \n",
    "     - clickSubmit\n",
    "     - about_leave\n",
    "     - courses_leave \n",
    "     - formSubmit \n",
    "     - page_close\n",
    "     - courses_play_leave\n",
    "     \n",
    "- jssdk_error    \n",
    "- lib: SDK类型，例如python、iOS等  \n",
    "- time  \n",
    "- type\n",
    "     - 'track'\n",
    "     - 'profile_set_once' 用户设置首次激活时间、首次注册时间等只在首次设置时有效的属性\n",
    "\n",
    "reference: 官网文档数据格式 https://www.sensorsdata.cn/manual/data_schema.html\n"
   ]
  },
  {
   "cell_type": "markdown",
   "metadata": {},
   "source": [
    "### 1. Read in data and save as pickle file"
   ]
  },
  {
   "cell_type": "code",
   "execution_count": 3,
   "metadata": {
    "collapsed": true
   },
   "outputs": [],
   "source": [
    "import json\n",
    "import pandas as pd\n",
    "import numpy as np\n",
    "import matplotlib.pyplot as plt\n",
    "% matplotlib inline\n",
    "plt.style.use(\"ggplot\")"
   ]
  },
  {
   "cell_type": "code",
   "execution_count": 4,
   "metadata": {
    "collapsed": true
   },
   "outputs": [],
   "source": [
    "filename = '/Users/zhanghaoyan/Documents/DS501/BitTiger-DS501-1702/Projects/神策数据/sensorswww_data.txt'"
   ]
  },
  {
   "cell_type": "code",
   "execution_count": 4,
   "metadata": {
    "collapsed": true
   },
   "outputs": [],
   "source": [
    "# time-cosuming: 30 mins\n",
    "with open(filename) as f:\n",
    "    i = 0\n",
    "    for line in f:\n",
    "        if i == 0:\n",
    "            l = json.loads(line)\n",
    "            l = pd.DataFrame.from_dict(l.items()).T\n",
    "            l.columns = l.iloc[0]\n",
    "            l.drop(l.index[0],inplace=True)\n",
    "            i +=1\n",
    "        else:\n",
    "            try:\n",
    "                ll = json.loads(line)\n",
    "                ll = pd.DataFrame.from_dict(ll.items()).T\n",
    "                ll.columns = ll.iloc[0]\n",
    "                ll.drop(ll.index[0],inplace=True)\n",
    "                l = l.append(ll, ignore_index=True)\n",
    "                i +=1\n",
    "            except:\n",
    "                print i, ll"
   ]
  },
  {
   "cell_type": "code",
   "execution_count": 117,
   "metadata": {},
   "outputs": [
    {
     "name": "stdout",
     "output_type": "stream",
     "text": [
      "<class 'pandas.core.frame.DataFrame'>\n",
      "RangeIndex: 51048 entries, 0 to 51047\n",
      "Data columns (total 8 columns):\n",
      "_nocache       51048 non-null object\n",
      "distinct_id    51048 non-null object\n",
      "event          44563 non-null object\n",
      "jssdk_error    33 non-null object\n",
      "lib            51048 non-null object\n",
      "properties     51048 non-null object\n",
      "time           51048 non-null object\n",
      "type           51048 non-null object\n",
      "dtypes: object(8)\n",
      "memory usage: 3.1+ MB\n"
     ]
    }
   ],
   "source": [
    "l.info()"
   ]
  },
  {
   "cell_type": "code",
   "execution_count": 113,
   "metadata": {
    "collapsed": true
   },
   "outputs": [],
   "source": [
    "# Use pickle rather than csv to maintain the structure of data eg. lib & properties as dict\n",
    "l.to_pickle('/Users/zhanghaoyan/Documents/DS501/BitTiger-DS501-1702/Projects/神策数据/sensor_data.pkl')"
   ]
  },
  {
   "cell_type": "code",
   "execution_count": 73,
   "metadata": {},
   "outputs": [
    {
     "data": {
      "text/plain": [
       "[u'$lib_version', u'$lib_method', u'$lib']"
      ]
     },
     "execution_count": 73,
     "metadata": {},
     "output_type": "execute_result"
    }
   ],
   "source": [
    "l.lib[0].keys()"
   ]
  },
  {
   "cell_type": "code",
   "execution_count": 108,
   "metadata": {},
   "outputs": [
    {
     "data": {
      "text/plain": [
       "[(u'$lib_version', u'1.6.20'), (u'$lib_method', u'code'), (u'$lib', u'js')]"
      ]
     },
     "execution_count": 108,
     "metadata": {},
     "output_type": "execute_result"
    }
   ],
   "source": [
    "l.lib[0].items()"
   ]
  },
  {
   "cell_type": "markdown",
   "metadata": {},
   "source": [
    "### More efficient ways"
   ]
  },
  {
   "cell_type": "code",
   "execution_count": 5,
   "metadata": {},
   "outputs": [
    {
     "name": "stdout",
     "output_type": "stream",
     "text": [
      "{u'lib': {u'$lib_version': u'1.6.20', u'$lib_method': u'code', u'$lib': u'js'}, u'event': u'$pageview', u'distinct_id': u'6eb424eb9273e65498c73af171ad22f378915e06', u'time': 1489319486833, u'_nocache': u'8762969147292', u'type': u'track', u'properties': {u'$latest_referrer': u'https://www.baidu.com/s', u'$screen_height': 1024, u'$browser': u'safari', u'$referrer': u'https://www.sensorsdata.cn/b-round.html', u'$lib': u'js', u'$latest_utm_source': u'baidu', u'_session_referrer': u'https://www.baidu.com/s', u'$is_first_time': False, u'$latest_utm_medium': u'cpc', u'$is_first_day': True, u'$os': u'iOS', u'$ip': u'111.200.18.74', u'$latest_referrer_host': u'www.baidu.com', u'$latest_utm_campaign': u'\\u901a\\u7528\\u8bcd', u'$url': u'https://www.sensorsdata.cn/index.html', u'$os_version': u'10.2', u'$title': u'\\u795e\\u7b56\\u6570\\u636e | Sensors Data - \\u56fd\\u5185\\u9886\\u5148\\u7684\\u7528\\u6237\\u884c\\u4e3a\\u5206\\u6790\\u4ea7\\u54c1', u'$latest_utm_content': u'\\u901a\\u7528-\\u6570\\u636e\\u5206\\u6790-\\u884c\\u4e1a', u'$lib_version': u'1.6.20', u'session_page_url': u'https://www.sensorsdata.cn/?utm_source=baidu&utm_medium=cpc&utm_term=app%E6%95%B0%E6%8D%AE%E5%88%86%E6%9E%90&utm_content=%E9%80%9A%E7%94%A8%2D%E6%95%B0%E6%8D%AE%E5%88%86%E6%9E%90%2D%E8%A1%8C%E4%B8%9A&utm_campaign=%E9%80%9A%E7%94%A8%E8%AF%8D', u'_session_referrer_host': u'www.baidu.com', u'$screen_width': 768, u'$latest_utm_term': u'app\\u6570\\u636e\\u5206\\u6790', u'$model': u'ipad', u'$browser_version': u'10', u'$referrer_host': u'www.sensorsdata.cn', u'$url_path': u'/index.html'}}\n"
     ]
    }
   ],
   "source": [
    "# import data as list of dict\n",
    "ll = list()\n",
    "with open(filename) as f:\n",
    "    for line in f:\n",
    "        try:\n",
    "            l = json.loads(line, encoding='utf-8')\n",
    "            ll.append(l)\n",
    "        except:\n",
    "            print l"
   ]
  },
  {
   "cell_type": "code",
   "execution_count": 6,
   "metadata": {
    "collapsed": true
   },
   "outputs": [],
   "source": [
    "# append dict together\n",
    "colname = ll[0].keys()\n",
    "dic = {x:[] for x in colname}\n",
    "for i in colname:\n",
    "    for j in xrange(len(ll)):\n",
    "        try:\n",
    "            dic[i].append(ll[j][i])\n",
    "        except:\n",
    "            dic[i].append(np.nan)\n",
    "            \n",
    "# transform dict to dataframe\n",
    "df = pd.DataFrame.from_dict(dic)"
   ]
  },
  {
   "cell_type": "markdown",
   "metadata": {},
   "source": [
    "### Use json normalize "
   ]
  },
  {
   "cell_type": "code",
   "execution_count": 7,
   "metadata": {
    "collapsed": true
   },
   "outputs": [],
   "source": [
    "from pandas.io.json import json_normalize"
   ]
  },
  {
   "cell_type": "code",
   "execution_count": 8,
   "metadata": {
    "collapsed": true
   },
   "outputs": [],
   "source": [
    "result = json_normalize(ll)"
   ]
  },
  {
   "cell_type": "code",
   "execution_count": 10,
   "metadata": {
    "collapsed": true
   },
   "outputs": [],
   "source": [
    "result.to_csv('/Users/zhanghaoyan/Documents/DS501/BitTiger-DS501-1702/Projects/神策数据/sensor_data_result.csv',index=False, encoding='utf-8')"
   ]
  },
  {
   "cell_type": "code",
   "execution_count": 11,
   "metadata": {},
   "outputs": [
    {
     "name": "stdout",
     "output_type": "stream",
     "text": [
      "<class 'pandas.core.frame.DataFrame'>\n",
      "RangeIndex: 51048 entries, 0 to 51047\n",
      "Data columns (total 70 columns):\n",
      "_nocache                               51048 non-null object\n",
      "distinct_id                            51048 non-null object\n",
      "event                                  44563 non-null object\n",
      "jssdk_error                            33 non-null object\n",
      "lib.$lib                               51048 non-null object\n",
      "lib.$lib_method                        51048 non-null object\n",
      "lib.$lib_version                       51048 non-null object\n",
      "properties.$browser                    44563 non-null object\n",
      "properties.$browser_version            44563 non-null object\n",
      "properties.$first_browser_language     6289 non-null object\n",
      "properties.$first_referrer             6485 non-null object\n",
      "properties.$first_referrer_host        6485 non-null object\n",
      "properties.$first_visit_time           6485 non-null object\n",
      "properties.$ip                         44563 non-null object\n",
      "properties.$is_first_day               44563 non-null object\n",
      "properties.$is_first_time              44563 non-null object\n",
      "properties.$latest_referrer            44284 non-null object\n",
      "properties.$latest_referrer_host       44284 non-null object\n",
      "properties.$latest_utm_campaign        27253 non-null object\n",
      "properties.$latest_utm_content         26552 non-null object\n",
      "properties.$latest_utm_medium          27206 non-null object\n",
      "properties.$latest_utm_source          27649 non-null object\n",
      "properties.$latest_utm_term            26828 non-null object\n",
      "properties.$lib                        44563 non-null object\n",
      "properties.$lib_version                44563 non-null object\n",
      "properties.$model                      44563 non-null object\n",
      "properties.$os                         44563 non-null object\n",
      "properties.$os_version                 44563 non-null object\n",
      "properties.$referrer                   22037 non-null object\n",
      "properties.$referrer_host              22037 non-null object\n",
      "properties.$screen_height              44563 non-null float64\n",
      "properties.$screen_width               44563 non-null float64\n",
      "properties.$title                      22037 non-null object\n",
      "properties.$url                        22037 non-null object\n",
      "properties.$url_path                   22037 non-null object\n",
      "properties.$utm_campaign               9694 non-null object\n",
      "properties.$utm_content                9600 non-null object\n",
      "properties.$utm_medium                 9691 non-null object\n",
      "properties.$utm_source                 9766 non-null object\n",
      "properties.$utm_term                   9622 non-null object\n",
      "properties._latest_ch                  5642 non-null object\n",
      "properties._session_from_url           66 non-null object\n",
      "properties._session_referrer           42876 non-null object\n",
      "properties._session_referrer_domain    68 non-null object\n",
      "properties._session_referrer_host      42872 non-null object\n",
      "properties.ch                          400 non-null object\n",
      "properties.company                     888 non-null object\n",
      "properties.contact                     888 non-null object\n",
      "properties.email                       888 non-null object\n",
      "properties.from_url                    666 non-null object\n",
      "properties.info                        772 non-null object\n",
      "properties.isMsg                       313 non-null object\n",
      "properties.isSuccess                   535 non-null object\n",
      "properties.name                        10282 non-null object\n",
      "properties.page                        7994 non-null object\n",
      "properties.pagePosition                11334 non-null float64\n",
      "properties.pageStayTime                11472 non-null float64\n",
      "properties.pageUrl                     20728 non-null object\n",
      "properties.project_name                1672 non-null object\n",
      "properties.referrHostUrl               313 non-null object\n",
      "properties.referrerUrl                 313 non-null object\n",
      "properties.requestBtn                  2962 non-null object\n",
      "properties.result                      772 non-null object\n",
      "properties.session_page_url            42656 non-null object\n",
      "properties.siteUrl                     313 non-null object\n",
      "properties.site_url                    666 non-null object\n",
      "properties.url_path                    138 non-null object\n",
      "properties.verification_code           888 non-null object\n",
      "time                                   51048 non-null int64\n",
      "type                                   51048 non-null object\n",
      "dtypes: float64(4), int64(1), object(65)\n",
      "memory usage: 27.3+ MB\n"
     ]
    }
   ],
   "source": [
    "result.info()"
   ]
  },
  {
   "cell_type": "markdown",
   "metadata": {},
   "source": [
    "### 2. Load dataset  and explore it"
   ]
  },
  {
   "cell_type": "code",
   "execution_count": 20,
   "metadata": {
    "collapsed": true
   },
   "outputs": [],
   "source": [
    "df = pd.read_csv('/Users/zhanghaoyan/Documents/DS501/BitTiger-DS501-1702/Projects/神策数据/sensor_data_result.csv')"
   ]
  },
  {
   "cell_type": "code",
   "execution_count": 51,
   "metadata": {},
   "outputs": [
    {
     "data": {
      "text/plain": [
       "Index([u'_nocache', u'distinct_id', u'event', u'jssdk_error', u'lib.$lib',\n",
       "       u'lib.$lib_method', u'lib.$lib_version', u'properties.$browser',\n",
       "       u'properties.$browser_version', u'properties.$first_browser_language',\n",
       "       u'properties.$first_referrer', u'properties.$first_referrer_host',\n",
       "       u'properties.$first_visit_time', u'properties.$ip',\n",
       "       u'properties.$is_first_day', u'properties.$is_first_time',\n",
       "       u'properties.$latest_referrer', u'properties.$latest_referrer_host',\n",
       "       u'properties.$latest_utm_campaign', u'properties.$latest_utm_content',\n",
       "       u'properties.$latest_utm_medium', u'properties.$latest_utm_source',\n",
       "       u'properties.$latest_utm_term', u'properties.$lib',\n",
       "       u'properties.$lib_version', u'properties.$model', u'properties.$os',\n",
       "       u'properties.$os_version', u'properties.$referrer',\n",
       "       u'properties.$referrer_host', u'properties.$screen_height',\n",
       "       u'properties.$screen_width', u'properties.$title', u'properties.$url',\n",
       "       u'properties.$url_path', u'properties.$utm_campaign',\n",
       "       u'properties.$utm_content', u'properties.$utm_medium',\n",
       "       u'properties.$utm_source', u'properties.$utm_term',\n",
       "       u'properties._latest_ch', u'properties._session_from_url',\n",
       "       u'properties._session_referrer', u'properties._session_referrer_domain',\n",
       "       u'properties._session_referrer_host', u'properties.ch',\n",
       "       u'properties.company', u'properties.contact', u'properties.email',\n",
       "       u'properties.from_url', u'properties.info', u'properties.isMsg',\n",
       "       u'properties.isSuccess', u'properties.name', u'properties.page',\n",
       "       u'properties.pagePosition', u'properties.pageStayTime',\n",
       "       u'properties.pageUrl', u'properties.project_name',\n",
       "       u'properties.referrHostUrl', u'properties.referrerUrl',\n",
       "       u'properties.requestBtn', u'properties.result',\n",
       "       u'properties.session_page_url', u'properties.siteUrl',\n",
       "       u'properties.site_url', u'properties.url_path',\n",
       "       u'properties.verification_code', u'time', u'type'],\n",
       "      dtype='object')"
      ]
     },
     "execution_count": 51,
     "metadata": {},
     "output_type": "execute_result"
    }
   ],
   "source": [
    "df.columns"
   ]
  },
  {
   "cell_type": "code",
   "execution_count": 14,
   "metadata": {},
   "outputs": [
    {
     "name": "stdout",
     "output_type": "stream",
     "text": [
      "<class 'pandas.core.frame.DataFrame'>\n",
      "RangeIndex: 51048 entries, 0 to 51047\n",
      "Data columns (total 70 columns):\n",
      "_nocache                               51048 non-null int64\n",
      "distinct_id                            51048 non-null object\n",
      "event                                  44563 non-null object\n",
      "jssdk_error                            33 non-null object\n",
      "lib.$lib                               51048 non-null object\n",
      "lib.$lib_method                        51048 non-null object\n",
      "lib.$lib_version                       51048 non-null object\n",
      "properties.$browser                    44563 non-null object\n",
      "properties.$browser_version            44563 non-null float64\n",
      "properties.$first_browser_language     6289 non-null object\n",
      "properties.$first_referrer             4728 non-null object\n",
      "properties.$first_referrer_host        4728 non-null object\n",
      "properties.$first_visit_time           6485 non-null object\n",
      "properties.$ip                         44563 non-null object\n",
      "properties.$is_first_day               44563 non-null object\n",
      "properties.$is_first_time              44563 non-null object\n",
      "properties.$latest_referrer            28149 non-null object\n",
      "properties.$latest_referrer_host       28149 non-null object\n",
      "properties.$latest_utm_campaign        27253 non-null object\n",
      "properties.$latest_utm_content         26552 non-null object\n",
      "properties.$latest_utm_medium          27206 non-null object\n",
      "properties.$latest_utm_source          27649 non-null object\n",
      "properties.$latest_utm_term            26828 non-null object\n",
      "properties.$lib                        44563 non-null object\n",
      "properties.$lib_version                44563 non-null object\n",
      "properties.$model                      44563 non-null object\n",
      "properties.$os                         44563 non-null object\n",
      "properties.$os_version                 44563 non-null float64\n",
      "properties.$referrer                   17406 non-null object\n",
      "properties.$referrer_host              17406 non-null object\n",
      "properties.$screen_height              44563 non-null float64\n",
      "properties.$screen_width               44563 non-null float64\n",
      "properties.$title                      22037 non-null object\n",
      "properties.$url                        22037 non-null object\n",
      "properties.$url_path                   22037 non-null object\n",
      "properties.$utm_campaign               9694 non-null object\n",
      "properties.$utm_content                9600 non-null object\n",
      "properties.$utm_medium                 9691 non-null object\n",
      "properties.$utm_source                 9766 non-null object\n",
      "properties.$utm_term                   9622 non-null object\n",
      "properties._latest_ch                  5642 non-null object\n",
      "properties._session_from_url           66 non-null object\n",
      "properties._session_referrer           32483 non-null object\n",
      "properties._session_referrer_domain    28 non-null object\n",
      "properties._session_referrer_host      32466 non-null object\n",
      "properties.ch                          400 non-null object\n",
      "properties.company                     751 non-null object\n",
      "properties.contact                     851 non-null object\n",
      "properties.email                       748 non-null object\n",
      "properties.from_url                    562 non-null object\n",
      "properties.info                        738 non-null object\n",
      "properties.isMsg                       313 non-null object\n",
      "properties.isSuccess                   535 non-null object\n",
      "properties.name                        10250 non-null object\n",
      "properties.page                        7994 non-null object\n",
      "properties.pagePosition                11334 non-null float64\n",
      "properties.pageStayTime                11472 non-null float64\n",
      "properties.pageUrl                     20728 non-null object\n",
      "properties.project_name                1672 non-null object\n",
      "properties.referrHostUrl               184 non-null object\n",
      "properties.referrerUrl                 184 non-null object\n",
      "properties.requestBtn                  2962 non-null float64\n",
      "properties.result                      772 non-null object\n",
      "properties.session_page_url            42656 non-null object\n",
      "properties.siteUrl                     313 non-null object\n",
      "properties.site_url                    666 non-null object\n",
      "properties.url_path                    138 non-null object\n",
      "properties.verification_code           828 non-null object\n",
      "time                                   51048 non-null int64\n",
      "type                                   51048 non-null object\n",
      "dtypes: float64(7), int64(2), object(61)\n",
      "memory usage: 27.3+ MB\n"
     ]
    }
   ],
   "source": [
    "df.info()"
   ]
  },
  {
   "cell_type": "code",
   "execution_count": 17,
   "metadata": {
    "scrolled": true
   },
   "outputs": [
    {
     "data": {
      "text/html": [
       "<div>\n",
       "<style>\n",
       "    .dataframe thead tr:only-child th {\n",
       "        text-align: right;\n",
       "    }\n",
       "\n",
       "    .dataframe thead th {\n",
       "        text-align: left;\n",
       "    }\n",
       "\n",
       "    .dataframe tbody tr th {\n",
       "        vertical-align: top;\n",
       "    }\n",
       "</style>\n",
       "<table border=\"1\" class=\"dataframe\">\n",
       "  <thead>\n",
       "    <tr style=\"text-align: right;\">\n",
       "      <th></th>\n",
       "      <th>_nocache</th>\n",
       "      <th>distinct_id</th>\n",
       "      <th>event</th>\n",
       "      <th>jssdk_error</th>\n",
       "      <th>lib.$lib</th>\n",
       "      <th>lib.$lib_method</th>\n",
       "      <th>lib.$lib_version</th>\n",
       "      <th>properties.$browser</th>\n",
       "      <th>properties.$browser_version</th>\n",
       "      <th>properties.$first_browser_language</th>\n",
       "      <th>...</th>\n",
       "      <th>properties.referrerUrl</th>\n",
       "      <th>properties.requestBtn</th>\n",
       "      <th>properties.result</th>\n",
       "      <th>properties.session_page_url</th>\n",
       "      <th>properties.siteUrl</th>\n",
       "      <th>properties.site_url</th>\n",
       "      <th>properties.url_path</th>\n",
       "      <th>properties.verification_code</th>\n",
       "      <th>time</th>\n",
       "      <th>type</th>\n",
       "    </tr>\n",
       "  </thead>\n",
       "  <tbody>\n",
       "    <tr>\n",
       "      <th>0</th>\n",
       "      <td>654392402996</td>\n",
       "      <td>595466e9a8e733434ce08de16e927d985e0b5d48</td>\n",
       "      <td>index_leave</td>\n",
       "      <td>NaN</td>\n",
       "      <td>js</td>\n",
       "      <td>code</td>\n",
       "      <td>1.6.20</td>\n",
       "      <td>chrome</td>\n",
       "      <td>56.0</td>\n",
       "      <td>NaN</td>\n",
       "      <td>...</td>\n",
       "      <td>NaN</td>\n",
       "      <td>NaN</td>\n",
       "      <td>NaN</td>\n",
       "      <td>https://www.sensorsdata.cn/?utm_source=baidu&amp;u...</td>\n",
       "      <td>NaN</td>\n",
       "      <td>NaN</td>\n",
       "      <td>NaN</td>\n",
       "      <td>NaN</td>\n",
       "      <td>2017-03-06 17:04:07.953000+08:00</td>\n",
       "      <td>track</td>\n",
       "    </tr>\n",
       "    <tr>\n",
       "      <th>1</th>\n",
       "      <td>3040562711955</td>\n",
       "      <td>9939d3e087bca29c42334d96dccd25ca0e06652a</td>\n",
       "      <td>NaN</td>\n",
       "      <td>NaN</td>\n",
       "      <td>js</td>\n",
       "      <td>code</td>\n",
       "      <td>1.6.20</td>\n",
       "      <td>NaN</td>\n",
       "      <td>NaN</td>\n",
       "      <td>zh-CN</td>\n",
       "      <td>...</td>\n",
       "      <td>NaN</td>\n",
       "      <td>NaN</td>\n",
       "      <td>NaN</td>\n",
       "      <td>NaN</td>\n",
       "      <td>NaN</td>\n",
       "      <td>NaN</td>\n",
       "      <td>NaN</td>\n",
       "      <td>NaN</td>\n",
       "      <td>1490958296645</td>\n",
       "      <td>profile_set_once</td>\n",
       "    </tr>\n",
       "    <tr>\n",
       "      <th>2</th>\n",
       "      <td>9587552771961</td>\n",
       "      <td>9939d3e087bca29c42334d96dccd25ca0e06652a</td>\n",
       "      <td>$pageview</td>\n",
       "      <td>NaN</td>\n",
       "      <td>js</td>\n",
       "      <td>code</td>\n",
       "      <td>1.6.20</td>\n",
       "      <td>chrome</td>\n",
       "      <td>56.0</td>\n",
       "      <td>NaN</td>\n",
       "      <td>...</td>\n",
       "      <td>NaN</td>\n",
       "      <td>NaN</td>\n",
       "      <td>NaN</td>\n",
       "      <td>https://sensorsdata.cn/?ch=demo</td>\n",
       "      <td>NaN</td>\n",
       "      <td>NaN</td>\n",
       "      <td>NaN</td>\n",
       "      <td>NaN</td>\n",
       "      <td>1488791050856</td>\n",
       "      <td>track</td>\n",
       "    </tr>\n",
       "    <tr>\n",
       "      <th>3</th>\n",
       "      <td>652937076129</td>\n",
       "      <td>9939d3e087bca29c42334d96dccd25ca0e06652a</td>\n",
       "      <td>btnClick</td>\n",
       "      <td>NaN</td>\n",
       "      <td>js</td>\n",
       "      <td>code</td>\n",
       "      <td>1.6.20</td>\n",
       "      <td>chrome</td>\n",
       "      <td>56.0</td>\n",
       "      <td>NaN</td>\n",
       "      <td>...</td>\n",
       "      <td>NaN</td>\n",
       "      <td>2.0</td>\n",
       "      <td>NaN</td>\n",
       "      <td>https://sensorsdata.cn/?ch=demo</td>\n",
       "      <td>NaN</td>\n",
       "      <td>NaN</td>\n",
       "      <td>NaN</td>\n",
       "      <td>NaN</td>\n",
       "      <td>1488791051772</td>\n",
       "      <td>track</td>\n",
       "    </tr>\n",
       "    <tr>\n",
       "      <th>4</th>\n",
       "      <td>8207407748558</td>\n",
       "      <td>9939d3e087bca29c42334d96dccd25ca0e06652a</td>\n",
       "      <td>btnClick</td>\n",
       "      <td>NaN</td>\n",
       "      <td>js</td>\n",
       "      <td>code</td>\n",
       "      <td>1.6.20</td>\n",
       "      <td>chrome</td>\n",
       "      <td>56.0</td>\n",
       "      <td>NaN</td>\n",
       "      <td>...</td>\n",
       "      <td>NaN</td>\n",
       "      <td>2.0</td>\n",
       "      <td>NaN</td>\n",
       "      <td>https://sensorsdata.cn/?ch=demo</td>\n",
       "      <td>NaN</td>\n",
       "      <td>NaN</td>\n",
       "      <td>NaN</td>\n",
       "      <td>NaN</td>\n",
       "      <td>1488791056032</td>\n",
       "      <td>track</td>\n",
       "    </tr>\n",
       "  </tbody>\n",
       "</table>\n",
       "<p>5 rows × 70 columns</p>\n",
       "</div>"
      ],
      "text/plain": [
       "        _nocache                               distinct_id        event  \\\n",
       "0   654392402996  595466e9a8e733434ce08de16e927d985e0b5d48  index_leave   \n",
       "1  3040562711955  9939d3e087bca29c42334d96dccd25ca0e06652a          NaN   \n",
       "2  9587552771961  9939d3e087bca29c42334d96dccd25ca0e06652a    $pageview   \n",
       "3   652937076129  9939d3e087bca29c42334d96dccd25ca0e06652a     btnClick   \n",
       "4  8207407748558  9939d3e087bca29c42334d96dccd25ca0e06652a     btnClick   \n",
       "\n",
       "  jssdk_error lib.$lib lib.$lib_method lib.$lib_version properties.$browser  \\\n",
       "0         NaN       js            code           1.6.20              chrome   \n",
       "1         NaN       js            code           1.6.20                 NaN   \n",
       "2         NaN       js            code           1.6.20              chrome   \n",
       "3         NaN       js            code           1.6.20              chrome   \n",
       "4         NaN       js            code           1.6.20              chrome   \n",
       "\n",
       "   properties.$browser_version properties.$first_browser_language  \\\n",
       "0                         56.0                                NaN   \n",
       "1                          NaN                              zh-CN   \n",
       "2                         56.0                                NaN   \n",
       "3                         56.0                                NaN   \n",
       "4                         56.0                                NaN   \n",
       "\n",
       "         ...        properties.referrerUrl properties.requestBtn  \\\n",
       "0        ...                           NaN                   NaN   \n",
       "1        ...                           NaN                   NaN   \n",
       "2        ...                           NaN                   NaN   \n",
       "3        ...                           NaN                   2.0   \n",
       "4        ...                           NaN                   2.0   \n",
       "\n",
       "  properties.result                        properties.session_page_url  \\\n",
       "0               NaN  https://www.sensorsdata.cn/?utm_source=baidu&u...   \n",
       "1               NaN                                                NaN   \n",
       "2               NaN                    https://sensorsdata.cn/?ch=demo   \n",
       "3               NaN                    https://sensorsdata.cn/?ch=demo   \n",
       "4               NaN                    https://sensorsdata.cn/?ch=demo   \n",
       "\n",
       "  properties.siteUrl properties.site_url properties.url_path  \\\n",
       "0                NaN                 NaN                 NaN   \n",
       "1                NaN                 NaN                 NaN   \n",
       "2                NaN                 NaN                 NaN   \n",
       "3                NaN                 NaN                 NaN   \n",
       "4                NaN                 NaN                 NaN   \n",
       "\n",
       "  properties.verification_code                              time  \\\n",
       "0                          NaN  2017-03-06 17:04:07.953000+08:00   \n",
       "1                          NaN                     1490958296645   \n",
       "2                          NaN                     1488791050856   \n",
       "3                          NaN                     1488791051772   \n",
       "4                          NaN                     1488791056032   \n",
       "\n",
       "               type  \n",
       "0             track  \n",
       "1  profile_set_once  \n",
       "2             track  \n",
       "3             track  \n",
       "4             track  \n",
       "\n",
       "[5 rows x 70 columns]"
      ]
     },
     "execution_count": 17,
     "metadata": {},
     "output_type": "execute_result"
    }
   ],
   "source": [
    "df.head()"
   ]
  },
  {
   "cell_type": "markdown",
   "metadata": {},
   "source": [
    "    Convert the time into timestamp and convert it into Asia/Shanghai timezone"
   ]
  },
  {
   "cell_type": "code",
   "execution_count": 21,
   "metadata": {
    "collapsed": true
   },
   "outputs": [],
   "source": [
    "time = pd.to_datetime(df['time'],unit = 'ms',utc=True)\n",
    "# # Check the timezone name\n",
    "# import pytz\n",
    "# pytz.country_timezones('CN')\n",
    "for i,_ in enumerate(time):\n",
    "    df.loc[i,'time'] = time[i].tz_localize('UTC').tz_convert('Asia/Shanghai')"
   ]
  },
  {
   "cell_type": "code",
   "execution_count": 395,
   "metadata": {},
   "outputs": [
    {
     "data": {
      "text/html": [
       "<div>\n",
       "<style>\n",
       "    .dataframe thead tr:only-child th {\n",
       "        text-align: right;\n",
       "    }\n",
       "\n",
       "    .dataframe thead th {\n",
       "        text-align: left;\n",
       "    }\n",
       "\n",
       "    .dataframe tbody tr th {\n",
       "        vertical-align: top;\n",
       "    }\n",
       "</style>\n",
       "<table border=\"1\" class=\"dataframe\">\n",
       "  <thead>\n",
       "    <tr style=\"text-align: right;\">\n",
       "      <th></th>\n",
       "      <th>_nocache</th>\n",
       "      <th>distinct_id</th>\n",
       "      <th>event</th>\n",
       "      <th>jssdk_error</th>\n",
       "      <th>lib.$lib</th>\n",
       "      <th>lib.$lib_method</th>\n",
       "      <th>lib.$lib_version</th>\n",
       "      <th>properties.$browser</th>\n",
       "      <th>properties.$browser_version</th>\n",
       "      <th>properties.$first_browser_language</th>\n",
       "      <th>...</th>\n",
       "      <th>properties.referrerUrl</th>\n",
       "      <th>properties.requestBtn</th>\n",
       "      <th>properties.result</th>\n",
       "      <th>properties.session_page_url</th>\n",
       "      <th>properties.siteUrl</th>\n",
       "      <th>properties.site_url</th>\n",
       "      <th>properties.url_path</th>\n",
       "      <th>properties.verification_code</th>\n",
       "      <th>time</th>\n",
       "      <th>type</th>\n",
       "    </tr>\n",
       "  </thead>\n",
       "  <tbody>\n",
       "    <tr>\n",
       "      <th>0</th>\n",
       "      <td>0654392402996</td>\n",
       "      <td>595466e9a8e733434ce08de16e927d985e0b5d48</td>\n",
       "      <td>index_leave</td>\n",
       "      <td>NaN</td>\n",
       "      <td>js</td>\n",
       "      <td>code</td>\n",
       "      <td>1.6.20</td>\n",
       "      <td>chrome</td>\n",
       "      <td>56</td>\n",
       "      <td>NaN</td>\n",
       "      <td>...</td>\n",
       "      <td>NaN</td>\n",
       "      <td>NaN</td>\n",
       "      <td>NaN</td>\n",
       "      <td>https://www.sensorsdata.cn/?utm_source=baidu&amp;u...</td>\n",
       "      <td>NaN</td>\n",
       "      <td>NaN</td>\n",
       "      <td>NaN</td>\n",
       "      <td>NaN</td>\n",
       "      <td>2017-03-06 17:04:07.953000+08:00</td>\n",
       "      <td>track</td>\n",
       "    </tr>\n",
       "    <tr>\n",
       "      <th>1</th>\n",
       "      <td>3040562711955</td>\n",
       "      <td>9939d3e087bca29c42334d96dccd25ca0e06652a</td>\n",
       "      <td>NaN</td>\n",
       "      <td>NaN</td>\n",
       "      <td>js</td>\n",
       "      <td>code</td>\n",
       "      <td>1.6.20</td>\n",
       "      <td>NaN</td>\n",
       "      <td>NaN</td>\n",
       "      <td>zh-CN</td>\n",
       "      <td>...</td>\n",
       "      <td>NaN</td>\n",
       "      <td>NaN</td>\n",
       "      <td>NaN</td>\n",
       "      <td>NaN</td>\n",
       "      <td>NaN</td>\n",
       "      <td>NaN</td>\n",
       "      <td>NaN</td>\n",
       "      <td>NaN</td>\n",
       "      <td>2017-03-31 19:04:56.645000+08:00</td>\n",
       "      <td>profile_set_once</td>\n",
       "    </tr>\n",
       "    <tr>\n",
       "      <th>2</th>\n",
       "      <td>9587552771961</td>\n",
       "      <td>9939d3e087bca29c42334d96dccd25ca0e06652a</td>\n",
       "      <td>$pageview</td>\n",
       "      <td>NaN</td>\n",
       "      <td>js</td>\n",
       "      <td>code</td>\n",
       "      <td>1.6.20</td>\n",
       "      <td>chrome</td>\n",
       "      <td>56</td>\n",
       "      <td>NaN</td>\n",
       "      <td>...</td>\n",
       "      <td>NaN</td>\n",
       "      <td>NaN</td>\n",
       "      <td>NaN</td>\n",
       "      <td>https://sensorsdata.cn/?ch=demo</td>\n",
       "      <td>NaN</td>\n",
       "      <td>NaN</td>\n",
       "      <td>NaN</td>\n",
       "      <td>NaN</td>\n",
       "      <td>2017-03-06 17:04:10.856000+08:00</td>\n",
       "      <td>track</td>\n",
       "    </tr>\n",
       "    <tr>\n",
       "      <th>3</th>\n",
       "      <td>0652937076129</td>\n",
       "      <td>9939d3e087bca29c42334d96dccd25ca0e06652a</td>\n",
       "      <td>btnClick</td>\n",
       "      <td>NaN</td>\n",
       "      <td>js</td>\n",
       "      <td>code</td>\n",
       "      <td>1.6.20</td>\n",
       "      <td>chrome</td>\n",
       "      <td>56</td>\n",
       "      <td>NaN</td>\n",
       "      <td>...</td>\n",
       "      <td>NaN</td>\n",
       "      <td>2</td>\n",
       "      <td>NaN</td>\n",
       "      <td>https://sensorsdata.cn/?ch=demo</td>\n",
       "      <td>NaN</td>\n",
       "      <td>NaN</td>\n",
       "      <td>NaN</td>\n",
       "      <td>NaN</td>\n",
       "      <td>2017-03-06 17:04:11.772000+08:00</td>\n",
       "      <td>track</td>\n",
       "    </tr>\n",
       "    <tr>\n",
       "      <th>4</th>\n",
       "      <td>8207407748558</td>\n",
       "      <td>9939d3e087bca29c42334d96dccd25ca0e06652a</td>\n",
       "      <td>btnClick</td>\n",
       "      <td>NaN</td>\n",
       "      <td>js</td>\n",
       "      <td>code</td>\n",
       "      <td>1.6.20</td>\n",
       "      <td>chrome</td>\n",
       "      <td>56</td>\n",
       "      <td>NaN</td>\n",
       "      <td>...</td>\n",
       "      <td>NaN</td>\n",
       "      <td>2</td>\n",
       "      <td>NaN</td>\n",
       "      <td>https://sensorsdata.cn/?ch=demo</td>\n",
       "      <td>NaN</td>\n",
       "      <td>NaN</td>\n",
       "      <td>NaN</td>\n",
       "      <td>NaN</td>\n",
       "      <td>2017-03-06 17:04:16.032000+08:00</td>\n",
       "      <td>track</td>\n",
       "    </tr>\n",
       "  </tbody>\n",
       "</table>\n",
       "<p>5 rows × 70 columns</p>\n",
       "</div>"
      ],
      "text/plain": [
       "        _nocache                               distinct_id        event  \\\n",
       "0  0654392402996  595466e9a8e733434ce08de16e927d985e0b5d48  index_leave   \n",
       "1  3040562711955  9939d3e087bca29c42334d96dccd25ca0e06652a          NaN   \n",
       "2  9587552771961  9939d3e087bca29c42334d96dccd25ca0e06652a    $pageview   \n",
       "3  0652937076129  9939d3e087bca29c42334d96dccd25ca0e06652a     btnClick   \n",
       "4  8207407748558  9939d3e087bca29c42334d96dccd25ca0e06652a     btnClick   \n",
       "\n",
       "  jssdk_error lib.$lib lib.$lib_method lib.$lib_version properties.$browser  \\\n",
       "0         NaN       js            code           1.6.20              chrome   \n",
       "1         NaN       js            code           1.6.20                 NaN   \n",
       "2         NaN       js            code           1.6.20              chrome   \n",
       "3         NaN       js            code           1.6.20              chrome   \n",
       "4         NaN       js            code           1.6.20              chrome   \n",
       "\n",
       "  properties.$browser_version properties.$first_browser_language  \\\n",
       "0                          56                                NaN   \n",
       "1                         NaN                              zh-CN   \n",
       "2                          56                                NaN   \n",
       "3                          56                                NaN   \n",
       "4                          56                                NaN   \n",
       "\n",
       "         ...        properties.referrerUrl properties.requestBtn  \\\n",
       "0        ...                           NaN                   NaN   \n",
       "1        ...                           NaN                   NaN   \n",
       "2        ...                           NaN                   NaN   \n",
       "3        ...                           NaN                     2   \n",
       "4        ...                           NaN                     2   \n",
       "\n",
       "  properties.result                        properties.session_page_url  \\\n",
       "0               NaN  https://www.sensorsdata.cn/?utm_source=baidu&u...   \n",
       "1               NaN                                                NaN   \n",
       "2               NaN                    https://sensorsdata.cn/?ch=demo   \n",
       "3               NaN                    https://sensorsdata.cn/?ch=demo   \n",
       "4               NaN                    https://sensorsdata.cn/?ch=demo   \n",
       "\n",
       "  properties.siteUrl properties.site_url properties.url_path  \\\n",
       "0                NaN                 NaN                 NaN   \n",
       "1                NaN                 NaN                 NaN   \n",
       "2                NaN                 NaN                 NaN   \n",
       "3                NaN                 NaN                 NaN   \n",
       "4                NaN                 NaN                 NaN   \n",
       "\n",
       "  properties.verification_code                              time  \\\n",
       "0                          NaN  2017-03-06 17:04:07.953000+08:00   \n",
       "1                          NaN  2017-03-31 19:04:56.645000+08:00   \n",
       "2                          NaN  2017-03-06 17:04:10.856000+08:00   \n",
       "3                          NaN  2017-03-06 17:04:11.772000+08:00   \n",
       "4                          NaN  2017-03-06 17:04:16.032000+08:00   \n",
       "\n",
       "               type  \n",
       "0             track  \n",
       "1  profile_set_once  \n",
       "2             track  \n",
       "3             track  \n",
       "4             track  \n",
       "\n",
       "[5 rows x 70 columns]"
      ]
     },
     "execution_count": 395,
     "metadata": {},
     "output_type": "execute_result"
    }
   ],
   "source": [
    "df.head()"
   ]
  },
  {
   "cell_type": "markdown",
   "metadata": {},
   "source": [
    "### Go through variables"
   ]
  },
  {
   "cell_type": "markdown",
   "metadata": {},
   "source": [
    "    1. _nocache"
   ]
  },
  {
   "cell_type": "code",
   "execution_count": 39,
   "metadata": {},
   "outputs": [
    {
     "data": {
      "text/plain": [
       "(51023, 51048)"
      ]
     },
     "execution_count": 39,
     "metadata": {},
     "output_type": "execute_result"
    }
   ],
   "source": [
    "df._nocache.unique().size, df._nocache.size # 25 value are repeated"
   ]
  },
  {
   "cell_type": "code",
   "execution_count": 311,
   "metadata": {
    "collapsed": true
   },
   "outputs": [],
   "source": [
    "dup_noncache=(df.groupby('_nocache')['_nocache'].count()>1).index.values[df.groupby('_nocache')['_nocache'].count()>1]\n",
    "# 8 _nocache which has duplicate values\n",
    "m = []\n",
    "for i, j in enumerate(dup_noncache):\n",
    "    m.append(df.loc[df['_nocache']== j,'distinct_id'])\n",
    "flat_list = [item for sublist in m for item in sublist]\n",
    "dup_distinct_id = set(flat_list) # 11 distinct_id"
   ]
  },
  {
   "cell_type": "code",
   "execution_count": 328,
   "metadata": {},
   "outputs": [
    {
     "data": {
      "text/html": [
       "<div>\n",
       "<style>\n",
       "    .dataframe thead tr:only-child th {\n",
       "        text-align: right;\n",
       "    }\n",
       "\n",
       "    .dataframe thead th {\n",
       "        text-align: left;\n",
       "    }\n",
       "\n",
       "    .dataframe tbody tr th {\n",
       "        vertical-align: top;\n",
       "    }\n",
       "</style>\n",
       "<table border=\"1\" class=\"dataframe\">\n",
       "  <thead>\n",
       "    <tr style=\"text-align: right;\">\n",
       "      <th></th>\n",
       "      <th>_nocache</th>\n",
       "      <th>distinct_id</th>\n",
       "      <th>event</th>\n",
       "      <th>jssdk_error</th>\n",
       "      <th>lib.$lib</th>\n",
       "      <th>lib.$lib_method</th>\n",
       "      <th>lib.$lib_version</th>\n",
       "      <th>properties.$browser</th>\n",
       "      <th>properties.$browser_version</th>\n",
       "      <th>properties.$first_browser_language</th>\n",
       "      <th>...</th>\n",
       "      <th>properties.referrerUrl</th>\n",
       "      <th>properties.requestBtn</th>\n",
       "      <th>properties.result</th>\n",
       "      <th>properties.session_page_url</th>\n",
       "      <th>properties.siteUrl</th>\n",
       "      <th>properties.site_url</th>\n",
       "      <th>properties.url_path</th>\n",
       "      <th>properties.verification_code</th>\n",
       "      <th>time</th>\n",
       "      <th>type</th>\n",
       "    </tr>\n",
       "  </thead>\n",
       "  <tbody>\n",
       "    <tr>\n",
       "      <th>3744</th>\n",
       "      <td>0949371042661</td>\n",
       "      <td>c20c03d83d7459b4759897ac25a96da93d521a78</td>\n",
       "      <td>NaN</td>\n",
       "      <td>NaN</td>\n",
       "      <td>js</td>\n",
       "      <td>code</td>\n",
       "      <td>1.6.20</td>\n",
       "      <td>NaN</td>\n",
       "      <td>NaN</td>\n",
       "      <td>en-US</td>\n",
       "      <td>...</td>\n",
       "      <td>NaN</td>\n",
       "      <td>NaN</td>\n",
       "      <td>NaN</td>\n",
       "      <td>NaN</td>\n",
       "      <td>NaN</td>\n",
       "      <td>NaN</td>\n",
       "      <td>NaN</td>\n",
       "      <td>NaN</td>\n",
       "      <td>1490958302833</td>\n",
       "      <td>profile_set_once</td>\n",
       "    </tr>\n",
       "    <tr>\n",
       "      <th>3746</th>\n",
       "      <td>0949371042661</td>\n",
       "      <td>ce3c0a620caf979a74710ac77337a7e41573ff41</td>\n",
       "      <td>NaN</td>\n",
       "      <td>NaN</td>\n",
       "      <td>js</td>\n",
       "      <td>code</td>\n",
       "      <td>1.6.20</td>\n",
       "      <td>NaN</td>\n",
       "      <td>NaN</td>\n",
       "      <td>en-US</td>\n",
       "      <td>...</td>\n",
       "      <td>NaN</td>\n",
       "      <td>NaN</td>\n",
       "      <td>NaN</td>\n",
       "      <td>NaN</td>\n",
       "      <td>NaN</td>\n",
       "      <td>NaN</td>\n",
       "      <td>NaN</td>\n",
       "      <td>NaN</td>\n",
       "      <td>1490958302833</td>\n",
       "      <td>profile_set_once</td>\n",
       "    </tr>\n",
       "  </tbody>\n",
       "</table>\n",
       "<p>2 rows × 70 columns</p>\n",
       "</div>"
      ],
      "text/plain": [
       "           _nocache                               distinct_id event  \\\n",
       "3744  0949371042661  c20c03d83d7459b4759897ac25a96da93d521a78   NaN   \n",
       "3746  0949371042661  ce3c0a620caf979a74710ac77337a7e41573ff41   NaN   \n",
       "\n",
       "     jssdk_error lib.$lib lib.$lib_method lib.$lib_version  \\\n",
       "3744         NaN       js            code           1.6.20   \n",
       "3746         NaN       js            code           1.6.20   \n",
       "\n",
       "     properties.$browser properties.$browser_version  \\\n",
       "3744                 NaN                         NaN   \n",
       "3746                 NaN                         NaN   \n",
       "\n",
       "     properties.$first_browser_language        ...         \\\n",
       "3744                              en-US        ...          \n",
       "3746                              en-US        ...          \n",
       "\n",
       "     properties.referrerUrl properties.requestBtn properties.result  \\\n",
       "3744                    NaN                   NaN               NaN   \n",
       "3746                    NaN                   NaN               NaN   \n",
       "\n",
       "     properties.session_page_url properties.siteUrl properties.site_url  \\\n",
       "3744                         NaN                NaN                 NaN   \n",
       "3746                         NaN                NaN                 NaN   \n",
       "\n",
       "     properties.url_path properties.verification_code           time  \\\n",
       "3744                 NaN                          NaN  1490958302833   \n",
       "3746                 NaN                          NaN  1490958302833   \n",
       "\n",
       "                  type  \n",
       "3744  profile_set_once  \n",
       "3746  profile_set_once  \n",
       "\n",
       "[2 rows x 70 columns]"
      ]
     },
     "execution_count": 328,
     "metadata": {},
     "output_type": "execute_result"
    }
   ],
   "source": [
    "df[df._nocache == '0949371042661']"
   ]
  },
  {
   "cell_type": "code",
   "execution_count": 397,
   "metadata": {},
   "outputs": [
    {
     "data": {
      "text/html": [
       "<div>\n",
       "<style>\n",
       "    .dataframe thead tr:only-child th {\n",
       "        text-align: right;\n",
       "    }\n",
       "\n",
       "    .dataframe thead th {\n",
       "        text-align: left;\n",
       "    }\n",
       "\n",
       "    .dataframe tbody tr th {\n",
       "        vertical-align: top;\n",
       "    }\n",
       "</style>\n",
       "<table border=\"1\" class=\"dataframe\">\n",
       "  <thead>\n",
       "    <tr style=\"text-align: right;\">\n",
       "      <th></th>\n",
       "      <th>_nocache</th>\n",
       "      <th>distinct_id</th>\n",
       "      <th>event</th>\n",
       "      <th>jssdk_error</th>\n",
       "      <th>lib.$lib</th>\n",
       "      <th>lib.$lib_method</th>\n",
       "      <th>lib.$lib_version</th>\n",
       "      <th>properties.$browser</th>\n",
       "      <th>properties.$browser_version</th>\n",
       "      <th>properties.$first_browser_language</th>\n",
       "      <th>...</th>\n",
       "      <th>properties.referrerUrl</th>\n",
       "      <th>properties.requestBtn</th>\n",
       "      <th>properties.result</th>\n",
       "      <th>properties.session_page_url</th>\n",
       "      <th>properties.siteUrl</th>\n",
       "      <th>properties.site_url</th>\n",
       "      <th>properties.url_path</th>\n",
       "      <th>properties.verification_code</th>\n",
       "      <th>time</th>\n",
       "      <th>type</th>\n",
       "    </tr>\n",
       "  </thead>\n",
       "  <tbody>\n",
       "    <tr>\n",
       "      <th>44239</th>\n",
       "      <td>6176568740047</td>\n",
       "      <td>6be727db0adc4b0ea41431cc91c8a5e1481125ac</td>\n",
       "      <td>NaN</td>\n",
       "      <td>NaN</td>\n",
       "      <td>js</td>\n",
       "      <td>code</td>\n",
       "      <td>1.6.20</td>\n",
       "      <td>NaN</td>\n",
       "      <td>NaN</td>\n",
       "      <td>zh-cn</td>\n",
       "      <td>...</td>\n",
       "      <td>NaN</td>\n",
       "      <td>NaN</td>\n",
       "      <td>NaN</td>\n",
       "      <td>NaN</td>\n",
       "      <td>NaN</td>\n",
       "      <td>NaN</td>\n",
       "      <td>NaN</td>\n",
       "      <td>NaN</td>\n",
       "      <td>1490958349855</td>\n",
       "      <td>profile_set_once</td>\n",
       "    </tr>\n",
       "    <tr>\n",
       "      <th>44241</th>\n",
       "      <td>6176568740047</td>\n",
       "      <td>6be727db0adc4b0ea41431cc91c8a5e1481125ac</td>\n",
       "      <td>NaN</td>\n",
       "      <td>NaN</td>\n",
       "      <td>js</td>\n",
       "      <td>code</td>\n",
       "      <td>1.6.20</td>\n",
       "      <td>NaN</td>\n",
       "      <td>NaN</td>\n",
       "      <td>zh-cn</td>\n",
       "      <td>...</td>\n",
       "      <td>NaN</td>\n",
       "      <td>NaN</td>\n",
       "      <td>NaN</td>\n",
       "      <td>NaN</td>\n",
       "      <td>NaN</td>\n",
       "      <td>NaN</td>\n",
       "      <td>NaN</td>\n",
       "      <td>NaN</td>\n",
       "      <td>1490958349855</td>\n",
       "      <td>profile_set_once</td>\n",
       "    </tr>\n",
       "    <tr>\n",
       "      <th>44243</th>\n",
       "      <td>6176568740047</td>\n",
       "      <td>6be727db0adc4b0ea41431cc91c8a5e1481125ac</td>\n",
       "      <td>NaN</td>\n",
       "      <td>NaN</td>\n",
       "      <td>js</td>\n",
       "      <td>code</td>\n",
       "      <td>1.6.20</td>\n",
       "      <td>NaN</td>\n",
       "      <td>NaN</td>\n",
       "      <td>zh-cn</td>\n",
       "      <td>...</td>\n",
       "      <td>NaN</td>\n",
       "      <td>NaN</td>\n",
       "      <td>NaN</td>\n",
       "      <td>NaN</td>\n",
       "      <td>NaN</td>\n",
       "      <td>NaN</td>\n",
       "      <td>NaN</td>\n",
       "      <td>NaN</td>\n",
       "      <td>1490958349855</td>\n",
       "      <td>profile_set_once</td>\n",
       "    </tr>\n",
       "    <tr>\n",
       "      <th>44244</th>\n",
       "      <td>7104818490333</td>\n",
       "      <td>6be727db0adc4b0ea41431cc91c8a5e1481125ac</td>\n",
       "      <td>$pageview</td>\n",
       "      <td>NaN</td>\n",
       "      <td>js</td>\n",
       "      <td>code</td>\n",
       "      <td>1.6.20</td>\n",
       "      <td>uc</td>\n",
       "      <td>11.4</td>\n",
       "      <td>NaN</td>\n",
       "      <td>...</td>\n",
       "      <td>NaN</td>\n",
       "      <td>NaN</td>\n",
       "      <td>NaN</td>\n",
       "      <td>https://www.sensorsdata.cn/?utm_source=baidu&amp;u...</td>\n",
       "      <td>NaN</td>\n",
       "      <td>NaN</td>\n",
       "      <td>NaN</td>\n",
       "      <td>NaN</td>\n",
       "      <td>1489152880462</td>\n",
       "      <td>track</td>\n",
       "    </tr>\n",
       "    <tr>\n",
       "      <th>44245</th>\n",
       "      <td>6176568740047</td>\n",
       "      <td>6be727db0adc4b0ea41431cc91c8a5e1481125ac</td>\n",
       "      <td>NaN</td>\n",
       "      <td>NaN</td>\n",
       "      <td>js</td>\n",
       "      <td>code</td>\n",
       "      <td>1.6.20</td>\n",
       "      <td>NaN</td>\n",
       "      <td>NaN</td>\n",
       "      <td>zh-cn</td>\n",
       "      <td>...</td>\n",
       "      <td>NaN</td>\n",
       "      <td>NaN</td>\n",
       "      <td>NaN</td>\n",
       "      <td>NaN</td>\n",
       "      <td>NaN</td>\n",
       "      <td>NaN</td>\n",
       "      <td>NaN</td>\n",
       "      <td>NaN</td>\n",
       "      <td>1490958349856</td>\n",
       "      <td>profile_set_once</td>\n",
       "    </tr>\n",
       "    <tr>\n",
       "      <th>44246</th>\n",
       "      <td>7104818490333</td>\n",
       "      <td>6be727db0adc4b0ea41431cc91c8a5e1481125ac</td>\n",
       "      <td>$pageview</td>\n",
       "      <td>NaN</td>\n",
       "      <td>js</td>\n",
       "      <td>code</td>\n",
       "      <td>1.6.20</td>\n",
       "      <td>uc</td>\n",
       "      <td>11.4</td>\n",
       "      <td>NaN</td>\n",
       "      <td>...</td>\n",
       "      <td>NaN</td>\n",
       "      <td>NaN</td>\n",
       "      <td>NaN</td>\n",
       "      <td>https://www.sensorsdata.cn/?utm_source=baidu&amp;u...</td>\n",
       "      <td>NaN</td>\n",
       "      <td>NaN</td>\n",
       "      <td>NaN</td>\n",
       "      <td>NaN</td>\n",
       "      <td>1489152880462</td>\n",
       "      <td>track</td>\n",
       "    </tr>\n",
       "    <tr>\n",
       "      <th>44247</th>\n",
       "      <td>6176568740047</td>\n",
       "      <td>6be727db0adc4b0ea41431cc91c8a5e1481125ac</td>\n",
       "      <td>NaN</td>\n",
       "      <td>NaN</td>\n",
       "      <td>js</td>\n",
       "      <td>code</td>\n",
       "      <td>1.6.20</td>\n",
       "      <td>NaN</td>\n",
       "      <td>NaN</td>\n",
       "      <td>zh-cn</td>\n",
       "      <td>...</td>\n",
       "      <td>NaN</td>\n",
       "      <td>NaN</td>\n",
       "      <td>NaN</td>\n",
       "      <td>NaN</td>\n",
       "      <td>NaN</td>\n",
       "      <td>NaN</td>\n",
       "      <td>NaN</td>\n",
       "      <td>NaN</td>\n",
       "      <td>1490958349856</td>\n",
       "      <td>profile_set_once</td>\n",
       "    </tr>\n",
       "    <tr>\n",
       "      <th>44250</th>\n",
       "      <td>6176568740047</td>\n",
       "      <td>6be727db0adc4b0ea41431cc91c8a5e1481125ac</td>\n",
       "      <td>NaN</td>\n",
       "      <td>NaN</td>\n",
       "      <td>js</td>\n",
       "      <td>code</td>\n",
       "      <td>1.6.20</td>\n",
       "      <td>NaN</td>\n",
       "      <td>NaN</td>\n",
       "      <td>zh-cn</td>\n",
       "      <td>...</td>\n",
       "      <td>NaN</td>\n",
       "      <td>NaN</td>\n",
       "      <td>NaN</td>\n",
       "      <td>NaN</td>\n",
       "      <td>NaN</td>\n",
       "      <td>NaN</td>\n",
       "      <td>NaN</td>\n",
       "      <td>NaN</td>\n",
       "      <td>1490958349856</td>\n",
       "      <td>profile_set_once</td>\n",
       "    </tr>\n",
       "  </tbody>\n",
       "</table>\n",
       "<p>8 rows × 70 columns</p>\n",
       "</div>"
      ],
      "text/plain": [
       "            _nocache                               distinct_id      event  \\\n",
       "44239  6176568740047  6be727db0adc4b0ea41431cc91c8a5e1481125ac        NaN   \n",
       "44241  6176568740047  6be727db0adc4b0ea41431cc91c8a5e1481125ac        NaN   \n",
       "44243  6176568740047  6be727db0adc4b0ea41431cc91c8a5e1481125ac        NaN   \n",
       "44244  7104818490333  6be727db0adc4b0ea41431cc91c8a5e1481125ac  $pageview   \n",
       "44245  6176568740047  6be727db0adc4b0ea41431cc91c8a5e1481125ac        NaN   \n",
       "44246  7104818490333  6be727db0adc4b0ea41431cc91c8a5e1481125ac  $pageview   \n",
       "44247  6176568740047  6be727db0adc4b0ea41431cc91c8a5e1481125ac        NaN   \n",
       "44250  6176568740047  6be727db0adc4b0ea41431cc91c8a5e1481125ac        NaN   \n",
       "\n",
       "      jssdk_error lib.$lib lib.$lib_method lib.$lib_version  \\\n",
       "44239         NaN       js            code           1.6.20   \n",
       "44241         NaN       js            code           1.6.20   \n",
       "44243         NaN       js            code           1.6.20   \n",
       "44244         NaN       js            code           1.6.20   \n",
       "44245         NaN       js            code           1.6.20   \n",
       "44246         NaN       js            code           1.6.20   \n",
       "44247         NaN       js            code           1.6.20   \n",
       "44250         NaN       js            code           1.6.20   \n",
       "\n",
       "      properties.$browser properties.$browser_version  \\\n",
       "44239                 NaN                         NaN   \n",
       "44241                 NaN                         NaN   \n",
       "44243                 NaN                         NaN   \n",
       "44244                  uc                        11.4   \n",
       "44245                 NaN                         NaN   \n",
       "44246                  uc                        11.4   \n",
       "44247                 NaN                         NaN   \n",
       "44250                 NaN                         NaN   \n",
       "\n",
       "      properties.$first_browser_language        ...         \\\n",
       "44239                              zh-cn        ...          \n",
       "44241                              zh-cn        ...          \n",
       "44243                              zh-cn        ...          \n",
       "44244                                NaN        ...          \n",
       "44245                              zh-cn        ...          \n",
       "44246                                NaN        ...          \n",
       "44247                              zh-cn        ...          \n",
       "44250                              zh-cn        ...          \n",
       "\n",
       "      properties.referrerUrl properties.requestBtn properties.result  \\\n",
       "44239                    NaN                   NaN               NaN   \n",
       "44241                    NaN                   NaN               NaN   \n",
       "44243                    NaN                   NaN               NaN   \n",
       "44244                    NaN                   NaN               NaN   \n",
       "44245                    NaN                   NaN               NaN   \n",
       "44246                    NaN                   NaN               NaN   \n",
       "44247                    NaN                   NaN               NaN   \n",
       "44250                    NaN                   NaN               NaN   \n",
       "\n",
       "                             properties.session_page_url properties.siteUrl  \\\n",
       "44239                                                NaN                NaN   \n",
       "44241                                                NaN                NaN   \n",
       "44243                                                NaN                NaN   \n",
       "44244  https://www.sensorsdata.cn/?utm_source=baidu&u...                NaN   \n",
       "44245                                                NaN                NaN   \n",
       "44246  https://www.sensorsdata.cn/?utm_source=baidu&u...                NaN   \n",
       "44247                                                NaN                NaN   \n",
       "44250                                                NaN                NaN   \n",
       "\n",
       "      properties.site_url properties.url_path properties.verification_code  \\\n",
       "44239                 NaN                 NaN                          NaN   \n",
       "44241                 NaN                 NaN                          NaN   \n",
       "44243                 NaN                 NaN                          NaN   \n",
       "44244                 NaN                 NaN                          NaN   \n",
       "44245                 NaN                 NaN                          NaN   \n",
       "44246                 NaN                 NaN                          NaN   \n",
       "44247                 NaN                 NaN                          NaN   \n",
       "44250                 NaN                 NaN                          NaN   \n",
       "\n",
       "                time              type  \n",
       "44239  1490958349855  profile_set_once  \n",
       "44241  1490958349855  profile_set_once  \n",
       "44243  1490958349855  profile_set_once  \n",
       "44244  1489152880462             track  \n",
       "44245  1490958349856  profile_set_once  \n",
       "44246  1489152880462             track  \n",
       "44247  1490958349856  profile_set_once  \n",
       "44250  1490958349856  profile_set_once  \n",
       "\n",
       "[8 rows x 70 columns]"
      ]
     },
     "execution_count": 397,
     "metadata": {},
     "output_type": "execute_result"
    }
   ],
   "source": [
    "df.loc[df.duplicated(keep=False),:]"
   ]
  },
  {
   "cell_type": "markdown",
   "metadata": {},
   "source": [
    "    There are eight colums are duplicated. \n",
    "\n",
    "        - 6 from _nocache 6176568740047 and 2 from _nocache 7104818490333. \n",
    "\n",
    "        - They all from the same disticst_id 6be727db0adc4b0ea41431cc91c8a5e1481125ac.\n",
    "        \n",
    "        - Five duplicates"
   ]
  },
  {
   "cell_type": "code",
   "execution_count": 79,
   "metadata": {},
   "outputs": [
    {
     "data": {
      "text/plain": [
       "8"
      ]
     },
     "execution_count": 79,
     "metadata": {},
     "output_type": "execute_result"
    }
   ],
   "source": [
    "df.duplicated(subset=['_nocache','distinct_id','event', 'jssdk_error','time','type'],keep=False).sum()"
   ]
  },
  {
   "cell_type": "code",
   "execution_count": 80,
   "metadata": {},
   "outputs": [
    {
     "data": {
      "text/plain": [
       "5"
      ]
     },
     "execution_count": 80,
     "metadata": {},
     "output_type": "execute_result"
    }
   ],
   "source": [
    "df.duplicated(subset=['_nocache','distinct_id','event', 'jssdk_error','time','type'],keep='first').sum()"
   ]
  },
  {
   "cell_type": "code",
   "execution_count": 43,
   "metadata": {
    "collapsed": true
   },
   "outputs": [],
   "source": [
    "df.drop_duplicates(subset = ['_nocache'],inplace = True)"
   ]
  },
  {
   "cell_type": "code",
   "execution_count": 44,
   "metadata": {},
   "outputs": [
    {
     "name": "stdout",
     "output_type": "stream",
     "text": [
      "<class 'pandas.core.frame.DataFrame'>\n",
      "Int64Index: 51023 entries, 0 to 51047\n",
      "Data columns (total 70 columns):\n",
      "_nocache                               51023 non-null int64\n",
      "distinct_id                            51023 non-null object\n",
      "event                                  44549 non-null object\n",
      "jssdk_error                            33 non-null object\n",
      "lib.$lib                               51023 non-null object\n",
      "lib.$lib_method                        51023 non-null object\n",
      "lib.$lib_version                       51023 non-null object\n",
      "properties.$browser                    44549 non-null object\n",
      "properties.$browser_version            44549 non-null float64\n",
      "properties.$first_browser_language     6278 non-null object\n",
      "properties.$first_referrer             4722 non-null object\n",
      "properties.$first_referrer_host        4722 non-null object\n",
      "properties.$first_visit_time           6474 non-null object\n",
      "properties.$ip                         44549 non-null object\n",
      "properties.$is_first_day               44549 non-null object\n",
      "properties.$is_first_time              44549 non-null object\n",
      "properties.$latest_referrer            28142 non-null object\n",
      "properties.$latest_referrer_host       28142 non-null object\n",
      "properties.$latest_utm_campaign        27243 non-null object\n",
      "properties.$latest_utm_content         26542 non-null object\n",
      "properties.$latest_utm_medium          27196 non-null object\n",
      "properties.$latest_utm_source          27639 non-null object\n",
      "properties.$latest_utm_term            26818 non-null object\n",
      "properties.$lib                        44549 non-null object\n",
      "properties.$lib_version                44549 non-null object\n",
      "properties.$model                      44549 non-null object\n",
      "properties.$os                         44549 non-null object\n",
      "properties.$os_version                 44549 non-null float64\n",
      "properties.$referrer                   17399 non-null object\n",
      "properties.$referrer_host              17399 non-null object\n",
      "properties.$screen_height              44549 non-null float64\n",
      "properties.$screen_width               44549 non-null float64\n",
      "properties.$title                      22025 non-null object\n",
      "properties.$url                        22025 non-null object\n",
      "properties.$url_path                   22025 non-null object\n",
      "properties.$utm_campaign               9674 non-null object\n",
      "properties.$utm_content                9580 non-null object\n",
      "properties.$utm_medium                 9671 non-null object\n",
      "properties.$utm_source                 9746 non-null object\n",
      "properties.$utm_term                   9602 non-null object\n",
      "properties._latest_ch                  5642 non-null object\n",
      "properties._session_from_url           66 non-null object\n",
      "properties._session_referrer           32476 non-null object\n",
      "properties._session_referrer_domain    28 non-null object\n",
      "properties._session_referrer_host      32459 non-null object\n",
      "properties.ch                          400 non-null object\n",
      "properties.company                     751 non-null object\n",
      "properties.contact                     851 non-null object\n",
      "properties.email                       748 non-null object\n",
      "properties.from_url                    562 non-null object\n",
      "properties.info                        738 non-null object\n",
      "properties.isMsg                       313 non-null object\n",
      "properties.isSuccess                   535 non-null object\n",
      "properties.name                        10248 non-null object\n",
      "properties.page                        7992 non-null object\n",
      "properties.pagePosition                11334 non-null float64\n",
      "properties.pageStayTime                11472 non-null float64\n",
      "properties.pageUrl                     20726 non-null object\n",
      "properties.project_name                1671 non-null object\n",
      "properties.referrHostUrl               184 non-null object\n",
      "properties.referrerUrl                 184 non-null object\n",
      "properties.requestBtn                  2962 non-null float64\n",
      "properties.result                      772 non-null object\n",
      "properties.session_page_url            42643 non-null object\n",
      "properties.siteUrl                     313 non-null object\n",
      "properties.site_url                    666 non-null object\n",
      "properties.url_path                    138 non-null object\n",
      "properties.verification_code           828 non-null object\n",
      "time                                   51023 non-null object\n",
      "type                                   51023 non-null object\n",
      "dtypes: float64(7), int64(1), object(62)\n",
      "memory usage: 27.6+ MB\n"
     ]
    }
   ],
   "source": [
    "df.info()"
   ]
  },
  {
   "cell_type": "code",
   "execution_count": 50,
   "metadata": {
    "collapsed": true
   },
   "outputs": [],
   "source": [
    "df.to_csv('/Users/zhanghaoyan/Documents/DS501/BitTiger-DS501-1702/Projects/神策数据/sensor_data_clean.csv',index=False, encoding='utf-8')"
   ]
  },
  {
   "cell_type": "markdown",
   "metadata": {},
   "source": [
    "    2. Distict ID\n",
    "        - We have 8259 distict ID"
   ]
  },
  {
   "cell_type": "code",
   "execution_count": 400,
   "metadata": {},
   "outputs": [
    {
     "data": {
      "text/plain": [
       "count                                        51043\n",
       "unique                                        8259\n",
       "top       08ba9b365da9b395ab2a03ed1a76b97e01716a39\n",
       "freq                                           211\n",
       "Name: distinct_id, dtype: object"
      ]
     },
     "execution_count": 400,
     "metadata": {},
     "output_type": "execute_result"
    }
   ],
   "source": [
    "df.distinct_id.describe()"
   ]
  },
  {
   "cell_type": "markdown",
   "metadata": {},
   "source": [
    "    3. event"
   ]
  },
  {
   "cell_type": "code",
   "execution_count": 401,
   "metadata": {},
   "outputs": [
    {
     "data": {
      "text/plain": [
       "count         44562\n",
       "unique           12\n",
       "top       $pageview\n",
       "freq          22036\n",
       "Name: event, dtype: object"
      ]
     },
     "execution_count": 401,
     "metadata": {},
     "output_type": "execute_result"
    }
   ],
   "source": [
    "df.event.describe()"
   ]
  },
  {
   "cell_type": "code",
   "execution_count": 53,
   "metadata": {},
   "outputs": [
    {
     "data": {
      "text/plain": [
       "11472"
      ]
     },
     "execution_count": 53,
     "metadata": {},
     "output_type": "execute_result"
    }
   ],
   "source": [
    "df.event.value_counts()['index_leave']+df.event.value_counts()['demo_leave']+df.event.value_counts()['about_leave']+df.event.value_counts()['courses_leave']\\\n",
    "    +df.event.value_counts()['courses_play_leave']+df.event.value_counts()['page_close']"
   ]
  },
  {
   "cell_type": "code",
   "execution_count": 402,
   "metadata": {},
   "outputs": [
    {
     "data": {
      "text/plain": [
       "$pageview                22036\n",
       "btnClick                  9394\n",
       "index_leave               7115\n",
       "demo_leave                2388\n",
       "about_leave                696\n",
       "courses_leave              628\n",
       "formSubmit                 535\n",
       "courses_play_leave         507\n",
       "click_send_cellphone       400\n",
       "verify_cellphone_code      372\n",
       "clickSubmit                353\n",
       "page_close                 138\n",
       "Name: event, dtype: int64"
      ]
     },
     "execution_count": 402,
     "metadata": {},
     "output_type": "execute_result"
    }
   ],
   "source": [
    "df.event.value_counts()"
   ]
  },
  {
   "cell_type": "code",
   "execution_count": 46,
   "metadata": {},
   "outputs": [
    {
     "data": {
      "image/png": "[encoded data removed]",
      "text/plain": [
       "<matplotlib.figure.Figure at 0x13ee97410>"
      ]
     },
     "metadata": {},
     "output_type": "display_data"
    }
   ],
   "source": [
    "ax = df.event.value_counts().plot.bar(rot=0, color=\"b\", figsize=(6,4))\n",
    "ax.set_xticklabels(df.event.value_counts().index,rotation=90)\n",
    "plt.show()"
   ]
  },
  {
   "cell_type": "code",
   "execution_count": 22,
   "metadata": {},
   "outputs": [
    {
     "data": {
      "text/plain": [
       "_nocache                                   0\n",
       "distinct_id                                0\n",
       "event                                      0\n",
       "jssdk_error                            22025\n",
       "lib.$lib                                   0\n",
       "lib.$lib_method                            0\n",
       "lib.$lib_version                           0\n",
       "properties.$browser                        0\n",
       "properties.$browser_version                0\n",
       "properties.$first_browser_language     22037\n",
       "properties.$first_referrer             22037\n",
       "properties.$first_referrer_host        22037\n",
       "properties.$first_visit_time           22037\n",
       "properties.$ip                             0\n",
       "properties.$is_first_day                   0\n",
       "properties.$is_first_time                  0\n",
       "properties.$latest_referrer             8824\n",
       "properties.$latest_referrer_host        8824\n",
       "properties.$latest_utm_campaign         9223\n",
       "properties.$latest_utm_content          9628\n",
       "properties.$latest_utm_medium           9253\n",
       "properties.$latest_utm_source           9024\n",
       "properties.$latest_utm_term             9486\n",
       "properties.$lib                            0\n",
       "properties.$lib_version                    0\n",
       "properties.$model                          0\n",
       "properties.$os                             0\n",
       "properties.$os_version                     0\n",
       "properties.$referrer                    4631\n",
       "properties.$referrer_host               4631\n",
       "                                       ...  \n",
       "properties._latest_ch                  19604\n",
       "properties._session_from_url           22002\n",
       "properties._session_referrer            7119\n",
       "properties._session_referrer_domain    22022\n",
       "properties._session_referrer_host       7129\n",
       "properties.ch                          21688\n",
       "properties.company                     22037\n",
       "properties.contact                     22037\n",
       "properties.email                       22037\n",
       "properties.from_url                    22037\n",
       "properties.info                        22037\n",
       "properties.isMsg                       22037\n",
       "properties.isSuccess                   22037\n",
       "properties.name                        22037\n",
       "properties.page                        22037\n",
       "properties.pagePosition                22037\n",
       "properties.pageStayTime                22037\n",
       "properties.pageUrl                     22037\n",
       "properties.project_name                21076\n",
       "properties.referrHostUrl               22037\n",
       "properties.referrerUrl                 22037\n",
       "properties.requestBtn                  22037\n",
       "properties.result                      22037\n",
       "properties.session_page_url             1828\n",
       "properties.siteUrl                     22037\n",
       "properties.site_url                    22037\n",
       "properties.url_path                    22037\n",
       "properties.verification_code           22037\n",
       "time                                       0\n",
       "type                                       0\n",
       "Length: 70, dtype: int64"
      ]
     },
     "execution_count": 22,
     "metadata": {},
     "output_type": "execute_result"
    }
   ],
   "source": [
    "df.loc[df['event']=='$pageview',:].isnull().sum()"
   ]
  },
  {
   "cell_type": "code",
   "execution_count": 77,
   "metadata": {},
   "outputs": [
    {
     "data": {
      "image/png": "[encoded data removed]",
      "text/plain": [
       "<matplotlib.figure.Figure at 0x12fce35d0>"
      ]
     },
     "metadata": {},
     "output_type": "display_data"
    }
   ],
   "source": [
    "# The distuibution of user's record number\n",
    "user = pd.Series(df.distinct_id).value_counts()\n",
    "out = pd.cut(user, bins=[0, 1,2,3,4,5, 10, 50,100,300], include_lowest=True)\n",
    "ax = out.value_counts(sort=False).plot.bar(rot=0, color=\"b\", figsize=(6,4))\n",
    "ax.set_xticklabels([c for c in out.cat.categories],rotation=90)\n",
    "plt.show()"
   ]
  },
  {
   "cell_type": "code",
   "execution_count": 78,
   "metadata": {},
   "outputs": [
    {
     "data": {
      "image/png": "[encoded data removed]",
      "text/plain": [
       "<matplotlib.figure.Figure at 0x12bffb4d0>"
      ]
     },
     "metadata": {},
     "output_type": "display_data"
    }
   ],
   "source": [
    "# The distuibution of user's pageview record number\n",
    "user = (df.groupby(['event','distinct_id'])['_nocache'].count())['$pageview']\n",
    "out = pd.cut(user, bins=[0, 1,2,3,4,5, 10, 50], include_lowest=True)\n",
    "ax = out.value_counts(sort=False).plot.bar(rot=0, color=\"b\", figsize=(6,4))\n",
    "ax.set_xticklabels([c for c in out.cat.categories],rotation=90)\n",
    "plt.show()"
   ]
  },
  {
   "cell_type": "code",
   "execution_count": 79,
   "metadata": {},
   "outputs": [
    {
     "data": {
      "image/png": "[encoded data removed]",
      "text/plain": [
       "<matplotlib.figure.Figure at 0x12efa4cd0>"
      ]
     },
     "metadata": {},
     "output_type": "display_data"
    }
   ],
   "source": [
    "# The distuibution of user's btnClick record number\n",
    "user = (df.groupby(['event','distinct_id'])['_nocache'].count())['btnClick']\n",
    "out = pd.cut(user, bins=[0, 1,2,3,4,5, 10, 50], include_lowest=True)\n",
    "ax = out.value_counts(sort=False).plot.bar(rot=0, color=\"b\", figsize=(6,4))\n",
    "ax.set_xticklabels([c for c in out.cat.categories],rotation=90)\n",
    "plt.show()"
   ]
  },
  {
   "cell_type": "code",
   "execution_count": 80,
   "metadata": {},
   "outputs": [
    {
     "data": {
      "image/png": "[encoded data removed]",
      "text/plain": [
       "<matplotlib.figure.Figure at 0x12ef8add0>"
      ]
     },
     "metadata": {},
     "output_type": "display_data"
    }
   ],
   "source": [
    "# The distuibution of user's index_leave record number\n",
    "user = (df.groupby(['event','distinct_id'])['_nocache'].count())['index_leave']\n",
    "out = pd.cut(user, bins=[0, 1,2,3,4,5, 10, 50], include_lowest=True)\n",
    "ax = out.value_counts(sort=False).plot.bar(rot=0, color=\"b\", figsize=(6,4))\n",
    "ax.set_xticklabels([c for c in out.cat.categories],rotation=90)\n",
    "plt.show()"
   ]
  },
  {
   "cell_type": "code",
   "execution_count": 81,
   "metadata": {},
   "outputs": [
    {
     "data": {
      "image/png": "[encoded data removed]",
      "text/plain": [
       "<matplotlib.figure.Figure at 0x128fab2d0>"
      ]
     },
     "metadata": {},
     "output_type": "display_data"
    }
   ],
   "source": [
    "# The distuibution of user's demo_leave record number\n",
    "user = (df.groupby(['event','distinct_id'])['_nocache'].count())['demo_leave']\n",
    "out = pd.cut(user, bins=[0, 1,2,3,4,5, 10, 50], include_lowest=True)\n",
    "ax = out.value_counts(sort=False).plot.bar(rot=0, color=\"b\", figsize=(6,4))\n",
    "ax.set_xticklabels([c for c in out.cat.categories],rotation=90)\n",
    "plt.show()"
   ]
  },
  {
   "cell_type": "code",
   "execution_count": 82,
   "metadata": {},
   "outputs": [
    {
     "data": {
      "image/png": "[encoded data removed]",
      "text/plain": [
       "<matplotlib.figure.Figure at 0x128ec4c10>"
      ]
     },
     "metadata": {},
     "output_type": "display_data"
    }
   ],
   "source": [
    "# The distuibution of user's formSubmit record number\n",
    "user = (df.groupby(['event','distinct_id'])['_nocache'].count())['formSubmit']\n",
    "out = pd.cut(user, bins=[0, 1,2,3,4,5, 10, 50], include_lowest=True)\n",
    "ax = out.value_counts(sort=False).plot.bar(rot=0, color=\"b\", figsize=(6,4))\n",
    "ax.set_xticklabels([c for c in out.cat.categories],rotation=90)\n",
    "plt.show()"
   ]
  },
  {
   "cell_type": "code",
   "execution_count": 83,
   "metadata": {},
   "outputs": [
    {
     "data": {
      "image/png": "[encoded data removed]",
      "text/plain": [
       "<matplotlib.figure.Figure at 0x12f06ff10>"
      ]
     },
     "metadata": {},
     "output_type": "display_data"
    }
   ],
   "source": [
    "# The distuibution of user's clickSubmit record number\n",
    "user = (df.groupby(['event','distinct_id'])['_nocache'].count())['clickSubmit']\n",
    "out = pd.cut(user, bins=[0, 1,2,3,4,5, 10, 50], include_lowest=True)\n",
    "ax = out.value_counts(sort=False).plot.bar(rot=0, color=\"b\", figsize=(6,4))\n",
    "ax.set_xticklabels([c for c in out.cat.categories],rotation=90)\n",
    "plt.show()"
   ]
  },
  {
   "cell_type": "markdown",
   "metadata": {},
   "source": [
    "    4. jssdk_error\n",
    "        - There are 33 not null values\n",
    "        - What would be the effect of cookieNotEnable"
   ]
  },
  {
   "cell_type": "code",
   "execution_count": 95,
   "metadata": {},
   "outputs": [
    {
     "data": {
      "text/plain": [
       "count                  33\n",
       "unique                  1\n",
       "top       cookieNotEnable\n",
       "freq                   33\n",
       "Name: jssdk_error, dtype: object"
      ]
     },
     "execution_count": 95,
     "metadata": {},
     "output_type": "execute_result"
    }
   ],
   "source": [
    "df.jssdk_error.describe()"
   ]
  },
  {
   "cell_type": "code",
   "execution_count": 120,
   "metadata": {},
   "outputs": [
    {
     "data": {
      "text/plain": [
       "$pageview        12\n",
       "btnClick          4\n",
       "index_leave       3\n",
       "about_leave       2\n",
       "courses_leave     1\n",
       "Name: event, dtype: int64"
      ]
     },
     "execution_count": 120,
     "metadata": {},
     "output_type": "execute_result"
    }
   ],
   "source": [
    "df[df.jssdk_error.notnull()].event.value_counts()"
   ]
  },
  {
   "cell_type": "code",
   "execution_count": 121,
   "metadata": {},
   "outputs": [
    {
     "data": {
      "text/plain": [
       "track               22\n",
       "profile_set_once    11\n",
       "Name: type, dtype: int64"
      ]
     },
     "execution_count": 121,
     "metadata": {},
     "output_type": "execute_result"
    }
   ],
   "source": [
    "df[df.jssdk_error.notnull()].type.value_counts()"
   ]
  },
  {
   "cell_type": "code",
   "execution_count": 100,
   "metadata": {},
   "outputs": [
    {
     "data": {
      "text/plain": [
       "539f2fd097b5df63aab29a1d87d8a2cae45b2c93    4\n",
       "798310a4ed341fb3d0608a84565396ba8c797762    4\n",
       "8aaa36e2cfa76f0b6dca677c114b16a3f654fdba    4\n",
       "ee432c111ddb96197da6dd942ab61f8a099c1aeb    4\n",
       "d51fa9da3631adf4efe2589d9b805bc782d0b47c    2\n",
       "feb4b0eb9fe5974c76ec8732b6d4f8e4d9e941a8    2\n",
       "60e4ed42eb86ac0ebf538d9439b490cf49ac3b4b    2\n",
       "53098998df284093c04a628670103a73a18a9143    2\n",
       "2f83e8e4396b4aa5edbddbc8b6c02546afdd7240    2\n",
       "7d6f0aa1cf967361c65086fd79eb0ebee6d7480c    2\n",
       "038508a50e6a5ef6653fb6f57fa25ff5c3e28951    2\n",
       "c21c894455557fbbab333eaf3db0084b81c3105d    2\n",
       "f2c8d81b8df07e796968ce954d3cee63376af0de    1\n",
       "Name: distinct_id, dtype: int64"
      ]
     },
     "execution_count": 100,
     "metadata": {},
     "output_type": "execute_result"
    }
   ],
   "source": [
    "df[df.jssdk_error.notnull()].distinct_id.value_counts()"
   ]
  },
  {
   "cell_type": "code",
   "execution_count": 126,
   "metadata": {},
   "outputs": [
    {
     "data": {
      "text/plain": [
       "13"
      ]
     },
     "execution_count": 126,
     "metadata": {},
     "output_type": "execute_result"
    }
   ],
   "source": [
    "df[df.jssdk_error.notnull()].distinct_id.unique().size"
   ]
  },
  {
   "cell_type": "code",
   "execution_count": 132,
   "metadata": {},
   "outputs": [
    {
     "data": {
      "text/plain": [
       "array([u'c21c894455557fbbab333eaf3db0084b81c3105d',\n",
       "       u'feb4b0eb9fe5974c76ec8732b6d4f8e4d9e941a8',\n",
       "       u'f2c8d81b8df07e796968ce954d3cee63376af0de',\n",
       "       u'038508a50e6a5ef6653fb6f57fa25ff5c3e28951',\n",
       "       u'53098998df284093c04a628670103a73a18a9143',\n",
       "       u'2f83e8e4396b4aa5edbddbc8b6c02546afdd7240',\n",
       "       u'd51fa9da3631adf4efe2589d9b805bc782d0b47c',\n",
       "       u'60e4ed42eb86ac0ebf538d9439b490cf49ac3b4b',\n",
       "       u'798310a4ed341fb3d0608a84565396ba8c797762',\n",
       "       u'539f2fd097b5df63aab29a1d87d8a2cae45b2c93',\n",
       "       u'8aaa36e2cfa76f0b6dca677c114b16a3f654fdba',\n",
       "       u'ee432c111ddb96197da6dd942ab61f8a099c1aeb',\n",
       "       u'7d6f0aa1cf967361c65086fd79eb0ebee6d7480c'], dtype=object)"
      ]
     },
     "execution_count": 132,
     "metadata": {},
     "output_type": "execute_result"
    }
   ],
   "source": [
    "df[df.jssdk_error.notnull()].distinct_id.unique()"
   ]
  },
  {
   "cell_type": "code",
   "execution_count": 138,
   "metadata": {},
   "outputs": [
    {
     "data": {
      "text/plain": [
       "(33, 7)"
      ]
     },
     "execution_count": 138,
     "metadata": {},
     "output_type": "execute_result"
    }
   ],
   "source": [
    "# All their records are have jssdk_error cookieNotEnable\n",
    "df.set_index('distinct_id').loc[df[df.jssdk_error.notnull()].distinct_id.unique(),:].shape"
   ]
  },
  {
   "cell_type": "markdown",
   "metadata": {},
   "source": [
    "    5. lib"
   ]
  },
  {
   "cell_type": "code",
   "execution_count": 158,
   "metadata": {
    "collapsed": true
   },
   "outputs": [],
   "source": [
    "# import ast\n",
    "# from pandas.io.json import json_normalize\n",
    "\n",
    "# def only_dict(d):\n",
    "#     '''\n",
    "#     Convert json string representation of dictionary to a python dict\n",
    "#     '''\n",
    "#     return ast.literal_eval(d)\n",
    "\n",
    "# # lib = json_normalize(df['lib'].apply(only_dict).tolist()).add_prefix('lib.')\n",
    "# properties = json_normalize(df['properties'].apply(only_dict).tolist()).add_prefix('properties.')"
   ]
  },
  {
   "cell_type": "code",
   "execution_count": 36,
   "metadata": {},
   "outputs": [
    {
     "data": {
      "text/plain": [
       "(code    51048\n",
       " Name: lib.$lib_method, dtype: int64, 1.6.20    51048\n",
       " Name: lib.$lib_version, dtype: int64, js    51048\n",
       " Name: lib.$lib, dtype: int64)"
      ]
     },
     "execution_count": 36,
     "metadata": {},
     "output_type": "execute_result"
    }
   ],
   "source": [
    "df['lib.$lib_method'].value_counts(), df[u'lib.$lib_version'].value_counts(), df[u'lib.$lib'].value_counts()"
   ]
  },
  {
   "cell_type": "markdown",
   "metadata": {},
   "source": [
    "    5. properties\n",
    "    "
   ]
  },
  {
   "cell_type": "code",
   "execution_count": 39,
   "metadata": {
    "scrolled": true
   },
   "outputs": [
    {
     "name": "stdout",
     "output_type": "stream",
     "text": [
      "<class 'pandas.core.frame.DataFrame'>\n",
      "Int64Index: 7115 entries, 0 to 51040\n",
      "Data columns (total 47 columns):\n",
      "_nocache                              7115 non-null object\n",
      "distinct_id                           7115 non-null object\n",
      "event                                 7115 non-null object\n",
      "time                                  7115 non-null int64\n",
      "type                                  7115 non-null object\n",
      "properties_$utm_medium                0 non-null object\n",
      "properties_pagePosition               7115 non-null float64\n",
      "properties_$is_first_day              7115 non-null object\n",
      "properties_$screen_width              7115 non-null float64\n",
      "properties_$url                       0 non-null object\n",
      "properties_$browser                   7115 non-null object\n",
      "properties_$utm_source                0 non-null object\n",
      "properties_$referrer                  0 non-null object\n",
      "properties_pageStayTime               7115 non-null float64\n",
      "properties_$latest_utm_source         5088 non-null object\n",
      "properties__session_referrer          7115 non-null object\n",
      "properties_$is_first_time             7115 non-null object\n",
      "properties_$first_referrer_host       0 non-null object\n",
      "properties_$screen_height             7115 non-null float64\n",
      "properties_$lib                       7115 non-null object\n",
      "properties_$utm_content               0 non-null object\n",
      "properties_pageUrl                    7115 non-null object\n",
      "properties_$latest_utm_medium         5006 non-null object\n",
      "properties_$latest_referrer           7089 non-null object\n",
      "properties_$os                        7115 non-null object\n",
      "properties_$first_referrer            0 non-null object\n",
      "properties_$ip                        7115 non-null object\n",
      "properties_$latest_referrer_host      7089 non-null object\n",
      "properties_$latest_utm_campaign       5012 non-null object\n",
      "properties_$os_version                7115 non-null object\n",
      "properties_$latest_utm_content        4903 non-null object\n",
      "properties_$lib_version               7115 non-null object\n",
      "properties_session_page_url           7115 non-null object\n",
      "properties__latest_ch                 717 non-null object\n",
      "properties__session_referrer_host     7115 non-null object\n",
      "properties_$title                     0 non-null object\n",
      "properties_name                       0 non-null object\n",
      "properties_$latest_utm_term           4962 non-null object\n",
      "properties_$model                     7115 non-null object\n",
      "properties_$browser_version           7115 non-null object\n",
      "properties_$first_browser_language    0 non-null object\n",
      "properties_$utm_term                  0 non-null object\n",
      "properties_$referrer_host             0 non-null object\n",
      "properties_$utm_campaign              0 non-null object\n",
      "properties_$first_visit_time          0 non-null object\n",
      "properties_page                       0 non-null object\n",
      "properties_$url_path                  0 non-null object\n",
      "dtypes: float64(4), int64(1), object(42)\n",
      "memory usage: 2.6+ MB\n"
     ]
    }
   ],
   "source": [
    "df.loc[df_clean['event']=='index_leave',:].info()"
   ]
  },
  {
   "cell_type": "code",
   "execution_count": 40,
   "metadata": {},
   "outputs": [
    {
     "data": {
      "text/plain": [
       "_nocache                                 0\n",
       "distinct_id                              0\n",
       "event                                    0\n",
       "time                                     0\n",
       "type                                     0\n",
       "properties_$utm_medium                9392\n",
       "properties_pagePosition               9392\n",
       "properties_$is_first_day                 0\n",
       "properties_$screen_width                 0\n",
       "properties_$url                       9392\n",
       "properties_$browser                      0\n",
       "properties_$utm_source                9392\n",
       "properties_$referrer                  9392\n",
       "properties_pageStayTime               9392\n",
       "properties_$latest_utm_source         3422\n",
       "properties__session_referrer             0\n",
       "properties_$is_first_time                0\n",
       "properties_$first_referrer_host       9392\n",
       "properties_$screen_height                0\n",
       "properties_$lib                          0\n",
       "properties_$utm_content               9392\n",
       "properties_pageUrl                       0\n",
       "properties_$latest_utm_medium         3519\n",
       "properties_$latest_referrer             48\n",
       "properties_$os                           0\n",
       "properties_$first_referrer            9392\n",
       "properties_$ip                           0\n",
       "properties_$latest_referrer_host        48\n",
       "properties_$latest_utm_campaign       3511\n",
       "properties_$os_version                   0\n",
       "properties_$latest_utm_content        3653\n",
       "properties_$lib_version                  0\n",
       "properties_session_page_url              2\n",
       "properties__latest_ch                 8075\n",
       "properties__session_referrer_host        0\n",
       "properties_$title                     9392\n",
       "properties_name                          0\n",
       "properties_$latest_utm_term           3594\n",
       "properties_$model                        0\n",
       "properties_$browser_version              0\n",
       "properties_$first_browser_language    9392\n",
       "properties_$utm_term                  9392\n",
       "properties_$referrer_host             9392\n",
       "properties_$utm_campaign              9392\n",
       "properties_$first_visit_time          9392\n",
       "properties_page                       1400\n",
       "properties_$url_path                  9392\n",
       "dtype: int64"
      ]
     },
     "execution_count": 40,
     "metadata": {},
     "output_type": "execute_result"
    }
   ],
   "source": [
    "df.loc[df_clean['event']=='btnClick',:].isnull().sum()"
   ]
  },
  {
   "cell_type": "code",
   "execution_count": 47,
   "metadata": {},
   "outputs": [
    {
     "data": {
      "text/plain": [
       "_nocache                                   0\n",
       "distinct_id                                0\n",
       "event                                      0\n",
       "jssdk_error                            22013\n",
       "lib.$lib                                   0\n",
       "lib.$lib_method                            0\n",
       "lib.$lib_version                           0\n",
       "properties.$browser                        0\n",
       "properties.$browser_version                0\n",
       "properties.$first_browser_language     22025\n",
       "properties.$first_referrer             22025\n",
       "properties.$first_referrer_host        22025\n",
       "properties.$first_visit_time           22025\n",
       "properties.$ip                             0\n",
       "properties.$is_first_day                   0\n",
       "properties.$is_first_time                  0\n",
       "properties.$latest_referrer             8819\n",
       "properties.$latest_referrer_host        8819\n",
       "properties.$latest_utm_campaign         9221\n",
       "properties.$latest_utm_content          9626\n",
       "properties.$latest_utm_medium           9251\n",
       "properties.$latest_utm_source           9022\n",
       "properties.$latest_utm_term             9484\n",
       "properties.$lib                            0\n",
       "properties.$lib_version                    0\n",
       "properties.$model                          0\n",
       "properties.$os                             0\n",
       "properties.$os_version                     0\n",
       "properties.$referrer                    4626\n",
       "properties.$referrer_host               4626\n",
       "                                       ...  \n",
       "properties._latest_ch                  19592\n",
       "properties._session_from_url           21990\n",
       "properties._session_referrer            7114\n",
       "properties._session_referrer_domain    22010\n",
       "properties._session_referrer_host       7124\n",
       "properties.ch                          21676\n",
       "properties.company                     22025\n",
       "properties.contact                     22025\n",
       "properties.email                       22025\n",
       "properties.from_url                    22025\n",
       "properties.info                        22025\n",
       "properties.isMsg                       22025\n",
       "properties.isSuccess                   22025\n",
       "properties.name                        22025\n",
       "properties.page                        22025\n",
       "properties.pagePosition                22025\n",
       "properties.pageStayTime                22025\n",
       "properties.pageUrl                     22025\n",
       "properties.project_name                21064\n",
       "properties.referrHostUrl               22025\n",
       "properties.referrerUrl                 22025\n",
       "properties.requestBtn                  22025\n",
       "properties.result                      22025\n",
       "properties.session_page_url             1827\n",
       "properties.siteUrl                     22025\n",
       "properties.site_url                    22025\n",
       "properties.url_path                    22025\n",
       "properties.verification_code           22025\n",
       "time                                       0\n",
       "type                                       0\n",
       "Length: 70, dtype: int64"
      ]
     },
     "execution_count": 47,
     "metadata": {},
     "output_type": "execute_result"
    }
   ],
   "source": [
    "df.loc[df_clean['event']=='$pageview',:].isnull().sum()"
   ]
  },
  {
   "cell_type": "code",
   "execution_count": 48,
   "metadata": {},
   "outputs": [
    {
     "data": {
      "text/plain": [
       "_nocache                                  0\n",
       "distinct_id                               0\n",
       "event                                     0\n",
       "jssdk_error                            7112\n",
       "lib.$lib                                  0\n",
       "lib.$lib_method                           0\n",
       "lib.$lib_version                          0\n",
       "properties.$browser                       0\n",
       "properties.$browser_version               0\n",
       "properties.$first_browser_language     7115\n",
       "properties.$first_referrer             7115\n",
       "properties.$first_referrer_host        7115\n",
       "properties.$first_visit_time           7115\n",
       "properties.$ip                            0\n",
       "properties.$is_first_day                  0\n",
       "properties.$is_first_time                 0\n",
       "properties.$latest_referrer            1878\n",
       "properties.$latest_referrer_host       1878\n",
       "properties.$latest_utm_campaign        2103\n",
       "properties.$latest_utm_content         2212\n",
       "properties.$latest_utm_medium          2109\n",
       "properties.$latest_utm_source          2027\n",
       "properties.$latest_utm_term            2153\n",
       "properties.$lib                           0\n",
       "properties.$lib_version                   0\n",
       "properties.$model                         0\n",
       "properties.$os                            0\n",
       "properties.$os_version                    0\n",
       "properties.$referrer                   7115\n",
       "properties.$referrer_host              7115\n",
       "                                       ... \n",
       "properties._latest_ch                  6398\n",
       "properties._session_from_url           7106\n",
       "properties._session_referrer           1343\n",
       "properties._session_referrer_domain    7112\n",
       "properties._session_referrer_host      1345\n",
       "properties.ch                          7115\n",
       "properties.company                     7115\n",
       "properties.contact                     7115\n",
       "properties.email                       7115\n",
       "properties.from_url                    7115\n",
       "properties.info                        7115\n",
       "properties.isMsg                       7115\n",
       "properties.isSuccess                   7115\n",
       "properties.name                        7115\n",
       "properties.page                        7115\n",
       "properties.pagePosition                   0\n",
       "properties.pageStayTime                   0\n",
       "properties.pageUrl                        0\n",
       "properties.project_name                6870\n",
       "properties.referrHostUrl               7115\n",
       "properties.referrerUrl                 7115\n",
       "properties.requestBtn                  7115\n",
       "properties.result                      7115\n",
       "properties.session_page_url               0\n",
       "properties.siteUrl                     7115\n",
       "properties.site_url                    7115\n",
       "properties.url_path                    7115\n",
       "properties.verification_code           7115\n",
       "time                                      0\n",
       "type                                      0\n",
       "Length: 70, dtype: int64"
      ]
     },
     "execution_count": 48,
     "metadata": {},
     "output_type": "execute_result"
    }
   ],
   "source": [
    "df.loc[df_clean['event']=='index_leave',:].isnull().sum()"
   ]
  },
  {
   "cell_type": "markdown",
   "metadata": {},
   "source": [
    "    6. type\n",
    "        - profile_set_once when a user first visit the website\n",
    "        - is this count all the users 6485? rather than distict_id 8259"
   ]
  },
  {
   "cell_type": "code",
   "execution_count": 168,
   "metadata": {},
   "outputs": [
    {
     "data": {
      "text/plain": [
       "track               44563\n",
       "profile_set_once     6485\n",
       "Name: type, dtype: int64"
      ]
     },
     "execution_count": 168,
     "metadata": {},
     "output_type": "execute_result"
    }
   ],
   "source": [
    "df.type.value_counts()"
   ]
  },
  {
   "cell_type": "markdown",
   "metadata": {},
   "source": [
    "    7. time"
   ]
  },
  {
   "cell_type": "code",
   "execution_count": 75,
   "metadata": {},
   "outputs": [
    {
     "data": {
      "text/plain": [
       "<matplotlib.axes._subplots.AxesSubplot at 0x12fbc0950>"
      ]
     },
     "execution_count": 75,
     "metadata": {},
     "output_type": "execute_result"
    },
    {
     "data": {
      "image/png": "[encoded data removed]",
      "text/plain": [
       "<matplotlib.figure.Figure at 0x12fbb66d0>"
      ]
     },
     "metadata": {},
     "output_type": "display_data"
    }
   ],
   "source": [
    "df_timestamp =pd.DataFrame(df['time'].copy())\n",
    "df_timestamp = df_timestamp.set_index('time')\n",
    "df_timestamp['count'] = 1\n",
    "df_timestamp['count'].resample(\"1D\").sum().plot()"
   ]
  },
  {
   "cell_type": "code",
   "execution_count": 76,
   "metadata": {},
   "outputs": [
    {
     "data": {
      "text/plain": [
       "<matplotlib.axes._subplots.AxesSubplot at 0x1301db610>"
      ]
     },
     "execution_count": 76,
     "metadata": {},
     "output_type": "execute_result"
    },
    {
     "data": {
      "image/png": "[encoded data removed]",
      "text/plain": [
       "<matplotlib.figure.Figure at 0x1301f3290>"
      ]
     },
     "metadata": {},
     "output_type": "display_data"
    }
   ],
   "source": [
    "df_timestamp = pd.DataFrame(df.loc[df['event']=='formSubmit',\"time\"].copy())\n",
    "df_timestamp\n",
    "df_timestamp = df_timestamp.set_index('time')\n",
    "df_timestamp['count'] = 1\n",
    "df_timestamp['count'].resample(\"1D\").sum().plot()"
   ]
  },
  {
   "cell_type": "code",
   "execution_count": 71,
   "metadata": {},
   "outputs": [
    {
     "data": {
      "text/plain": [
       "<matplotlib.axes._subplots.AxesSubplot at 0x12f6616d0>"
      ]
     },
     "execution_count": 71,
     "metadata": {},
     "output_type": "execute_result"
    },
    {
     "data": {
      "image/png": "[encoded data removed]",
      "text/plain": [
       "<matplotlib.figure.Figure at 0x12f8c3bd0>"
      ]
     },
     "metadata": {},
     "output_type": "display_data"
    }
   ],
   "source": [
    "df_timestamp = pd.DataFrame(df.loc[df['event']=='btnClick',\"time\"].copy())\n",
    "df_timestamp\n",
    "df_timestamp = df_timestamp.set_index('time')\n",
    "df_timestamp['count'] = 1\n",
    "df_timestamp['count'].resample(\"1D\").sum().plot()"
   ]
  },
  {
   "cell_type": "markdown",
   "metadata": {},
   "source": [
    "### A User who complete the formSubmit"
   ]
  },
  {
   "cell_type": "code",
   "execution_count": 84,
   "metadata": {},
   "outputs": [
    {
     "data": {
      "text/plain": [
       "'05275c9a86246309de06ef9e9443dbecb2d9e432'"
      ]
     },
     "execution_count": 84,
     "metadata": {},
     "output_type": "execute_result"
    }
   ],
   "source": [
    "(df.loc[df['event']=='formSubmit',:]).loc[:,'distinct_id'].iloc[0]"
   ]
  },
  {
   "cell_type": "code",
   "execution_count": 90,
   "metadata": {},
   "outputs": [
    {
     "data": {
      "text/html": [
       "<div>\n",
       "<style>\n",
       "    .dataframe thead tr:only-child th {\n",
       "        text-align: right;\n",
       "    }\n",
       "\n",
       "    .dataframe thead th {\n",
       "        text-align: left;\n",
       "    }\n",
       "\n",
       "    .dataframe tbody tr th {\n",
       "        vertical-align: top;\n",
       "    }\n",
       "</style>\n",
       "<table border=\"1\" class=\"dataframe\">\n",
       "  <thead>\n",
       "    <tr style=\"text-align: right;\">\n",
       "      <th></th>\n",
       "      <th>_nocache</th>\n",
       "      <th>distinct_id</th>\n",
       "      <th>event</th>\n",
       "      <th>jssdk_error</th>\n",
       "      <th>lib.$lib</th>\n",
       "      <th>lib.$lib_method</th>\n",
       "      <th>lib.$lib_version</th>\n",
       "      <th>properties.$browser</th>\n",
       "      <th>properties.$browser_version</th>\n",
       "      <th>properties.$first_browser_language</th>\n",
       "      <th>...</th>\n",
       "      <th>properties.referrerUrl</th>\n",
       "      <th>properties.requestBtn</th>\n",
       "      <th>properties.result</th>\n",
       "      <th>properties.session_page_url</th>\n",
       "      <th>properties.siteUrl</th>\n",
       "      <th>properties.site_url</th>\n",
       "      <th>properties.url_path</th>\n",
       "      <th>properties.verification_code</th>\n",
       "      <th>time</th>\n",
       "      <th>type</th>\n",
       "    </tr>\n",
       "  </thead>\n",
       "  <tbody>\n",
       "    <tr>\n",
       "      <th>1</th>\n",
       "      <td>3040562711955</td>\n",
       "      <td>9939d3e087bca29c42334d96dccd25ca0e06652a</td>\n",
       "      <td>NaN</td>\n",
       "      <td>NaN</td>\n",
       "      <td>js</td>\n",
       "      <td>code</td>\n",
       "      <td>1.6.20</td>\n",
       "      <td>NaN</td>\n",
       "      <td>NaN</td>\n",
       "      <td>zh-CN</td>\n",
       "      <td>...</td>\n",
       "      <td>NaN</td>\n",
       "      <td>NaN</td>\n",
       "      <td>NaN</td>\n",
       "      <td>NaN</td>\n",
       "      <td>NaN</td>\n",
       "      <td>NaN</td>\n",
       "      <td>NaN</td>\n",
       "      <td>NaN</td>\n",
       "      <td>2017-03-31 19:04:56.645000+08:00</td>\n",
       "      <td>profile_set_once</td>\n",
       "    </tr>\n",
       "    <tr>\n",
       "      <th>2</th>\n",
       "      <td>9587552771961</td>\n",
       "      <td>9939d3e087bca29c42334d96dccd25ca0e06652a</td>\n",
       "      <td>$pageview</td>\n",
       "      <td>NaN</td>\n",
       "      <td>js</td>\n",
       "      <td>code</td>\n",
       "      <td>1.6.20</td>\n",
       "      <td>chrome</td>\n",
       "      <td>56.0</td>\n",
       "      <td>NaN</td>\n",
       "      <td>...</td>\n",
       "      <td>NaN</td>\n",
       "      <td>NaN</td>\n",
       "      <td>NaN</td>\n",
       "      <td>https://sensorsdata.cn/?ch=demo</td>\n",
       "      <td>NaN</td>\n",
       "      <td>NaN</td>\n",
       "      <td>NaN</td>\n",
       "      <td>NaN</td>\n",
       "      <td>2017-03-06 17:04:10.856000+08:00</td>\n",
       "      <td>track</td>\n",
       "    </tr>\n",
       "    <tr>\n",
       "      <th>3</th>\n",
       "      <td>652937076129</td>\n",
       "      <td>9939d3e087bca29c42334d96dccd25ca0e06652a</td>\n",
       "      <td>btnClick</td>\n",
       "      <td>NaN</td>\n",
       "      <td>js</td>\n",
       "      <td>code</td>\n",
       "      <td>1.6.20</td>\n",
       "      <td>chrome</td>\n",
       "      <td>56.0</td>\n",
       "      <td>NaN</td>\n",
       "      <td>...</td>\n",
       "      <td>NaN</td>\n",
       "      <td>2.0</td>\n",
       "      <td>NaN</td>\n",
       "      <td>https://sensorsdata.cn/?ch=demo</td>\n",
       "      <td>NaN</td>\n",
       "      <td>NaN</td>\n",
       "      <td>NaN</td>\n",
       "      <td>NaN</td>\n",
       "      <td>2017-03-06 17:04:11.772000+08:00</td>\n",
       "      <td>track</td>\n",
       "    </tr>\n",
       "    <tr>\n",
       "      <th>4</th>\n",
       "      <td>8207407748558</td>\n",
       "      <td>9939d3e087bca29c42334d96dccd25ca0e06652a</td>\n",
       "      <td>btnClick</td>\n",
       "      <td>NaN</td>\n",
       "      <td>js</td>\n",
       "      <td>code</td>\n",
       "      <td>1.6.20</td>\n",
       "      <td>chrome</td>\n",
       "      <td>56.0</td>\n",
       "      <td>NaN</td>\n",
       "      <td>...</td>\n",
       "      <td>NaN</td>\n",
       "      <td>2.0</td>\n",
       "      <td>NaN</td>\n",
       "      <td>https://sensorsdata.cn/?ch=demo</td>\n",
       "      <td>NaN</td>\n",
       "      <td>NaN</td>\n",
       "      <td>NaN</td>\n",
       "      <td>NaN</td>\n",
       "      <td>2017-03-06 17:04:16.032000+08:00</td>\n",
       "      <td>track</td>\n",
       "    </tr>\n",
       "    <tr>\n",
       "      <th>8</th>\n",
       "      <td>6907472183771</td>\n",
       "      <td>9939d3e087bca29c42334d96dccd25ca0e06652a</td>\n",
       "      <td>btnClick</td>\n",
       "      <td>NaN</td>\n",
       "      <td>js</td>\n",
       "      <td>code</td>\n",
       "      <td>1.6.20</td>\n",
       "      <td>chrome</td>\n",
       "      <td>56.0</td>\n",
       "      <td>NaN</td>\n",
       "      <td>...</td>\n",
       "      <td>NaN</td>\n",
       "      <td>2.0</td>\n",
       "      <td>NaN</td>\n",
       "      <td>https://sensorsdata.cn/?ch=demo</td>\n",
       "      <td>NaN</td>\n",
       "      <td>NaN</td>\n",
       "      <td>NaN</td>\n",
       "      <td>NaN</td>\n",
       "      <td>2017-03-06 17:04:23.942000+08:00</td>\n",
       "      <td>track</td>\n",
       "    </tr>\n",
       "    <tr>\n",
       "      <th>17</th>\n",
       "      <td>2078298564543</td>\n",
       "      <td>9939d3e087bca29c42334d96dccd25ca0e06652a</td>\n",
       "      <td>click_send_cellphone</td>\n",
       "      <td>NaN</td>\n",
       "      <td>js</td>\n",
       "      <td>code</td>\n",
       "      <td>1.6.20</td>\n",
       "      <td>chrome</td>\n",
       "      <td>56.0</td>\n",
       "      <td>NaN</td>\n",
       "      <td>...</td>\n",
       "      <td>NaN</td>\n",
       "      <td>NaN</td>\n",
       "      <td>ajax success</td>\n",
       "      <td>https://sensorsdata.cn/?ch=demo</td>\n",
       "      <td>NaN</td>\n",
       "      <td>NaN</td>\n",
       "      <td>NaN</td>\n",
       "      <td>NaN</td>\n",
       "      <td>2017-03-06 17:05:14.336000+08:00</td>\n",
       "      <td>track</td>\n",
       "    </tr>\n",
       "    <tr>\n",
       "      <th>23</th>\n",
       "      <td>433821380624</td>\n",
       "      <td>9939d3e087bca29c42334d96dccd25ca0e06652a</td>\n",
       "      <td>verify_cellphone_code</td>\n",
       "      <td>NaN</td>\n",
       "      <td>js</td>\n",
       "      <td>code</td>\n",
       "      <td>1.6.20</td>\n",
       "      <td>chrome</td>\n",
       "      <td>56.0</td>\n",
       "      <td>NaN</td>\n",
       "      <td>...</td>\n",
       "      <td>NaN</td>\n",
       "      <td>NaN</td>\n",
       "      <td>正确</td>\n",
       "      <td>https://sensorsdata.cn/?ch=demo</td>\n",
       "      <td>NaN</td>\n",
       "      <td>NaN</td>\n",
       "      <td>NaN</td>\n",
       "      <td>NaN</td>\n",
       "      <td>2017-03-06 17:05:23.038000+08:00</td>\n",
       "      <td>track</td>\n",
       "    </tr>\n",
       "    <tr>\n",
       "      <th>25</th>\n",
       "      <td>811173513767</td>\n",
       "      <td>9939d3e087bca29c42334d96dccd25ca0e06652a</td>\n",
       "      <td>verify_cellphone_code</td>\n",
       "      <td>NaN</td>\n",
       "      <td>js</td>\n",
       "      <td>code</td>\n",
       "      <td>1.6.20</td>\n",
       "      <td>chrome</td>\n",
       "      <td>56.0</td>\n",
       "      <td>NaN</td>\n",
       "      <td>...</td>\n",
       "      <td>NaN</td>\n",
       "      <td>NaN</td>\n",
       "      <td>正确</td>\n",
       "      <td>https://sensorsdata.cn/?ch=demo</td>\n",
       "      <td>NaN</td>\n",
       "      <td>NaN</td>\n",
       "      <td>NaN</td>\n",
       "      <td>NaN</td>\n",
       "      <td>2017-03-06 17:05:23.125000+08:00</td>\n",
       "      <td>track</td>\n",
       "    </tr>\n",
       "    <tr>\n",
       "      <th>32</th>\n",
       "      <td>7825449252929</td>\n",
       "      <td>9939d3e087bca29c42334d96dccd25ca0e06652a</td>\n",
       "      <td>clickSubmit</td>\n",
       "      <td>NaN</td>\n",
       "      <td>js</td>\n",
       "      <td>code</td>\n",
       "      <td>1.6.20</td>\n",
       "      <td>chrome</td>\n",
       "      <td>56.0</td>\n",
       "      <td>NaN</td>\n",
       "      <td>...</td>\n",
       "      <td>NaN</td>\n",
       "      <td>2.0</td>\n",
       "      <td>NaN</td>\n",
       "      <td>https://sensorsdata.cn/?ch=demo</td>\n",
       "      <td>NaN</td>\n",
       "      <td>https://sensorsdata.cn/?ch=demo</td>\n",
       "      <td>NaN</td>\n",
       "      <td>9415</td>\n",
       "      <td>2017-03-06 17:05:43.422000+08:00</td>\n",
       "      <td>track</td>\n",
       "    </tr>\n",
       "    <tr>\n",
       "      <th>44</th>\n",
       "      <td>3866530543034</td>\n",
       "      <td>9939d3e087bca29c42334d96dccd25ca0e06652a</td>\n",
       "      <td>btnClick</td>\n",
       "      <td>NaN</td>\n",
       "      <td>js</td>\n",
       "      <td>code</td>\n",
       "      <td>1.6.20</td>\n",
       "      <td>chrome</td>\n",
       "      <td>56.0</td>\n",
       "      <td>NaN</td>\n",
       "      <td>...</td>\n",
       "      <td>NaN</td>\n",
       "      <td>NaN</td>\n",
       "      <td>NaN</td>\n",
       "      <td>https://sensorsdata.cn/?ch=demo</td>\n",
       "      <td>NaN</td>\n",
       "      <td>NaN</td>\n",
       "      <td>NaN</td>\n",
       "      <td>NaN</td>\n",
       "      <td>2017-03-06 17:05:54.028000+08:00</td>\n",
       "      <td>track</td>\n",
       "    </tr>\n",
       "    <tr>\n",
       "      <th>45</th>\n",
       "      <td>8016363734984</td>\n",
       "      <td>9939d3e087bca29c42334d96dccd25ca0e06652a</td>\n",
       "      <td>index_leave</td>\n",
       "      <td>NaN</td>\n",
       "      <td>js</td>\n",
       "      <td>code</td>\n",
       "      <td>1.6.20</td>\n",
       "      <td>chrome</td>\n",
       "      <td>56.0</td>\n",
       "      <td>NaN</td>\n",
       "      <td>...</td>\n",
       "      <td>NaN</td>\n",
       "      <td>NaN</td>\n",
       "      <td>NaN</td>\n",
       "      <td>https://sensorsdata.cn/?ch=demo</td>\n",
       "      <td>NaN</td>\n",
       "      <td>NaN</td>\n",
       "      <td>NaN</td>\n",
       "      <td>NaN</td>\n",
       "      <td>2017-03-06 17:05:54.034000+08:00</td>\n",
       "      <td>track</td>\n",
       "    </tr>\n",
       "    <tr>\n",
       "      <th>46</th>\n",
       "      <td>4967821377898</td>\n",
       "      <td>9939d3e087bca29c42334d96dccd25ca0e06652a</td>\n",
       "      <td>$pageview</td>\n",
       "      <td>NaN</td>\n",
       "      <td>js</td>\n",
       "      <td>code</td>\n",
       "      <td>1.6.20</td>\n",
       "      <td>chrome</td>\n",
       "      <td>56.0</td>\n",
       "      <td>NaN</td>\n",
       "      <td>...</td>\n",
       "      <td>NaN</td>\n",
       "      <td>NaN</td>\n",
       "      <td>NaN</td>\n",
       "      <td>https://sensorsdata.cn/?ch=demo</td>\n",
       "      <td>NaN</td>\n",
       "      <td>NaN</td>\n",
       "      <td>NaN</td>\n",
       "      <td>NaN</td>\n",
       "      <td>2017-03-06 17:05:54.664000+08:00</td>\n",
       "      <td>track</td>\n",
       "    </tr>\n",
       "    <tr>\n",
       "      <th>106</th>\n",
       "      <td>7208740376672</td>\n",
       "      <td>9939d3e087bca29c42334d96dccd25ca0e06652a</td>\n",
       "      <td>btnClick</td>\n",
       "      <td>NaN</td>\n",
       "      <td>js</td>\n",
       "      <td>code</td>\n",
       "      <td>1.6.20</td>\n",
       "      <td>chrome</td>\n",
       "      <td>56.0</td>\n",
       "      <td>NaN</td>\n",
       "      <td>...</td>\n",
       "      <td>NaN</td>\n",
       "      <td>NaN</td>\n",
       "      <td>NaN</td>\n",
       "      <td>https://sensorsdata.cn/?ch=demo</td>\n",
       "      <td>NaN</td>\n",
       "      <td>NaN</td>\n",
       "      <td>NaN</td>\n",
       "      <td>NaN</td>\n",
       "      <td>2017-03-06 17:08:00.083000+08:00</td>\n",
       "      <td>track</td>\n",
       "    </tr>\n",
       "    <tr>\n",
       "      <th>107</th>\n",
       "      <td>7778584242463</td>\n",
       "      <td>9939d3e087bca29c42334d96dccd25ca0e06652a</td>\n",
       "      <td>demo_leave</td>\n",
       "      <td>NaN</td>\n",
       "      <td>js</td>\n",
       "      <td>code</td>\n",
       "      <td>1.6.20</td>\n",
       "      <td>chrome</td>\n",
       "      <td>56.0</td>\n",
       "      <td>NaN</td>\n",
       "      <td>...</td>\n",
       "      <td>NaN</td>\n",
       "      <td>NaN</td>\n",
       "      <td>NaN</td>\n",
       "      <td>https://sensorsdata.cn/?ch=demo</td>\n",
       "      <td>NaN</td>\n",
       "      <td>NaN</td>\n",
       "      <td>NaN</td>\n",
       "      <td>NaN</td>\n",
       "      <td>2017-03-06 17:08:00.106000+08:00</td>\n",
       "      <td>track</td>\n",
       "    </tr>\n",
       "    <tr>\n",
       "      <th>108</th>\n",
       "      <td>4915426439435</td>\n",
       "      <td>9939d3e087bca29c42334d96dccd25ca0e06652a</td>\n",
       "      <td>$pageview</td>\n",
       "      <td>NaN</td>\n",
       "      <td>js</td>\n",
       "      <td>code</td>\n",
       "      <td>1.6.20</td>\n",
       "      <td>chrome</td>\n",
       "      <td>56.0</td>\n",
       "      <td>NaN</td>\n",
       "      <td>...</td>\n",
       "      <td>NaN</td>\n",
       "      <td>NaN</td>\n",
       "      <td>NaN</td>\n",
       "      <td>https://sensorsdata.cn/?ch=demo</td>\n",
       "      <td>NaN</td>\n",
       "      <td>NaN</td>\n",
       "      <td>NaN</td>\n",
       "      <td>NaN</td>\n",
       "      <td>2017-03-06 17:08:00.273000+08:00</td>\n",
       "      <td>track</td>\n",
       "    </tr>\n",
       "    <tr>\n",
       "      <th>109</th>\n",
       "      <td>9986898228930</td>\n",
       "      <td>9939d3e087bca29c42334d96dccd25ca0e06652a</td>\n",
       "      <td>btnClick</td>\n",
       "      <td>NaN</td>\n",
       "      <td>js</td>\n",
       "      <td>code</td>\n",
       "      <td>1.6.20</td>\n",
       "      <td>chrome</td>\n",
       "      <td>56.0</td>\n",
       "      <td>NaN</td>\n",
       "      <td>...</td>\n",
       "      <td>NaN</td>\n",
       "      <td>NaN</td>\n",
       "      <td>NaN</td>\n",
       "      <td>https://sensorsdata.cn/?ch=demo</td>\n",
       "      <td>NaN</td>\n",
       "      <td>NaN</td>\n",
       "      <td>NaN</td>\n",
       "      <td>NaN</td>\n",
       "      <td>2017-03-06 17:08:00.960000+08:00</td>\n",
       "      <td>track</td>\n",
       "    </tr>\n",
       "    <tr>\n",
       "      <th>110</th>\n",
       "      <td>8867606640747</td>\n",
       "      <td>9939d3e087bca29c42334d96dccd25ca0e06652a</td>\n",
       "      <td>$pageview</td>\n",
       "      <td>NaN</td>\n",
       "      <td>js</td>\n",
       "      <td>code</td>\n",
       "      <td>1.6.20</td>\n",
       "      <td>chrome</td>\n",
       "      <td>56.0</td>\n",
       "      <td>NaN</td>\n",
       "      <td>...</td>\n",
       "      <td>NaN</td>\n",
       "      <td>NaN</td>\n",
       "      <td>NaN</td>\n",
       "      <td>https://sensorsdata.cn/?ch=demo</td>\n",
       "      <td>NaN</td>\n",
       "      <td>NaN</td>\n",
       "      <td>NaN</td>\n",
       "      <td>NaN</td>\n",
       "      <td>2017-03-06 17:08:01.468000+08:00</td>\n",
       "      <td>track</td>\n",
       "    </tr>\n",
       "    <tr>\n",
       "      <th>114</th>\n",
       "      <td>9359784382720</td>\n",
       "      <td>9939d3e087bca29c42334d96dccd25ca0e06652a</td>\n",
       "      <td>btnClick</td>\n",
       "      <td>NaN</td>\n",
       "      <td>js</td>\n",
       "      <td>code</td>\n",
       "      <td>1.6.20</td>\n",
       "      <td>chrome</td>\n",
       "      <td>56.0</td>\n",
       "      <td>NaN</td>\n",
       "      <td>...</td>\n",
       "      <td>NaN</td>\n",
       "      <td>NaN</td>\n",
       "      <td>NaN</td>\n",
       "      <td>https://sensorsdata.cn/?ch=demo</td>\n",
       "      <td>NaN</td>\n",
       "      <td>NaN</td>\n",
       "      <td>NaN</td>\n",
       "      <td>NaN</td>\n",
       "      <td>2017-03-06 17:08:17.175000+08:00</td>\n",
       "      <td>track</td>\n",
       "    </tr>\n",
       "    <tr>\n",
       "      <th>115</th>\n",
       "      <td>1644391998770</td>\n",
       "      <td>9939d3e087bca29c42334d96dccd25ca0e06652a</td>\n",
       "      <td>$pageview</td>\n",
       "      <td>NaN</td>\n",
       "      <td>js</td>\n",
       "      <td>code</td>\n",
       "      <td>1.6.20</td>\n",
       "      <td>chrome</td>\n",
       "      <td>56.0</td>\n",
       "      <td>NaN</td>\n",
       "      <td>...</td>\n",
       "      <td>NaN</td>\n",
       "      <td>NaN</td>\n",
       "      <td>NaN</td>\n",
       "      <td>https://sensorsdata.cn/?ch=demo</td>\n",
       "      <td>NaN</td>\n",
       "      <td>NaN</td>\n",
       "      <td>NaN</td>\n",
       "      <td>NaN</td>\n",
       "      <td>2017-03-06 17:08:17.398000+08:00</td>\n",
       "      <td>track</td>\n",
       "    </tr>\n",
       "    <tr>\n",
       "      <th>119</th>\n",
       "      <td>8969542314363</td>\n",
       "      <td>9939d3e087bca29c42334d96dccd25ca0e06652a</td>\n",
       "      <td>$pageview</td>\n",
       "      <td>NaN</td>\n",
       "      <td>js</td>\n",
       "      <td>code</td>\n",
       "      <td>1.6.20</td>\n",
       "      <td>chrome</td>\n",
       "      <td>56.0</td>\n",
       "      <td>NaN</td>\n",
       "      <td>...</td>\n",
       "      <td>NaN</td>\n",
       "      <td>NaN</td>\n",
       "      <td>NaN</td>\n",
       "      <td>https://sensorsdata.cn/?ch=demo</td>\n",
       "      <td>NaN</td>\n",
       "      <td>NaN</td>\n",
       "      <td>NaN</td>\n",
       "      <td>NaN</td>\n",
       "      <td>2017-03-06 17:08:40.757000+08:00</td>\n",
       "      <td>track</td>\n",
       "    </tr>\n",
       "    <tr>\n",
       "      <th>120</th>\n",
       "      <td>4299464002517</td>\n",
       "      <td>9939d3e087bca29c42334d96dccd25ca0e06652a</td>\n",
       "      <td>index_leave</td>\n",
       "      <td>NaN</td>\n",
       "      <td>js</td>\n",
       "      <td>code</td>\n",
       "      <td>1.6.20</td>\n",
       "      <td>chrome</td>\n",
       "      <td>56.0</td>\n",
       "      <td>NaN</td>\n",
       "      <td>...</td>\n",
       "      <td>NaN</td>\n",
       "      <td>NaN</td>\n",
       "      <td>NaN</td>\n",
       "      <td>https://sensorsdata.cn/?ch=demo</td>\n",
       "      <td>NaN</td>\n",
       "      <td>NaN</td>\n",
       "      <td>NaN</td>\n",
       "      <td>NaN</td>\n",
       "      <td>2017-03-06 17:08:42.372000+08:00</td>\n",
       "      <td>track</td>\n",
       "    </tr>\n",
       "    <tr>\n",
       "      <th>572</th>\n",
       "      <td>9817393211807</td>\n",
       "      <td>9939d3e087bca29c42334d96dccd25ca0e06652a</td>\n",
       "      <td>demo_leave</td>\n",
       "      <td>NaN</td>\n",
       "      <td>js</td>\n",
       "      <td>code</td>\n",
       "      <td>1.6.20</td>\n",
       "      <td>chrome</td>\n",
       "      <td>56.0</td>\n",
       "      <td>NaN</td>\n",
       "      <td>...</td>\n",
       "      <td>NaN</td>\n",
       "      <td>NaN</td>\n",
       "      <td>NaN</td>\n",
       "      <td>https://sensorsdata.cn/?ch=demo</td>\n",
       "      <td>NaN</td>\n",
       "      <td>NaN</td>\n",
       "      <td>NaN</td>\n",
       "      <td>NaN</td>\n",
       "      <td>2017-03-06 17:36:46.420000+08:00</td>\n",
       "      <td>track</td>\n",
       "    </tr>\n",
       "  </tbody>\n",
       "</table>\n",
       "<p>22 rows × 70 columns</p>\n",
       "</div>"
      ],
      "text/plain": [
       "          _nocache                               distinct_id  \\\n",
       "1    3040562711955  9939d3e087bca29c42334d96dccd25ca0e06652a   \n",
       "2    9587552771961  9939d3e087bca29c42334d96dccd25ca0e06652a   \n",
       "3     652937076129  9939d3e087bca29c42334d96dccd25ca0e06652a   \n",
       "4    8207407748558  9939d3e087bca29c42334d96dccd25ca0e06652a   \n",
       "8    6907472183771  9939d3e087bca29c42334d96dccd25ca0e06652a   \n",
       "17   2078298564543  9939d3e087bca29c42334d96dccd25ca0e06652a   \n",
       "23    433821380624  9939d3e087bca29c42334d96dccd25ca0e06652a   \n",
       "25    811173513767  9939d3e087bca29c42334d96dccd25ca0e06652a   \n",
       "32   7825449252929  9939d3e087bca29c42334d96dccd25ca0e06652a   \n",
       "44   3866530543034  9939d3e087bca29c42334d96dccd25ca0e06652a   \n",
       "45   8016363734984  9939d3e087bca29c42334d96dccd25ca0e06652a   \n",
       "46   4967821377898  9939d3e087bca29c42334d96dccd25ca0e06652a   \n",
       "106  7208740376672  9939d3e087bca29c42334d96dccd25ca0e06652a   \n",
       "107  7778584242463  9939d3e087bca29c42334d96dccd25ca0e06652a   \n",
       "108  4915426439435  9939d3e087bca29c42334d96dccd25ca0e06652a   \n",
       "109  9986898228930  9939d3e087bca29c42334d96dccd25ca0e06652a   \n",
       "110  8867606640747  9939d3e087bca29c42334d96dccd25ca0e06652a   \n",
       "114  9359784382720  9939d3e087bca29c42334d96dccd25ca0e06652a   \n",
       "115  1644391998770  9939d3e087bca29c42334d96dccd25ca0e06652a   \n",
       "119  8969542314363  9939d3e087bca29c42334d96dccd25ca0e06652a   \n",
       "120  4299464002517  9939d3e087bca29c42334d96dccd25ca0e06652a   \n",
       "572  9817393211807  9939d3e087bca29c42334d96dccd25ca0e06652a   \n",
       "\n",
       "                     event jssdk_error lib.$lib lib.$lib_method  \\\n",
       "1                      NaN         NaN       js            code   \n",
       "2                $pageview         NaN       js            code   \n",
       "3                 btnClick         NaN       js            code   \n",
       "4                 btnClick         NaN       js            code   \n",
       "8                 btnClick         NaN       js            code   \n",
       "17    click_send_cellphone         NaN       js            code   \n",
       "23   verify_cellphone_code         NaN       js            code   \n",
       "25   verify_cellphone_code         NaN       js            code   \n",
       "32             clickSubmit         NaN       js            code   \n",
       "44                btnClick         NaN       js            code   \n",
       "45             index_leave         NaN       js            code   \n",
       "46               $pageview         NaN       js            code   \n",
       "106               btnClick         NaN       js            code   \n",
       "107             demo_leave         NaN       js            code   \n",
       "108              $pageview         NaN       js            code   \n",
       "109               btnClick         NaN       js            code   \n",
       "110              $pageview         NaN       js            code   \n",
       "114               btnClick         NaN       js            code   \n",
       "115              $pageview         NaN       js            code   \n",
       "119              $pageview         NaN       js            code   \n",
       "120            index_leave         NaN       js            code   \n",
       "572             demo_leave         NaN       js            code   \n",
       "\n",
       "    lib.$lib_version properties.$browser  properties.$browser_version  \\\n",
       "1             1.6.20                 NaN                          NaN   \n",
       "2             1.6.20              chrome                         56.0   \n",
       "3             1.6.20              chrome                         56.0   \n",
       "4             1.6.20              chrome                         56.0   \n",
       "8             1.6.20              chrome                         56.0   \n",
       "17            1.6.20              chrome                         56.0   \n",
       "23            1.6.20              chrome                         56.0   \n",
       "25            1.6.20              chrome                         56.0   \n",
       "32            1.6.20              chrome                         56.0   \n",
       "44            1.6.20              chrome                         56.0   \n",
       "45            1.6.20              chrome                         56.0   \n",
       "46            1.6.20              chrome                         56.0   \n",
       "106           1.6.20              chrome                         56.0   \n",
       "107           1.6.20              chrome                         56.0   \n",
       "108           1.6.20              chrome                         56.0   \n",
       "109           1.6.20              chrome                         56.0   \n",
       "110           1.6.20              chrome                         56.0   \n",
       "114           1.6.20              chrome                         56.0   \n",
       "115           1.6.20              chrome                         56.0   \n",
       "119           1.6.20              chrome                         56.0   \n",
       "120           1.6.20              chrome                         56.0   \n",
       "572           1.6.20              chrome                         56.0   \n",
       "\n",
       "    properties.$first_browser_language        ...         \\\n",
       "1                                zh-CN        ...          \n",
       "2                                  NaN        ...          \n",
       "3                                  NaN        ...          \n",
       "4                                  NaN        ...          \n",
       "8                                  NaN        ...          \n",
       "17                                 NaN        ...          \n",
       "23                                 NaN        ...          \n",
       "25                                 NaN        ...          \n",
       "32                                 NaN        ...          \n",
       "44                                 NaN        ...          \n",
       "45                                 NaN        ...          \n",
       "46                                 NaN        ...          \n",
       "106                                NaN        ...          \n",
       "107                                NaN        ...          \n",
       "108                                NaN        ...          \n",
       "109                                NaN        ...          \n",
       "110                                NaN        ...          \n",
       "114                                NaN        ...          \n",
       "115                                NaN        ...          \n",
       "119                                NaN        ...          \n",
       "120                                NaN        ...          \n",
       "572                                NaN        ...          \n",
       "\n",
       "    properties.referrerUrl properties.requestBtn properties.result  \\\n",
       "1                      NaN                   NaN               NaN   \n",
       "2                      NaN                   NaN               NaN   \n",
       "3                      NaN                   2.0               NaN   \n",
       "4                      NaN                   2.0               NaN   \n",
       "8                      NaN                   2.0               NaN   \n",
       "17                     NaN                   NaN      ajax success   \n",
       "23                     NaN                   NaN                正确   \n",
       "25                     NaN                   NaN                正确   \n",
       "32                     NaN                   2.0               NaN   \n",
       "44                     NaN                   NaN               NaN   \n",
       "45                     NaN                   NaN               NaN   \n",
       "46                     NaN                   NaN               NaN   \n",
       "106                    NaN                   NaN               NaN   \n",
       "107                    NaN                   NaN               NaN   \n",
       "108                    NaN                   NaN               NaN   \n",
       "109                    NaN                   NaN               NaN   \n",
       "110                    NaN                   NaN               NaN   \n",
       "114                    NaN                   NaN               NaN   \n",
       "115                    NaN                   NaN               NaN   \n",
       "119                    NaN                   NaN               NaN   \n",
       "120                    NaN                   NaN               NaN   \n",
       "572                    NaN                   NaN               NaN   \n",
       "\n",
       "         properties.session_page_url properties.siteUrl  \\\n",
       "1                                NaN                NaN   \n",
       "2    https://sensorsdata.cn/?ch=demo                NaN   \n",
       "3    https://sensorsdata.cn/?ch=demo                NaN   \n",
       "4    https://sensorsdata.cn/?ch=demo                NaN   \n",
       "8    https://sensorsdata.cn/?ch=demo                NaN   \n",
       "17   https://sensorsdata.cn/?ch=demo                NaN   \n",
       "23   https://sensorsdata.cn/?ch=demo                NaN   \n",
       "25   https://sensorsdata.cn/?ch=demo                NaN   \n",
       "32   https://sensorsdata.cn/?ch=demo                NaN   \n",
       "44   https://sensorsdata.cn/?ch=demo                NaN   \n",
       "45   https://sensorsdata.cn/?ch=demo                NaN   \n",
       "46   https://sensorsdata.cn/?ch=demo                NaN   \n",
       "106  https://sensorsdata.cn/?ch=demo                NaN   \n",
       "107  https://sensorsdata.cn/?ch=demo                NaN   \n",
       "108  https://sensorsdata.cn/?ch=demo                NaN   \n",
       "109  https://sensorsdata.cn/?ch=demo                NaN   \n",
       "110  https://sensorsdata.cn/?ch=demo                NaN   \n",
       "114  https://sensorsdata.cn/?ch=demo                NaN   \n",
       "115  https://sensorsdata.cn/?ch=demo                NaN   \n",
       "119  https://sensorsdata.cn/?ch=demo                NaN   \n",
       "120  https://sensorsdata.cn/?ch=demo                NaN   \n",
       "572  https://sensorsdata.cn/?ch=demo                NaN   \n",
       "\n",
       "                 properties.site_url properties.url_path  \\\n",
       "1                                NaN                 NaN   \n",
       "2                                NaN                 NaN   \n",
       "3                                NaN                 NaN   \n",
       "4                                NaN                 NaN   \n",
       "8                                NaN                 NaN   \n",
       "17                               NaN                 NaN   \n",
       "23                               NaN                 NaN   \n",
       "25                               NaN                 NaN   \n",
       "32   https://sensorsdata.cn/?ch=demo                 NaN   \n",
       "44                               NaN                 NaN   \n",
       "45                               NaN                 NaN   \n",
       "46                               NaN                 NaN   \n",
       "106                              NaN                 NaN   \n",
       "107                              NaN                 NaN   \n",
       "108                              NaN                 NaN   \n",
       "109                              NaN                 NaN   \n",
       "110                              NaN                 NaN   \n",
       "114                              NaN                 NaN   \n",
       "115                              NaN                 NaN   \n",
       "119                              NaN                 NaN   \n",
       "120                              NaN                 NaN   \n",
       "572                              NaN                 NaN   \n",
       "\n",
       "    properties.verification_code                              time  \\\n",
       "1                            NaN  2017-03-31 19:04:56.645000+08:00   \n",
       "2                            NaN  2017-03-06 17:04:10.856000+08:00   \n",
       "3                            NaN  2017-03-06 17:04:11.772000+08:00   \n",
       "4                            NaN  2017-03-06 17:04:16.032000+08:00   \n",
       "8                            NaN  2017-03-06 17:04:23.942000+08:00   \n",
       "17                           NaN  2017-03-06 17:05:14.336000+08:00   \n",
       "23                           NaN  2017-03-06 17:05:23.038000+08:00   \n",
       "25                           NaN  2017-03-06 17:05:23.125000+08:00   \n",
       "32                          9415  2017-03-06 17:05:43.422000+08:00   \n",
       "44                           NaN  2017-03-06 17:05:54.028000+08:00   \n",
       "45                           NaN  2017-03-06 17:05:54.034000+08:00   \n",
       "46                           NaN  2017-03-06 17:05:54.664000+08:00   \n",
       "106                          NaN  2017-03-06 17:08:00.083000+08:00   \n",
       "107                          NaN  2017-03-06 17:08:00.106000+08:00   \n",
       "108                          NaN  2017-03-06 17:08:00.273000+08:00   \n",
       "109                          NaN  2017-03-06 17:08:00.960000+08:00   \n",
       "110                          NaN  2017-03-06 17:08:01.468000+08:00   \n",
       "114                          NaN  2017-03-06 17:08:17.175000+08:00   \n",
       "115                          NaN  2017-03-06 17:08:17.398000+08:00   \n",
       "119                          NaN  2017-03-06 17:08:40.757000+08:00   \n",
       "120                          NaN  2017-03-06 17:08:42.372000+08:00   \n",
       "572                          NaN  2017-03-06 17:36:46.420000+08:00   \n",
       "\n",
       "                 type  \n",
       "1    profile_set_once  \n",
       "2               track  \n",
       "3               track  \n",
       "4               track  \n",
       "8               track  \n",
       "17              track  \n",
       "23              track  \n",
       "25              track  \n",
       "32              track  \n",
       "44              track  \n",
       "45              track  \n",
       "46              track  \n",
       "106             track  \n",
       "107             track  \n",
       "108             track  \n",
       "109             track  \n",
       "110             track  \n",
       "114             track  \n",
       "115             track  \n",
       "119             track  \n",
       "120             track  \n",
       "572             track  \n",
       "\n",
       "[22 rows x 70 columns]"
      ]
     },
     "execution_count": 90,
     "metadata": {},
     "output_type": "execute_result"
    }
   ],
   "source": [
    "df.loc[df['distinct_id']==u'9939d3e087bca29c42334d96dccd25ca0e06652a',:]"
   ]
  },
  {
   "cell_type": "markdown",
   "metadata": {},
   "source": [
    "### A index_leave user"
   ]
  },
  {
   "cell_type": "code",
   "execution_count": 111,
   "metadata": {},
   "outputs": [
    {
     "data": {
      "text/plain": [
       "u'9357ebad253cd4e8343ae218552381d97144f81d'"
      ]
     },
     "execution_count": 111,
     "metadata": {},
     "output_type": "execute_result"
    }
   ],
   "source": [
    "(df.loc[df['event']=='index_leave',:]).loc[:,'distinct_id'].iloc[5]"
   ]
  },
  {
   "cell_type": "code",
   "execution_count": 132,
   "metadata": {
    "collapsed": true
   },
   "outputs": [],
   "source": [
    "a = df.loc[df['distinct_id']==u'9357ebad253cd4e8343ae218552381d97144f81d',:]"
   ]
  },
  {
   "cell_type": "code",
   "execution_count": 113,
   "metadata": {},
   "outputs": [
    {
     "data": {
      "text/html": [
       "<div>\n",
       "<style>\n",
       "    .dataframe thead tr:only-child th {\n",
       "        text-align: right;\n",
       "    }\n",
       "\n",
       "    .dataframe thead th {\n",
       "        text-align: left;\n",
       "    }\n",
       "\n",
       "    .dataframe tbody tr th {\n",
       "        vertical-align: top;\n",
       "    }\n",
       "</style>\n",
       "<table border=\"1\" class=\"dataframe\">\n",
       "  <thead>\n",
       "    <tr style=\"text-align: right;\">\n",
       "      <th></th>\n",
       "      <th>_nocache</th>\n",
       "      <th>distinct_id</th>\n",
       "      <th>event</th>\n",
       "      <th>jssdk_error</th>\n",
       "      <th>lib</th>\n",
       "      <th>properties</th>\n",
       "      <th>time</th>\n",
       "      <th>type</th>\n",
       "    </tr>\n",
       "  </thead>\n",
       "  <tbody>\n",
       "    <tr>\n",
       "      <th>51</th>\n",
       "      <td>3565409544598</td>\n",
       "      <td>9357ebad253cd4e8343ae218552381d97144f81d</td>\n",
       "      <td>NaN</td>\n",
       "      <td>NaN</td>\n",
       "      <td>{u'$lib_method': u'code', u'$lib_version': u'1...</td>\n",
       "      <td>{u'$utm_medium': u'cpc', u'$utm_source': u'bai...</td>\n",
       "      <td>1490958296765</td>\n",
       "      <td>profile_set_once</td>\n",
       "    </tr>\n",
       "    <tr>\n",
       "      <th>52</th>\n",
       "      <td>0013197555060</td>\n",
       "      <td>9357ebad253cd4e8343ae218552381d97144f81d</td>\n",
       "      <td>$pageview</td>\n",
       "      <td>NaN</td>\n",
       "      <td>{u'$lib_method': u'code', u'$lib_version': u'1...</td>\n",
       "      <td>{u'$utm_medium': u'cpc', u'$latest_referrer': ...</td>\n",
       "      <td>1488791159732</td>\n",
       "      <td>track</td>\n",
       "    </tr>\n",
       "    <tr>\n",
       "      <th>58</th>\n",
       "      <td>2317560421001</td>\n",
       "      <td>9357ebad253cd4e8343ae218552381d97144f81d</td>\n",
       "      <td>btnClick</td>\n",
       "      <td>NaN</td>\n",
       "      <td>{u'$lib_method': u'code', u'$lib_version': u'1...</td>\n",
       "      <td>{u'$latest_referrer': u'https://www.baidu.com/...</td>\n",
       "      <td>1488791176847</td>\n",
       "      <td>track</td>\n",
       "    </tr>\n",
       "    <tr>\n",
       "      <th>59</th>\n",
       "      <td>3770060874789</td>\n",
       "      <td>9357ebad253cd4e8343ae218552381d97144f81d</td>\n",
       "      <td>index_leave</td>\n",
       "      <td>NaN</td>\n",
       "      <td>{u'$lib_method': u'code', u'$lib_version': u'1...</td>\n",
       "      <td>{u'pagePosition': 2, u'$latest_referrer': u'ht...</td>\n",
       "      <td>1488791176847</td>\n",
       "      <td>track</td>\n",
       "    </tr>\n",
       "    <tr>\n",
       "      <th>60</th>\n",
       "      <td>5766813759789</td>\n",
       "      <td>9357ebad253cd4e8343ae218552381d97144f81d</td>\n",
       "      <td>$pageview</td>\n",
       "      <td>NaN</td>\n",
       "      <td>{u'$lib_method': u'code', u'$lib_version': u'1...</td>\n",
       "      <td>{u'$latest_referrer': u'https://www.baidu.com/...</td>\n",
       "      <td>1488791177267</td>\n",
       "      <td>track</td>\n",
       "    </tr>\n",
       "    <tr>\n",
       "      <th>62</th>\n",
       "      <td>6501954101143</td>\n",
       "      <td>9357ebad253cd4e8343ae218552381d97144f81d</td>\n",
       "      <td>index_leave</td>\n",
       "      <td>NaN</td>\n",
       "      <td>{u'$lib_method': u'code', u'$lib_version': u'1...</td>\n",
       "      <td>{u'pagePosition': 4, u'$latest_referrer': u'ht...</td>\n",
       "      <td>1488791183520</td>\n",
       "      <td>track</td>\n",
       "    </tr>\n",
       "  </tbody>\n",
       "</table>\n",
       "</div>"
      ],
      "text/plain": [
       "         _nocache                               distinct_id        event  \\\n",
       "51  3565409544598  9357ebad253cd4e8343ae218552381d97144f81d          NaN   \n",
       "52  0013197555060  9357ebad253cd4e8343ae218552381d97144f81d    $pageview   \n",
       "58  2317560421001  9357ebad253cd4e8343ae218552381d97144f81d     btnClick   \n",
       "59  3770060874789  9357ebad253cd4e8343ae218552381d97144f81d  index_leave   \n",
       "60  5766813759789  9357ebad253cd4e8343ae218552381d97144f81d    $pageview   \n",
       "62  6501954101143  9357ebad253cd4e8343ae218552381d97144f81d  index_leave   \n",
       "\n",
       "   jssdk_error                                                lib  \\\n",
       "51         NaN  {u'$lib_method': u'code', u'$lib_version': u'1...   \n",
       "52         NaN  {u'$lib_method': u'code', u'$lib_version': u'1...   \n",
       "58         NaN  {u'$lib_method': u'code', u'$lib_version': u'1...   \n",
       "59         NaN  {u'$lib_method': u'code', u'$lib_version': u'1...   \n",
       "60         NaN  {u'$lib_method': u'code', u'$lib_version': u'1...   \n",
       "62         NaN  {u'$lib_method': u'code', u'$lib_version': u'1...   \n",
       "\n",
       "                                           properties           time  \\\n",
       "51  {u'$utm_medium': u'cpc', u'$utm_source': u'bai...  1490958296765   \n",
       "52  {u'$utm_medium': u'cpc', u'$latest_referrer': ...  1488791159732   \n",
       "58  {u'$latest_referrer': u'https://www.baidu.com/...  1488791176847   \n",
       "59  {u'pagePosition': 2, u'$latest_referrer': u'ht...  1488791176847   \n",
       "60  {u'$latest_referrer': u'https://www.baidu.com/...  1488791177267   \n",
       "62  {u'pagePosition': 4, u'$latest_referrer': u'ht...  1488791183520   \n",
       "\n",
       "                type  \n",
       "51  profile_set_once  \n",
       "52             track  \n",
       "58             track  \n",
       "59             track  \n",
       "60             track  \n",
       "62             track  "
      ]
     },
     "execution_count": 113,
     "metadata": {},
     "output_type": "execute_result"
    }
   ],
   "source": [
    "a"
   ]
  },
  {
   "cell_type": "code",
   "execution_count": 114,
   "metadata": {},
   "outputs": [
    {
     "data": {
      "text/plain": [
       "$pageview      2\n",
       "index_leave    2\n",
       "btnClick       1\n",
       "Name: event, dtype: int64"
      ]
     },
     "execution_count": 114,
     "metadata": {},
     "output_type": "execute_result"
    }
   ],
   "source": [
    "a.event.value_counts()"
   ]
  },
  {
   "cell_type": "code",
   "execution_count": 129,
   "metadata": {},
   "outputs": [
    {
     "data": {
      "text/plain": [
       "{u'$first_browser_language': u'en-US',\n",
       " u'$first_referrer': u'https://www.baidu.com/baidu.php',\n",
       " u'$first_referrer_host': u'www.baidu.com',\n",
       " u'$first_visit_time': u'2017-03-06 17:05:59.98',\n",
       " u'$utm_campaign': u'\\u901a\\u7528\\u8bcd',\n",
       " u'$utm_content': u'\\u901a\\u7528-\\u6570\\u636e\\u5206\\u6790-\\u4ea7\\u54c1',\n",
       " u'$utm_medium': u'cpc',\n",
       " u'$utm_source': u'baidu',\n",
       " u'$utm_term': u'\\u6570\\u636e\\u5206\\u6790\\u5e73\\u53f0'}"
      ]
     },
     "execution_count": 129,
     "metadata": {},
     "output_type": "execute_result"
    }
   ],
   "source": [
    "a.iloc[0].properties"
   ]
  },
  {
   "cell_type": "code",
   "execution_count": 133,
   "metadata": {},
   "outputs": [
    {
     "data": {
      "text/plain": [
       "{u'$browser': u'chrome',\n",
       " u'$browser_version': u'56',\n",
       " u'$ip': u'58.132.182.130',\n",
       " u'$is_first_day': True,\n",
       " u'$is_first_time': True,\n",
       " u'$latest_referrer': u'https://www.baidu.com/baidu.php',\n",
       " u'$latest_referrer_host': u'www.baidu.com',\n",
       " u'$latest_utm_campaign': u'\\u901a\\u7528\\u8bcd',\n",
       " u'$latest_utm_content': u'\\u901a\\u7528-\\u6570\\u636e\\u5206\\u6790-\\u4ea7\\u54c1',\n",
       " u'$latest_utm_medium': u'cpc',\n",
       " u'$latest_utm_source': u'baidu',\n",
       " u'$latest_utm_term': u'\\u6570\\u636e\\u5206\\u6790\\u5e73\\u53f0',\n",
       " u'$lib': u'js',\n",
       " u'$lib_version': u'1.6.20',\n",
       " u'$model': u'mac',\n",
       " u'$os': u'macosx',\n",
       " u'$os_version': u'10.12',\n",
       " u'$referrer': u'https://www.baidu.com/baidu.php',\n",
       " u'$referrer_host': u'www.baidu.com',\n",
       " u'$screen_height': 900,\n",
       " u'$screen_width': 1440,\n",
       " u'$title': u'\\u795e\\u7b56\\u6570\\u636e | Sensors Data - \\u56fd\\u5185\\u9886\\u5148\\u7684\\u7528\\u6237\\u884c\\u4e3a\\u5206\\u6790\\u4ea7\\u54c1',\n",
       " u'$url': u'https://www.sensorsdata.cn/?utm_source=baidu&utm_medium=cpc&utm_term=%E6%95%B0%E6%8D%AE%E5%88%86%E6%9E%90%E5%B9%B3%E5%8F%B0&utm_content=%E9%80%9A%E7%94%A8%2D%E6%95%B0%E6%8D%AE%E5%88%86%E6%9E%90%2D%E4%BA%A7%E5%93%81&utm_campaign=%E9%80%9A%E7%94%A8%E8%AF%8D',\n",
       " u'$url_path': u'/',\n",
       " u'$utm_campaign': u'\\u901a\\u7528\\u8bcd',\n",
       " u'$utm_content': u'\\u901a\\u7528-\\u6570\\u636e\\u5206\\u6790-\\u4ea7\\u54c1',\n",
       " u'$utm_medium': u'cpc',\n",
       " u'$utm_source': u'baidu',\n",
       " u'$utm_term': u'\\u6570\\u636e\\u5206\\u6790\\u5e73\\u53f0',\n",
       " u'_session_referrer': u'https://www.baidu.com/baidu.php',\n",
       " u'_session_referrer_host': u'www.baidu.com',\n",
       " u'session_page_url': u'https://www.sensorsdata.cn/?utm_source=baidu&utm_medium=cpc&utm_term=%E6%95%B0%E6%8D%AE%E5%88%86%E6%9E%90%E5%B9%B3%E5%8F%B0&utm_content=%E9%80%9A%E7%94%A8%2D%E6%95%B0%E6%8D%AE%E5%88%86%E6%9E%90%2D%E4%BA%A7%E5%93%81&utm_campaign=%E9%80%9A%E7%94%A8%E8%AF%8D'}"
      ]
     },
     "execution_count": 133,
     "metadata": {},
     "output_type": "execute_result"
    }
   ],
   "source": [
    "a.iloc[1].properties"
   ]
  },
  {
   "cell_type": "code",
   "execution_count": 128,
   "metadata": {},
   "outputs": [
    {
     "data": {
      "text/plain": [
       "array([u'profile_set_once'], dtype=object)"
      ]
     },
     "execution_count": 128,
     "metadata": {},
     "output_type": "execute_result"
    }
   ],
   "source": [
    "df.loc[df.event.isnull(),:]['type'].unique()"
   ]
  }
 ],
 "metadata": {
  "kernelspec": {
   "display_name": "Python 2",
   "language": "python",
   "name": "python2"
  },
  "language_info": {
   "codemirror_mode": {
    "name": "ipython",
    "version": 2
   },
   "file_extension": ".py",
   "mimetype": "text/x-python",
   "name": "python",
   "nbconvert_exporter": "python",
   "pygments_lexer": "ipython2",
   "version": "2.7.13"
  }
 },
 "nbformat": 4,
 "nbformat_minor": 2
}
