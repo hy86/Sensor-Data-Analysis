{
 "cells": [
  {
   "cell_type": "markdown",
   "metadata": {},
   "source": [
    "# Data Transformation and Modeling"
   ]
  },
  {
   "cell_type": "code",
   "execution_count": 1,
   "metadata": {
    "collapsed": true
   },
   "outputs": [],
   "source": [
    "import json\n",
    "import pandas as pd\n",
    "import numpy as np\n",
    "import matplotlib.pyplot as plt\n",
    "% matplotlib inline\n",
    "plt.style.use(\"ggplot\")\n",
    "from pandas.io.json import json_normalize"
   ]
  },
  {
   "cell_type": "code",
   "execution_count": 5,
   "metadata": {},
   "outputs": [
    {
     "name": "stderr",
     "output_type": "stream",
     "text": [
      "/Users/zhanghaoyan/anaconda2/lib/python2.7/site-packages/IPython/core/interactiveshell.py:2717: DtypeWarning: Columns (24) have mixed types. Specify dtype option on import or set low_memory=False.\n",
      "  interactivity=interactivity, compiler=compiler, result=result)\n"
     ]
    }
   ],
   "source": [
    "df = pd.read_csv('/Users/zhanghaoyan/Documents/DS501/BitTiger-DS501-1702/Projects/神策数据/sensor_data.csv',encoding='utf-8')"
   ]
  },
  {
   "cell_type": "code",
   "execution_count": 6,
   "metadata": {},
   "outputs": [
    {
     "data": {
      "text/plain": [
       "(8259, 6479)"
      ]
     },
     "execution_count": 6,
     "metadata": {},
     "output_type": "execute_result"
    }
   ],
   "source": [
    "users = df['distinct_id'].unique()\n",
    "new_users = df.loc[df['type']=='profile_set_once','distinct_id'].unique()\n",
    "users.size,new_users.size"
   ]
  },
  {
   "cell_type": "code",
   "execution_count": 7,
   "metadata": {},
   "outputs": [
    {
     "data": {
      "text/plain": [
       "(37181, 37)"
      ]
     },
     "execution_count": 7,
     "metadata": {},
     "output_type": "execute_result"
    }
   ],
   "source": [
    "df_new_users = df.loc[df['distinct_id'].isin(new_users),:]\n",
    "df_new_users.shape"
   ]
  },
  {
   "cell_type": "code",
   "execution_count": 255,
   "metadata": {
    "collapsed": true
   },
   "outputs": [],
   "source": [
    "condition = (df_new_users['event']=='btnClick')&(df_new_users['properties.name']=='request')\n",
    "click_request_user = df_new_users.loc[condition,'distinct_id'].unique()\n",
    "\n",
    "l = []\n",
    "for m, _ in enumerate(click_request_user):  \n",
    "\n",
    "    this_user = df_new_users.loc[(df_new_users['distinct_id']==click_request_user[m]),:].sort_values('time')\n",
    "\n",
    "    # find index of first requst button \n",
    "    condition = (this_user['event']=='btnClick')&(this_user['properties.name']=='request')\n",
    "    ind = this_user.index[condition][0]\n",
    "\n",
    "    n_this_user = this_user.reset_index()\n",
    "    ind = n_this_user.loc[n_this_user['index']==ind,:].index[0]\n",
    "    new_ind = n_this_user.loc[:(ind-1),'index'].values\n",
    "        \n",
    "    l = np.append(l,new_ind)\n",
    "\n",
    "l = l.astype(int)"
   ]
  },
  {
   "cell_type": "code",
   "execution_count": 256,
   "metadata": {},
   "outputs": [
    {
     "data": {
      "text/plain": [
       "3236"
      ]
     },
     "execution_count": 256,
     "metadata": {},
     "output_type": "execute_result"
    }
   ],
   "source": [
    "l.size"
   ]
  },
  {
   "cell_type": "code",
   "execution_count": 257,
   "metadata": {},
   "outputs": [
    {
     "data": {
      "text/plain": [
       "40417"
      ]
     },
     "execution_count": 257,
     "metadata": {},
     "output_type": "execute_result"
    }
   ],
   "source": [
    "condition = (df_new_users['event']<>'btnClick')|(df_new_users['properties.name']<>'request')\n",
    "other_users = df_new_users.loc[condition,'distinct_id'].unique()\n",
    "m = []\n",
    "for i,j in enumerate(other_users):\n",
    "    n = df_new_users.index[df_new_users['distinct_id'] == j]\n",
    "    m = np.append(m,n)\n",
    "m.astype(int)\n",
    "l = np.append(l,m).astype(int)\n",
    "l.size"
   ]
  },
  {
   "cell_type": "code",
   "execution_count": 258,
   "metadata": {},
   "outputs": [
    {
     "data": {
      "text/plain": [
       "(40417, 37)"
      ]
     },
     "execution_count": 258,
     "metadata": {},
     "output_type": "execute_result"
    }
   ],
   "source": [
    "df_clean = df_new_users.loc[l,:]\n",
    "df_clean.shape"
   ]
  },
  {
   "cell_type": "markdown",
   "metadata": {},
   "source": [
    "Delete Users that only have less than 3 records and they don't have sign up user since that step needs at least four records."
   ]
  },
  {
   "cell_type": "code",
   "execution_count": 259,
   "metadata": {},
   "outputs": [
    {
     "data": {
      "text/plain": [
       "0"
      ]
     },
     "execution_count": 259,
     "metadata": {},
     "output_type": "execute_result"
    }
   ],
   "source": [
    "user_less_records = df_clean['distinct_id'].value_counts().index[df_clean['distinct_id'].value_counts()<3]\n",
    "user_more_records = df_clean['distinct_id'].value_counts().index[df_clean['distinct_id'].value_counts()>3]\n",
    "len(user_less_records) # There are 1841 user with less than 3 records\n",
    "# in these users there is not our target user\n",
    "(df_clean.loc[(df_clean['distinct_id'].isin(user_less_records)) & (df_clean['event']=='formSubmit') & (df_clean['properties.isSuccess']==True),'distinct_id'].value_counts()).sum()"
   ]
  },
  {
   "cell_type": "code",
   "execution_count": 260,
   "metadata": {
    "collapsed": true
   },
   "outputs": [],
   "source": [
    "df_clean=df_clean.loc[df_clean['distinct_id'].isin(user_more_records),:]"
   ]
  },
  {
   "cell_type": "code",
   "execution_count": 261,
   "metadata": {},
   "outputs": [
    {
     "data": {
      "text/plain": [
       "(30992, 37)"
      ]
     },
     "execution_count": 261,
     "metadata": {},
     "output_type": "execute_result"
    }
   ],
   "source": [
    "df_clean.shape"
   ]
  },
  {
   "cell_type": "code",
   "execution_count": 48,
   "metadata": {
    "collapsed": true
   },
   "outputs": [],
   "source": [
    "df_clean.to_csv('/Users/zhanghaoyan/Documents/DS501/BitTiger-DS501-1702/Projects/神策数据/sensor_data_df_clean.csv',encoding='utf-8')"
   ]
  },
  {
   "cell_type": "code",
   "execution_count": 2,
   "metadata": {
    "collapsed": true
   },
   "outputs": [],
   "source": [
    "df_clean = pd.read_csv('/Users/zhanghaoyan/Documents/DS501/BitTiger-DS501-1702/Projects/神策数据/sensor_data_df_clean.csv',encoding='utf-8')"
   ]
  },
  {
   "cell_type": "code",
   "execution_count": 8,
   "metadata": {},
   "outputs": [],
   "source": [
    "index = df_clean['distinct_id'].unique()\n",
    "metric = pd.DataFrame(index = index)\n",
    "target = pd.DataFrame(np.array(0).repeat(len(metric)),index = index,columns=['target'])\n",
    "for i,j in enumerate(target.index):\n",
    "    if not (df_new_users.loc[(df_new_users['event']=='formSubmit') & \\\n",
    "                     (df_new_users['properties.isSuccess']==True)&(df_new_users['distinct_id']==j),:]).empty:\n",
    "        target.loc[j,'target'] = 1\n",
    "target = pd.DataFrame(target,columns=['target'])"
   ]
  },
  {
   "cell_type": "code",
   "execution_count": 10,
   "metadata": {},
   "outputs": [
    {
     "data": {
      "text/plain": [
       "(2710, 1)"
      ]
     },
     "execution_count": 10,
     "metadata": {},
     "output_type": "execute_result"
    }
   ],
   "source": [
    "target.shape"
   ]
  },
  {
   "cell_type": "code",
   "execution_count": 11,
   "metadata": {},
   "outputs": [
    {
     "data": {
      "text/plain": [
       "target    255\n",
       "dtype: int64"
      ]
     },
     "execution_count": 11,
     "metadata": {},
     "output_type": "execute_result"
    }
   ],
   "source": [
    "target.loc[target['target'] == 1,:].sum()"
   ]
  },
  {
   "cell_type": "markdown",
   "metadata": {},
   "source": [
    "Construct features\n",
    "\n",
    "Pageview_count\n",
    "\n",
    "direct_search_count: pageview referrer 是空值说明是直接输入地址搜索\n",
    "    \n",
    "    other referrer host (dummies?)\n",
    "     u'www.sensorsdata.cn', u'www.baidu.com', u'www.sogou.com',\n",
    "       u'link.zhihu.com', u'ebizdemo.cloud.sensorsdata.cn',\n",
    "       u'www.google.com.ph', u'm.baidu.com', u'm.sogou.com',\n",
    "       u'wenku.baidu.com', u'm5.baidu.com', u'wap.sogou.com',\n",
    "       u'zhidao.baidu.com', u'www.google.com.hk', u'hippter.com',\n",
    "       u'www.google.nl', u'googleads.g.doubleclick.net', u'sensorsdata.cn',\n",
    "       u'www.google.com', u'class.sanjieke.cn', u'www.ecdaohang.cn',\n",
    "       u'www.so.com', u'youxuan.baidu.com', u'www.tisiwi.com',\n",
    "       u'zhishi.sogou.com', u'www.woshipm.com', u'36kr.com',\n",
    "       u'segmentfault.com', u'newseed.pedaily.cn', u'image.baidu.com',\n",
    "       u'www.google.co.uk', u'shouce.kuchuan.com', u'www.itjuzi.com',\n",
    "       u'so.m.sm.cn', u'wisd.sogou.com', u'www.linear.vc',\n",
    "       u'www.google.co.jp', u'a.mobi.sogou.com', u'www.digitaling.com',\n",
    "       u'www.3lian.com', u'hao.199it.com', u'mail.qq.com',\n",
    "       u'passport.36kr.com', u'www.zhaosaas.com', u'cn.bing.com',\n",
    "       u'192.168.3.130', u'sawiki2.nie.netease.com', u'tieba.baidu.com',\n",
    "       u'shimo.im', u'www.rinterest.cn', u'www.appganhuo.com',\n",
    "       u'cpro.baidu.com\n",
    "       \n",
    " \n",
    "stay_length for each page:\n",
    "    \n",
    "    stay_length_index\n",
    "    stay_length_demo\n",
    "    stay_length_courses\n",
    "    stay_length_courses_play\n",
    "    stay_length_about\n",
    "    stay_length_page_close\n",
    "\n",
    "utm_source : u'baidu', u'sogou', u'google', u'sanjieke.cn', u'wechat'\n",
    "    \n",
    "    source_baidu\n",
    "    source_sogou\n",
    "    source_google\n",
    "    source_sanjieke\n",
    "    source_wechat"
   ]
  },
  {
   "cell_type": "code",
   "execution_count": 492,
   "metadata": {},
   "outputs": [
    {
     "data": {
      "text/plain": [
       "Index([u'/', u'/demo.html', u'/product.html', u'/manual/', u'/b-round.html',\n",
       "       u'/about.html', u'/index.html', u'/courses/', u'/courses/play.html',\n",
       "       u'/manual/index.html', u'/courses/index.html', u'/manual/js_sdk.html',\n",
       "       u'/manual/eb_case.html', u'/manual/use_steps.html',\n",
       "       u'/manual/data_model.html', u'/manual/event_ana.html',\n",
       "       u'/manual/data_schema.html', u'/manual/data_import.html',\n",
       "       u'/manual/user_identify.html', u'/tools/code_auto/',\n",
       "       u'/manual/android_sdk.html', u'/manual/ios_sdk.html',\n",
       "       u'/manual/vtrack_intro.html', u'/manual/edu_case.html',\n",
       "       u'/manual/user_access_path_ana.html', u'/manual/php_sdk.html',\n",
       "       u'/manual/b2b_homepage_case.html', u'/manual/data_management.html',\n",
       "       u'/manual/funnel.html'],\n",
       "      dtype='object')"
      ]
     },
     "execution_count": 492,
     "metadata": {},
     "output_type": "execute_result"
    }
   ],
   "source": [
    "(df_clean['properties.$url_path'].value_counts().index[(df_clean['properties.$url_path'].value_counts()>=9)])"
   ]
  },
  {
   "cell_type": "code",
   "execution_count": 514,
   "metadata": {},
   "outputs": [
    {
     "data": {
      "text/plain": [
       "<matplotlib.axes._subplots.AxesSubplot at 0x115716510>"
      ]
     },
     "execution_count": 514,
     "metadata": {},
     "output_type": "execute_result"
    },
    {
     "data": {
      "image/png": "[encoded data removed]",
      "text/plain": [
       "<matplotlib.figure.Figure at 0x1151aad50>"
      ]
     },
     "metadata": {},
     "output_type": "display_data"
    }
   ],
   "source": [
    "((df_clean['properties.$url_path'].value_counts()[:12])/float(df_clean['distinct_id'].unique().size)).plot(kind='bar')"
   ]
  },
  {
   "cell_type": "code",
   "execution_count": 511,
   "metadata": {},
   "outputs": [
    {
     "data": {
      "text/plain": [
       "<matplotlib.axes._subplots.AxesSubplot at 0x1118fa3d0>"
      ]
     },
     "execution_count": 511,
     "metadata": {},
     "output_type": "execute_result"
    },
    {
     "data": {
      "image/png": "[encoded data removed]",
      "text/plain": [
       "<matplotlib.figure.Figure at 0x1138be8d0>"
      ]
     },
     "metadata": {},
     "output_type": "display_data"
    }
   ],
   "source": [
    "formSubmit_user = df_clean.loc[(df_clean['event']=='formSubmit')&(df_clean['properties.isSuccess']==True),'distinct_id'].unique()\n",
    "((df_clean.loc[df_clean['distinct_id'].isin(formSubmit_user),'properties.$url_path'].value_counts()[:12])/float(formSubmit_user.size)).plot(kind='bar')\n",
    "\n"
   ]
  },
  {
   "cell_type": "code",
   "execution_count": 515,
   "metadata": {},
   "outputs": [
    {
     "data": {
      "text/plain": [
       "<matplotlib.axes._subplots.AxesSubplot at 0x115a69190>"
      ]
     },
     "execution_count": 515,
     "metadata": {},
     "output_type": "execute_result"
    },
    {
     "data": {
      "image/png": "[encoded data removed]",
      "text/plain": [
       "<matplotlib.figure.Figure at 0x1151c3350>"
      ]
     },
     "metadata": {},
     "output_type": "display_data"
    }
   ],
   "source": [
    "other_user = df_clean.loc[(df_clean['event']<>'formSubmit'),'distinct_id'].unique()\n",
    "((df_clean.loc[df_clean['distinct_id'].isin(other_user),'properties.$url_path'].value_counts()[:12])/float(other_user.size)).plot(kind='bar')"
   ]
  },
  {
   "cell_type": "code",
   "execution_count": null,
   "metadata": {
    "collapsed": true
   },
   "outputs": [],
   "source": []
  },
  {
   "cell_type": "code",
   "execution_count": 12,
   "metadata": {
    "collapsed": true
   },
   "outputs": [],
   "source": [
    "def count(condition):\n",
    "    return df_clean.loc[condition,:].groupby('distinct_id')['distinct_id'].count()"
   ]
  },
  {
   "cell_type": "code",
   "execution_count": 390,
   "metadata": {},
   "outputs": [],
   "source": [
    "pageview_count = count(df_clean[u'event']==u'$pageview')\n",
    "                                                                      \n",
    "index_view_count = count((df_clean[u'event']==u'$pageview')&(df_clean[u'properties.$url_path']=='/'))\n",
    "demo_view_count = count((df_clean[u'event']==u'$pageview')&(df_clean[u'properties.$url_path']=='/demo.html'))\n",
    "product_view_count = count((df_clean[u'event']==u'$pageview')&(df_clean[u'properties.$url_path']=='/product.html'))\n",
    "manual_view_count = count((df_clean[u'event']==u'$pageview')&(df_clean[u'properties.$url_path']=='/manual/'))\n",
    "b_round_view_count = count((df_clean[u'event']==u'$pageview')&(df_clean[u'properties.$url_path']=='/b-round.html'))\n",
    "index_view_count = count((df_clean[u'event']==u'$pageview')&(df_clean[u'properties.$url_path']=='/index.html'))\n",
    "about_view_count = count((df_clean[u'event']==u'$pageview')&(df_clean[u'properties.$url_path']=='/about.html'))\n",
    "courses_view_count = count((df_clean[u'event']==u'$pageview')&(df_clean[u'properties.$url_path']=='/courses/'))\n",
    "courses_play_view_count = count((df_clean[u'event']==u'$pageview')&(df_clean[u'properties.$url_path']=='/courses/play.html'))\n",
    "manual_index_view_count = count((df_clean[u'event']==u'$pageview')&(df_clean[u'properties.$url_path']=='/manual/index.html'))\n",
    "courses_index_view_count = count((df_clean[u'event']==u'$pageview')&(df_clean[u'properties.$url_path']=='/courses/index.html'))\n",
    "manual_js_sdk_view_count = count((df_clean[u'event']==u'$pageview')&(df_clean[u'properties.$url_path']=='/manual/js_sdk.html'))\n",
    "manual_data_model_view_count = count((df_clean[u'event']==u'$pageview')&(df_clean[u'properties.$url_path']=='/manual/data_model.html'))\n",
    "manual_use_steps_view_count = count((df_clean[u'event']==u'$pageview')&(df_clean[u'properties.$url_path']=='/manual/use_steps.html'))\n",
    "manual_eb_case_view_count = count((df_clean[u'event']==u'$pageview')&(df_clean[u'properties.$url_path']=='/manual/eb_case.html'))\n",
    "manual_event_ana_view_count = count((df_clean[u'event']==u'$pageview')&(df_clean[u'properties.$url_path']=='/manual/event_ana.html'))\n",
    "manual_android_sdk_view_count = count((df_clean[u'event']==u'$pageview')&(df_clean[u'properties.$url_path']=='/manual/android_sdk.html'))\n",
    "manual_vtrack_intro_view_count = count((df_clean[u'event']==u'$pageview')&(df_clean[u'properties.$url_path']=='/manual/vtrack_intro.html'))\n",
    "manual_data_schema_view_count = count((df_clean[u'event']==u'$pageview')&(df_clean[u'properties.$url_path']=='/manual/data_schema.html'))\n",
    "manual_data_import_view_count = count((df_clean[u'event']==u'$pageview')&(df_clean[u'properties.$url_path']=='/manual/data_import.html'))\n",
    "manual_user_identify_view_count = count((df_clean[u'event']==u'$pageview')&(df_clean[u'properties.$url_path']=='/manual/user_identify.html'))\n",
    "manual_funnel_view_count = count((df_clean[u'event']==u'$pageview')&(df_clean[u'properties.$url_path']=='/manual/funnel.html'))\n",
    "manual_user_identify_view_count = count((df_clean[u'event']==u'$pageview')&(df_clean[u'properties.$url_path']=='/manual/user_identify.html'))\n",
    "manual_user_identify_view_count = count((df_clean[u'event']==u'$pageview')&(df_clean[u'properties.$url_path']=='/manual/user_identify.html'))\n",
    "manual_user_identify_view_count = count((df_clean[u'event']==u'$pageview')&(df_clean[u'properties.$url_path']=='/manual/user_identify.html'))\n",
    "tools_code_auto_view_count = count((df_clean[u'event']==u'$pageview')&(df_clean[u'properties.$url_path']=='/tools/code_auto/'))\n",
    "other_view_count = count((df_clean[u'event']==u'$pageview')&(df_clean[u'properties.$url_path'].isin\\\n",
    "                                                             (df_clean['properties.$url_path'].value_counts().\\\n",
    "                                                              index[(df_clean['properties.$url_path'].value_counts()<9)])))\n",
    "\n",
    "direct_search_count = count((df_clean[u'event']==u'$pageview')&(df_clean[u'properties.$referrer_host'].isnull()))\n",
    "refer_host_list = []\n",
    "for refer_host in df_clean[u'properties.$referrer_host'].unique():\n",
    "    a=count((df_clean[u'event']==u'$pageview')&(df_clean[u'properties.$referrer_host'])==i)\n",
    "    refer_host_list.append(a)\n",
    "\n",
    "condition = df[u'event']==u'index_leave'\n",
    "stay_length_index = df_clean.loc[condition,:].groupby(u'distinct_id')[u'properties.pageStayTime'].sum()\n",
    "condition = df[u'event']==u'demo_leave'\n",
    "stay_length_demo = df_clean.loc[condition,:].groupby(u'distinct_id')[u'properties.pageStayTime'].sum()\n",
    "condition = df[u'event']==u'courses_leave'\n",
    "stay_length_courses = df_clean.loc[condition,:].groupby(u'distinct_id')[u'properties.pageStayTime'].sum()\n",
    "condition = df[u'event']==u'courses_play_leave'\n",
    "stay_length_courses_play = df_clean.loc[condition,:].groupby(u'distinct_id')[u'properties.pageStayTime'].sum()\n",
    "condition = df[u'event']==u'about_leave'\n",
    "stay_length_about = df_clean.loc[condition,:].groupby(u'distinct_id')[u'properties.pageStayTime'].sum()\n",
    "condition = df[u'event']==u'page_close'\n",
    "stay_length_page_close = df_clean.loc[condition,:].groupby(u'distinct_id')[u'properties.pageStayTime'].sum()\n",
    "\n",
    "condition = df[u'properties.$latest_utm_source']==u'baidu'\n",
    "a = df_clean.loc[condition,'distinct_id']\n",
    "a.drop_duplicates(keep = 'first', inplace = True)\n",
    "source_baidu = pd.DataFrame(data = np.array(1).repeat(len(a)),index=a,columns=['baidu'])\n",
    "\n",
    "condition = df[u'properties.$latest_utm_source']==u'sogou'\n",
    "a = df_clean.loc[condition,'distinct_id']\n",
    "a.drop_duplicates(keep = 'first', inplace = True)\n",
    "source_sogou = pd.DataFrame(data = np.array(1).repeat(len(a)),index=a,columns=['sogou'])\n",
    "\n",
    "condition = df[u'properties.$latest_utm_source']==u'google'\n",
    "a = df_clean.loc[condition,'distinct_id']\n",
    "a.drop_duplicates(keep = 'first', inplace = True)\n",
    "source_google = pd.DataFrame(data = np.array(1).repeat(len(a)),index=a,columns=['google'])\n",
    "\n",
    "condition = df[u'properties.$latest_utm_source']==u'sanjieke.cn'\n",
    "a = df_clean.loc[condition,'distinct_id']\n",
    "a.drop_duplicates(keep = 'first', inplace = True)\n",
    "source_sanjieke = pd.DataFrame(data = np.array(1).repeat(len(a)),index=a,columns=['sanjieke.cn'])\n",
    "\n",
    "condition = df[u'properties.$latest_utm_source']==u'wechat'\n",
    "a = df_clean.loc[condition,'distinct_id']\n",
    "a.drop_duplicates(keep = 'first', inplace = True)\n",
    "source_wechat = pd.DataFrame(data = np.array(1).repeat(len(a)),index=a,columns=['wechat'])\n"
   ]
  },
  {
   "cell_type": "code",
   "execution_count": 406,
   "metadata": {},
   "outputs": [],
   "source": [
    "list1 =  ['a','b','c']\n",
    "list1.append('c')"
   ]
  },
  {
   "cell_type": "code",
   "execution_count": 435,
   "metadata": {},
   "outputs": [],
   "source": [
    "result = pd.concat([metric,index_view_count,demo_view_count,\\\n",
    "                   product_view_count,manual_view_count, b_round_view_count, index_view_count,\\\n",
    "                   about_view_count,courses_view_count,courses_play_view_count,manual_index_view_count,\\\n",
    "                   courses_index_view_count,manual_js_sdk_view_count,manual_data_model_view_count,\\\n",
    "                    manual_use_steps_view_count,manual_eb_case_view_count,manual_event_ana_view_count,\\\n",
    "                   manual_android_sdk_view_count,manual_vtrack_intro_view_count,manual_data_schema_view_count,\\\n",
    "                   manual_data_import_view_count,manual_user_identify_view_count,manual_funnel_view_count,\\\n",
    "                   manual_user_identify_view_count,manual_user_identify_view_count,manual_user_identify_view_count,\\\n",
    "                   tools_code_auto_view_count,direct_search_count,\\\n",
    "                   stay_length_index,stay_length_demo, stay_length_courses, stay_length_courses_play,\\\n",
    "                   stay_length_about,stay_length_page_close,\\\n",
    "                   source_baidu,source_sogou,source_google,source_sanjieke,source_wechat], axis=1, join='outer')\n",
    "    \n",
    "    \n",
    "result_col = ['index_view_count','demo_view_count',\\\n",
    "                   'product_view_count','manual_view_count', 'b_round_view_count', 'index_view_count',\\\n",
    "                   'about_view_count','courses_view_count','courses_play_view_count','manual_index_view_count',\\\n",
    "                   'courses_index_view_count','manual_js_sdk_view_count','manual_data_model_view_count',\\\n",
    "                    'manual_use_steps_view_count','manual_eb_case_view_count','manual_event_ana_view_count',\\\n",
    "                   'manual_android_sdk_view_count','manual_vtrack_intro_view_count','manual_data_schema_view_count',\\\n",
    "                   'manual_data_import_view_count','manual_user_identify_view_count','manual_funnel_view_count',\\\n",
    "                   'manual_user_identify_view_count','manual_user_identify_view_count','manual_user_identify_view_count',\\\n",
    "                   'tools_code_auto_view_count','direct_search_count','stay_length_index','stay_length_demo',\\\n",
    "                     'stay_length_courses', 'stay_length_courses_play','stay_length_about','stay_length_page_close',\\\n",
    "                     'source_baidu','source_sogou','source_google','source_sanjieke','source_wechat']\n",
    "\n",
    "for i,j in enumerate(refer_host_list):\n",
    "    result = pd.concat([result,j],axis =1, join = 'outer')\n",
    "    result_col.append('refer_host_%s' %df_clean[u'properties.$referrer_host'].unique()[i])\n",
    "    \n",
    "result.columns = result_col\n",
    "result.fillna(0,inplace=True)"
   ]
  },
  {
   "cell_type": "code",
   "execution_count": 436,
   "metadata": {},
   "outputs": [
    {
     "data": {
      "text/plain": [
       "(2710, 152)"
      ]
     },
     "execution_count": 436,
     "metadata": {},
     "output_type": "execute_result"
    }
   ],
   "source": [
    "result.shape"
   ]
  },
  {
   "cell_type": "code",
   "execution_count": 448,
   "metadata": {},
   "outputs": [
    {
     "data": {
      "text/plain": [
       "['index_view_count',\n",
       " 'demo_view_count',\n",
       " 'product_view_count',\n",
       " 'manual_view_count',\n",
       " 'b_round_view_count',\n",
       " 'index_view_count',\n",
       " 'about_view_count',\n",
       " 'courses_view_count',\n",
       " 'courses_play_view_count',\n",
       " 'manual_index_view_count',\n",
       " 'courses_index_view_count',\n",
       " 'manual_js_sdk_view_count',\n",
       " 'manual_data_model_view_count',\n",
       " 'manual_use_steps_view_count',\n",
       " 'manual_eb_case_view_count',\n",
       " 'manual_event_ana_view_count',\n",
       " 'manual_android_sdk_view_count',\n",
       " 'manual_vtrack_intro_view_count',\n",
       " 'manual_data_schema_view_count',\n",
       " 'manual_data_import_view_count',\n",
       " 'manual_user_identify_view_count',\n",
       " 'manual_funnel_view_count',\n",
       " 'manual_user_identify_view_count',\n",
       " 'manual_user_identify_view_count',\n",
       " 'manual_user_identify_view_count',\n",
       " 'tools_code_auto_view_count',\n",
       " 'direct_search_count',\n",
       " 'stay_length_index',\n",
       " 'stay_length_demo',\n",
       " 'stay_length_courses',\n",
       " 'stay_length_courses_play',\n",
       " 'stay_length_about',\n",
       " 'stay_length_page_close',\n",
       " 'source_baidu',\n",
       " 'source_sogou',\n",
       " 'source_google',\n",
       " 'source_sanjieke',\n",
       " 'source_wechat',\n",
       " 'refer_host_nan',\n",
       " u'refer_host_www.sensorsdata.cn',\n",
       " u'refer_host_www.baidu.com',\n",
       " u'refer_host_www.sogou.com',\n",
       " u'refer_host_link.zhihu.com',\n",
       " u'refer_host_ebizdemo.cloud.sensorsdata.cn',\n",
       " u'refer_host_www.google.com.ph',\n",
       " u'refer_host_m.baidu.com',\n",
       " u'refer_host_m.sogou.com',\n",
       " u'refer_host_wenku.baidu.com',\n",
       " u'refer_host_m5.baidu.com',\n",
       " u'refer_host_wap.sogou.com',\n",
       " u'refer_host_zhidao.baidu.com',\n",
       " u'refer_host_www.google.com.hk',\n",
       " u'refer_host_hippter.com',\n",
       " u'refer_host_www.google.nl',\n",
       " u'refer_host_googleads.g.doubleclick.net',\n",
       " u'refer_host_sensorsdata.cn',\n",
       " u'refer_host_www.google.com',\n",
       " u'refer_host_class.sanjieke.cn',\n",
       " u'refer_host_www.ecdaohang.cn',\n",
       " u'refer_host_www.so.com',\n",
       " u'refer_host_youxuan.baidu.com',\n",
       " u'refer_host_www.tisiwi.com',\n",
       " u'refer_host_zhishi.sogou.com',\n",
       " u'refer_host_www.woshipm.com',\n",
       " u'refer_host_36kr.com',\n",
       " u'refer_host_segmentfault.com',\n",
       " u'refer_host_newseed.pedaily.cn',\n",
       " u'refer_host_image.baidu.com',\n",
       " u'refer_host_www.google.co.uk',\n",
       " u'refer_host_shouce.kuchuan.com',\n",
       " u'refer_host_www.itjuzi.com',\n",
       " u'refer_host_so.m.sm.cn',\n",
       " u'refer_host_wisd.sogou.com',\n",
       " u'refer_host_www.linear.vc',\n",
       " u'refer_host_www.google.co.jp',\n",
       " u'refer_host_a.mobi.sogou.com',\n",
       " u'refer_host_www.digitaling.com',\n",
       " u'refer_host_www.3lian.com',\n",
       " u'refer_host_hao.199it.com',\n",
       " u'refer_host_mail.qq.com',\n",
       " u'refer_host_passport.36kr.com',\n",
       " u'refer_host_www.zhaosaas.com',\n",
       " u'refer_host_cn.bing.com',\n",
       " u'refer_host_192.168.3.130',\n",
       " u'refer_host_sawiki2.nie.netease.com',\n",
       " u'refer_host_tieba.baidu.com',\n",
       " u'refer_host_shimo.im',\n",
       " u'refer_host_www.rinterest.cn',\n",
       " u'refer_host_www.appganhuo.com',\n",
       " u'refer_host_cpro.baidu.com',\n",
       " u'refer_host_124.243.216.219',\n",
       " u'refer_host_www.199it.com',\n",
       " u'refer_host_www.finger66.com',\n",
       " u'refer_host_data.jyw.xy.com',\n",
       " u'refer_host_open.ezrpro.com',\n",
       " u'refer_host_www.sanjieke.cn',\n",
       " u'refer_host_www.mulumu.com',\n",
       " u'refer_host_www.google.fr',\n",
       " u'refer_host_snaptube.cloud.sensorsdata.cn',\n",
       " u'refer_host_47.93.78.66',\n",
       " u'refer_host_qiyukf.cloud.sensorsdata.cn',\n",
       " u'refer_host_168.63.205.22',\n",
       " u'refer_host_ch.cloud.sensorsdata.cn',\n",
       " u'refer_host_59.151.81.45',\n",
       " u'refer_host_hr.36kr.com',\n",
       " u'refer_host_mm.263.com',\n",
       " u'refer_host_blog.csdn.net',\n",
       " u'refer_host_www.hippter.com',\n",
       " u'refer_host_data.systoon.com',\n",
       " u'refer_host_ba-demo.tingyun.com',\n",
       " u'refer_host_www.sdk.cn',\n",
       " u'refer_host_www.daxiangrenshi.com',\n",
       " u'refer_host_financedemo.cloud.sensorsdata.cn',\n",
       " u'refer_host_116.62.89.9',\n",
       " u'refer_host_www.google.com.vn',\n",
       " u'refer_host_sensorsdata.vipkid.com.cn',\n",
       " u'refer_host_exmail.qq.com',\n",
       " u'refer_host_confluence.bbtree.com',\n",
       " u'refer_host_analytics.mobi.7m.cn',\n",
       " u'refer_host_blog.sanjieke.cn',\n",
       " u'refer_host_sc.vipkid.com.cn',\n",
       " u'refer_host_edudemo.cloud.sensorsdata.cn',\n",
       " u'refer_host_wapbaike.baidu.com',\n",
       " u'refer_host_golddemo.cloud.sensorsdata.cn',\n",
       " u'refer_host_120.92.16.53',\n",
       " u'refer_host_mp.weixinbridge.com',\n",
       " u'refer_host_www.bing.com',\n",
       " u'refer_host_www.oneapm.com',\n",
       " u'refer_host_pintu.corp.36kr.com',\n",
       " u'refer_host_101.37.29.83',\n",
       " u'refer_host_cn.mikecrm.com',\n",
       " u'refer_host_uxren.cn',\n",
       " u'refer_host_ju.outofmemory.cn',\n",
       " u'refer_host_radar.itjuzi.com',\n",
       " u'refer_host_www.tianyancha.com',\n",
       " u'refer_host_data.wxrrd.com',\n",
       " u'refer_host_www.jianshu.com',\n",
       " u'refer_host_zhibodemo.cloud.sensorsdata.cn',\n",
       " u'refer_host_chuang.36kr.com',\n",
       " u'refer_host_developer.51cto.com',\n",
       " u'refer_host_www.google.com.tw',\n",
       " u'refer_host_ipv6.google.com.hk',\n",
       " u'refer_host_qimingpian.com',\n",
       " u'refer_host_www.qixin.com',\n",
       " u'refer_host_analytics.51credit.com',\n",
       " u'refer_host_www.tongdao.io',\n",
       " u'refer_host_zhaopin.baidu.com',\n",
       " u'refer_host_dss.innotree.cn',\n",
       " u'refer_host_www.innotree.cn',\n",
       " u'refer_host_sc.zhugefang.com',\n",
       " u'refer_host_wiki.sankuai.com',\n",
       " u'refer_host_next.36kr.com']"
      ]
     },
     "execution_count": 448,
     "metadata": {},
     "output_type": "execute_result"
    }
   ],
   "source": [
    "result_col"
   ]
  },
  {
   "cell_type": "markdown",
   "metadata": {},
   "source": [
    "# Try different models"
   ]
  },
  {
   "cell_type": "code",
   "execution_count": 437,
   "metadata": {
    "collapsed": true
   },
   "outputs": [],
   "source": [
    "from sklearn.model_selection import KFold\n",
    "from sklearn.preprocessing import StandardScaler\n",
    "from sklearn.linear_model import LogisticRegression\n",
    "from sklearn.model_selection import GridSearchCV\n",
    "from sklearn.metrics import precision_score, accuracy_score, recall_score, f1_score, roc_auc_score\n",
    "\n",
    "from collections import Counter\n",
    "from sklearn.datasets import make_classification\n",
    "from imblearn.over_sampling import SMOTE "
   ]
  },
  {
   "cell_type": "code",
   "execution_count": 439,
   "metadata": {},
   "outputs": [],
   "source": [
    "target = target.target.values\n",
    "result1 = result.values"
   ]
  },
  {
   "cell_type": "code",
   "execution_count": 440,
   "metadata": {
    "collapsed": true
   },
   "outputs": [],
   "source": [
    "def resample(X,y):\n",
    "    print('Original dataset shape {}'.format(Counter(y)))\n",
    "    sm = SMOTE(random_state=42)\n",
    "    X_res, y_res = sm.fit_sample(X, y)\n",
    "    print('Resample dataset shape {}'.format(Counter(y_res)))\n",
    "    return X_res, y_res"
   ]
  },
  {
   "cell_type": "code",
   "execution_count": 441,
   "metadata": {},
   "outputs": [
    {
     "name": "stdout",
     "output_type": "stream",
     "text": [
      "Original dataset shape Counter({0: 2455, 1: 255})\n",
      "Resample dataset shape Counter({0: 2455, 1: 2455})\n"
     ]
    }
   ],
   "source": [
    "X, y = resample(result1, target)"
   ]
  },
  {
   "cell_type": "code",
   "execution_count": 442,
   "metadata": {
    "collapsed": true
   },
   "outputs": [],
   "source": [
    "def scale(x_train, x_test):\n",
    "    scaler = StandardScaler()\n",
    "    X_train_scaled = pd.DataFrame(scaler.fit_transform(x_train))\n",
    "    X_test_scaled = pd.DataFrame(scaler.transform(x_test))\n",
    "    return X_train_scaled, X_test_scaled"
   ]
  },
  {
   "cell_type": "code",
   "execution_count": 443,
   "metadata": {
    "collapsed": true
   },
   "outputs": [],
   "source": [
    "# Helper method to print metric scores\n",
    "def print_results(y_true, y_pred):\n",
    "    print(\"Accuracy of the Logistic Regression is: {}\".format(accuracy_score(y_true, y_pred)))\n",
    "    print(\"Precision of the Logistic Regression is: {}\".format(precision_score(y_true, y_pred)))\n",
    "    print(\"Recall of the Logistic Regression is: {}\".format(recall_score(y_true, y_pred)))\n",
    "    print(\"f1-score of the Logistic Regression is: {}\".format(f1_score(y_true, y_pred)))\n",
    "def results(y_true, y_pred):\n",
    "    return accuracy_score(y_true, y_pred),precision_score(y_true, y_pred),recall_score(y_true, y_pred),f1_score(y_true, y_pred)"
   ]
  },
  {
   "cell_type": "markdown",
   "metadata": {},
   "source": [
    "Corss Validation for Logistic Regression"
   ]
  },
  {
   "cell_type": "code",
   "execution_count": 444,
   "metadata": {},
   "outputs": [],
   "source": [
    "def cross_validation(X,y,n, C = [1,10,100, 10**3, 10**4, 10**5, 10**6] , P = ['l1','l2']):\n",
    "    \n",
    "    kf = KFold(n_splits= n)\n",
    "    \n",
    "    i = 0\n",
    "    coeffs_list = []\n",
    "    y_train_pred_list = []; y_train_list = []; best_lr_list=[]\n",
    "    y_test_pred_list = []; y_test_list = [] ;y_test_pred_proba_list=[]\n",
    "    \n",
    "    for train, test in kf.split(X):\n",
    "        \n",
    "        i+=1\n",
    "        \n",
    "        X_train = X[train]; X_test = X[test]\n",
    "        y_train = y[train]; y_test = y[test]\n",
    "        \n",
    "        y_train_list.append(y_train), y_test_list.append(y_test)\n",
    "        \n",
    "        # Scale by training data\n",
    "        X_train_scale, X_test_scale = scale(X_train, X_test)\n",
    "        \n",
    "        # Logistic Regression. Tune the parameter using grid research of cv5\n",
    "        parameters = {'C':C, 'penalty':P}\n",
    "        lr = LogisticRegression(random_state=42)\n",
    "        gs = GridSearchCV(lr,parameters,scoring = 'roc_auc', cv = 5)\n",
    "        gs.fit(X_train_scale, y_train)\n",
    "#         print gs.cv_results_\n",
    "        \n",
    "        # Best coeffs\n",
    "        best_lr = gs.best_estimator_\n",
    "        best_lr_list.append(best_lr)\n",
    "        df_coeffs0 = pd.DataFrame(list(zip(result.columns, best_lr.coef_.flatten()))).sort_values(by=[1], ascending=False)\n",
    "        df_coeffs0.columns = ['feature', 'coeff_cv_%s' %i]\n",
    "        coeffs_list.append(df_coeffs0)\n",
    "            \n",
    "        # Prediction\n",
    "        y_train_pred_list.append(best_lr.predict(X_train_scale))\n",
    "        y_test_pred_list.append(best_lr.predict(X_test_scale))\n",
    "        y_test_pred_proba_list.append(best_lr.predict_proba(X_test_scale)[:,1])\n",
    "        \n",
    "    return best_lr_list, coeffs_list, y_train_list , y_train_pred_list, y_test_list, y_test_pred_list"
   ]
  },
  {
   "cell_type": "code",
   "execution_count": 445,
   "metadata": {
    "scrolled": true
   },
   "outputs": [],
   "source": [
    "best_lr_list,coeffs_list, y_train_list , y_train_pred_list, y_test_list, y_test_pred_list = \\\n",
    "    cross_validation(X,y,5, C = [1,10,100, 10**3, 10**4, 10**5, 10**6] , P = ['l1','l2'])"
   ]
  },
  {
   "cell_type": "code",
   "execution_count": 489,
   "metadata": {},
   "outputs": [],
   "source": [
    "def print_mean_score(y_test_list,y_test_pred_list):\n",
    "    accuracy = []; precision = []; recall = []; f1 = []\n",
    "    \n",
    "    for i,(best_lr, y_true, y_pred) in enumerate(zip(best_lr_list, y_test_list,y_test_pred_list)):\n",
    "    #     print_results(y_true, y_pred)\n",
    "        a, b, c, d = results(y_true, y_pred)\n",
    "        accuracy.append(a);precision.append(b);recall.append(c);f1.append(d)\n",
    "        print 'Result %s : ' %i\n",
    "        print 'Parameters %s' %(best_lr)\n",
    "        print 'confusion matrix'\n",
    "        print 'y true %s y pred %s' %(y_true.sum(),y_pred.sum())\n",
    "        print(confusion_matrix(y_true, y_pred))\n",
    "        try:\n",
    "            print \"Area Under Curve (AUC) of the Logistic Regression is: %s\" %(roc_auc_score(y_true, y_pred))\n",
    "        except:\n",
    "            print 'AUC can not be calculated'\n",
    "        print 'For accracy %s precision %s recall %s and f1 %s' %(a,b,c,d)\n",
    "        print '---------------------------------'\n",
    "        \n",
    "    print 'Mean Accuracy %s, Mean Precision %s Mean recall %s and Mean f1 %s' %(np.mean(accuracy),np.mean(precision), np.mean(recall), np.mean(f1))\n",
    "        "
   ]
  },
  {
   "cell_type": "code",
   "execution_count": 490,
   "metadata": {},
   "outputs": [
    {
     "name": "stdout",
     "output_type": "stream",
     "text": [
      "Result 0 : \n",
      "Parameters LogisticRegression(C=1, class_weight=None, dual=False, fit_intercept=True,\n",
      "          intercept_scaling=1, max_iter=100, multi_class='ovr', n_jobs=1,\n",
      "          penalty='l1', random_state=42, solver='liblinear', tol=0.0001,\n",
      "          verbose=0, warm_start=False)\n",
      "confusion matrix\n",
      "y true 216 y pred 841\n",
      "[[112 654]\n",
      " [ 29 187]]\n",
      "Area Under Curve (AUC) of the Logistic Regression is: 0.505977419979\n",
      "For accracy 0.304480651731 precision 0.222354340071 recall 0.865740740741 and f1 0.353831598865\n",
      "---------------------------------\n",
      "Result 1 : \n",
      "Parameters LogisticRegression(C=100000, class_weight=None, dual=False,\n",
      "          fit_intercept=True, intercept_scaling=1, max_iter=100,\n",
      "          multi_class='ovr', n_jobs=1, penalty='l1', random_state=42,\n",
      "          solver='liblinear', tol=0.0001, verbose=0, warm_start=False)\n",
      "confusion matrix\n",
      "y true 39 y pred 925\n",
      "[[ 57 886]\n",
      " [  0  39]]\n",
      "Area Under Curve (AUC) of the Logistic Regression is: 0.530222693531\n",
      "For accracy 0.0977596741344 precision 0.0421621621622 recall 1.0 and f1 0.0809128630705\n",
      "---------------------------------\n",
      "Result 2 : \n",
      "Parameters LogisticRegression(C=10000, class_weight=None, dual=False, fit_intercept=True,\n",
      "          intercept_scaling=1, max_iter=100, multi_class='ovr', n_jobs=1,\n",
      "          penalty='l2', random_state=42, solver='liblinear', tol=0.0001,\n",
      "          verbose=0, warm_start=False)\n",
      "confusion matrix\n",
      "y true 236 y pred 891\n",
      "[[ 81 665]\n",
      " [ 10 226]]\n",
      "Area Under Curve (AUC) of the Logistic Regression is: 0.533103103558\n",
      "For accracy 0.312627291242 precision 0.253647586981 recall 0.957627118644 and f1 0.401064773736\n",
      "---------------------------------\n",
      "Result 3 : \n",
      "Parameters LogisticRegression(C=10, class_weight=None, dual=False, fit_intercept=True,\n",
      "          intercept_scaling=1, max_iter=100, multi_class='ovr', n_jobs=1,\n",
      "          penalty='l1', random_state=42, solver='liblinear', tol=0.0001,\n",
      "          verbose=0, warm_start=False)\n",
      "confusion matrix\n",
      "y true 982 y pred 63\n",
      "[[  0   0]\n",
      " [919  63]]\n",
      "AUC can not be calculated\n",
      "For accracy 0.0641547861507 precision 1.0 recall 0.0641547861507 and f1 0.120574162679\n",
      "---------------------------------\n",
      "Result 4 : \n",
      "Parameters LogisticRegression(C=100, class_weight=None, dual=False, fit_intercept=True,\n",
      "          intercept_scaling=1, max_iter=100, multi_class='ovr', n_jobs=1,\n",
      "          penalty='l1', random_state=42, solver='liblinear', tol=0.0001,\n",
      "          verbose=0, warm_start=False)\n",
      "confusion matrix\n",
      "y true 982 y pred 66\n",
      "[[  0   0]\n",
      " [916  66]]\n",
      "AUC can not be calculated\n",
      "For accracy 0.0672097759674 precision 1.0 recall 0.0672097759674 and f1 0.125954198473\n",
      "---------------------------------\n",
      "Mean Accuracy 0.169246435845, Mean Precision 0.503632817843 Mean recall 0.590946484301 and Mean f1 0.216467519365\n"
     ]
    }
   ],
   "source": [
    "print_mean_score(y_test_list,y_test_pred_list)"
   ]
  },
  {
   "cell_type": "code",
   "execution_count": 324,
   "metadata": {},
   "outputs": [],
   "source": [
    "# coeffs_list[4]"
   ]
  },
  {
   "cell_type": "markdown",
   "metadata": {},
   "source": [
    "# A simple logistic without tune"
   ]
  },
  {
   "cell_type": "code",
   "execution_count": 451,
   "metadata": {
    "collapsed": true
   },
   "outputs": [],
   "source": [
    "from sklearn.cross_validation import train_test_split\n",
    "x_train, x_test, target_train, target_test = train_test_split(\n",
    "    result1, target, test_size=0.5, random_state=0)"
   ]
  },
  {
   "cell_type": "code",
   "execution_count": 452,
   "metadata": {},
   "outputs": [
    {
     "name": "stdout",
     "output_type": "stream",
     "text": [
      "Original dataset shape Counter({0: 1234, 1: 121})\n",
      "Resample dataset shape Counter({0: 1234, 1: 1234})\n",
      "Original dataset shape Counter({0: 1221, 1: 134})\n",
      "Resample dataset shape Counter({0: 1221, 1: 1221})\n"
     ]
    }
   ],
   "source": [
    "X_train_scale, X_test_scale = scale(x_train, x_test)\n",
    "X_res, y_res = resample(X_train_scale, target_train)\n",
    "X_res_test, y_res_test = resample(X_test_scale, target_test)"
   ]
  },
  {
   "cell_type": "code",
   "execution_count": 455,
   "metadata": {},
   "outputs": [
    {
     "data": {
      "text/plain": [
       "LogisticRegression(C=10000, class_weight=None, dual=False, fit_intercept=True,\n",
       "          intercept_scaling=1, max_iter=100, multi_class='ovr', n_jobs=1,\n",
       "          penalty='l1', random_state=None, solver='liblinear', tol=0.0001,\n",
       "          verbose=0, warm_start=False)"
      ]
     },
     "execution_count": 455,
     "metadata": {},
     "output_type": "execute_result"
    }
   ],
   "source": [
    "from sklearn.linear_model import LogisticRegression\n",
    "lr = LogisticRegression(penalty = 'l1',C=10**4, fit_intercept=True)\n",
    "lr.fit(X_res, y_res)"
   ]
  },
  {
   "cell_type": "code",
   "execution_count": 456,
   "metadata": {},
   "outputs": [
    {
     "data": {
      "text/html": [
       "<div>\n",
       "<style>\n",
       "    .dataframe thead tr:only-child th {\n",
       "        text-align: right;\n",
       "    }\n",
       "\n",
       "    .dataframe thead th {\n",
       "        text-align: left;\n",
       "    }\n",
       "\n",
       "    .dataframe tbody tr th {\n",
       "        vertical-align: top;\n",
       "    }\n",
       "</style>\n",
       "<table border=\"1\" class=\"dataframe\">\n",
       "  <thead>\n",
       "    <tr style=\"text-align: right;\">\n",
       "      <th></th>\n",
       "      <th>feature</th>\n",
       "      <th>coeff</th>\n",
       "    </tr>\n",
       "  </thead>\n",
       "  <tbody>\n",
       "    <tr>\n",
       "      <th>30</th>\n",
       "      <td>stay_length_courses_play</td>\n",
       "      <td>0.245856</td>\n",
       "    </tr>\n",
       "    <tr>\n",
       "      <th>3</th>\n",
       "      <td>manual_view_count</td>\n",
       "      <td>0.183328</td>\n",
       "    </tr>\n",
       "    <tr>\n",
       "      <th>25</th>\n",
       "      <td>tools_code_auto_view_count</td>\n",
       "      <td>0.126561</td>\n",
       "    </tr>\n",
       "    <tr>\n",
       "      <th>34</th>\n",
       "      <td>source_sogou</td>\n",
       "      <td>0.122657</td>\n",
       "    </tr>\n",
       "    <tr>\n",
       "      <th>28</th>\n",
       "      <td>stay_length_demo</td>\n",
       "      <td>0.118229</td>\n",
       "    </tr>\n",
       "    <tr>\n",
       "      <th>13</th>\n",
       "      <td>manual_use_steps_view_count</td>\n",
       "      <td>0.102933</td>\n",
       "    </tr>\n",
       "    <tr>\n",
       "      <th>36</th>\n",
       "      <td>source_sanjieke</td>\n",
       "      <td>0.086506</td>\n",
       "    </tr>\n",
       "    <tr>\n",
       "      <th>14</th>\n",
       "      <td>manual_eb_case_view_count</td>\n",
       "      <td>0.086287</td>\n",
       "    </tr>\n",
       "    <tr>\n",
       "      <th>4</th>\n",
       "      <td>b_round_view_count</td>\n",
       "      <td>0.070824</td>\n",
       "    </tr>\n",
       "    <tr>\n",
       "      <th>15</th>\n",
       "      <td>manual_event_ana_view_count</td>\n",
       "      <td>0.066752</td>\n",
       "    </tr>\n",
       "    <tr>\n",
       "      <th>89</th>\n",
       "      <td>refer_host_cpro.baidu.com</td>\n",
       "      <td>0.059895</td>\n",
       "    </tr>\n",
       "    <tr>\n",
       "      <th>9</th>\n",
       "      <td>manual_index_view_count</td>\n",
       "      <td>0.058387</td>\n",
       "    </tr>\n",
       "    <tr>\n",
       "      <th>72</th>\n",
       "      <td>refer_host_wisd.sogou.com</td>\n",
       "      <td>0.055331</td>\n",
       "    </tr>\n",
       "    <tr>\n",
       "      <th>110</th>\n",
       "      <td>refer_host_www.sdk.cn</td>\n",
       "      <td>0.053552</td>\n",
       "    </tr>\n",
       "    <tr>\n",
       "      <th>27</th>\n",
       "      <td>stay_length_index</td>\n",
       "      <td>0.048493</td>\n",
       "    </tr>\n",
       "    <tr>\n",
       "      <th>23</th>\n",
       "      <td>manual_user_identify_view_count</td>\n",
       "      <td>0.044112</td>\n",
       "    </tr>\n",
       "    <tr>\n",
       "      <th>24</th>\n",
       "      <td>manual_user_identify_view_count</td>\n",
       "      <td>0.027828</td>\n",
       "    </tr>\n",
       "    <tr>\n",
       "      <th>5</th>\n",
       "      <td>index_view_count</td>\n",
       "      <td>0.026026</td>\n",
       "    </tr>\n",
       "    <tr>\n",
       "      <th>52</th>\n",
       "      <td>refer_host_hippter.com</td>\n",
       "      <td>0.019183</td>\n",
       "    </tr>\n",
       "    <tr>\n",
       "      <th>129</th>\n",
       "      <td>refer_host_101.37.29.83</td>\n",
       "      <td>0.017705</td>\n",
       "    </tr>\n",
       "    <tr>\n",
       "      <th>65</th>\n",
       "      <td>refer_host_segmentfault.com</td>\n",
       "      <td>0.017147</td>\n",
       "    </tr>\n",
       "    <tr>\n",
       "      <th>104</th>\n",
       "      <td>refer_host_hr.36kr.com</td>\n",
       "      <td>0.016807</td>\n",
       "    </tr>\n",
       "    <tr>\n",
       "      <th>97</th>\n",
       "      <td>refer_host_www.google.fr</td>\n",
       "      <td>0.015743</td>\n",
       "    </tr>\n",
       "    <tr>\n",
       "      <th>121</th>\n",
       "      <td>refer_host_edudemo.cloud.sensorsdata.cn</td>\n",
       "      <td>0.013904</td>\n",
       "    </tr>\n",
       "    <tr>\n",
       "      <th>100</th>\n",
       "      <td>refer_host_qiyukf.cloud.sensorsdata.cn</td>\n",
       "      <td>0.012952</td>\n",
       "    </tr>\n",
       "    <tr>\n",
       "      <th>118</th>\n",
       "      <td>refer_host_analytics.mobi.7m.cn</td>\n",
       "      <td>0.010055</td>\n",
       "    </tr>\n",
       "    <tr>\n",
       "      <th>148</th>\n",
       "      <td>refer_host_www.innotree.cn</td>\n",
       "      <td>0.007742</td>\n",
       "    </tr>\n",
       "    <tr>\n",
       "      <th>55</th>\n",
       "      <td>refer_host_sensorsdata.cn</td>\n",
       "      <td>0.007596</td>\n",
       "    </tr>\n",
       "    <tr>\n",
       "      <th>151</th>\n",
       "      <td>refer_host_next.36kr.com</td>\n",
       "      <td>0.007541</td>\n",
       "    </tr>\n",
       "    <tr>\n",
       "      <th>74</th>\n",
       "      <td>refer_host_www.google.co.jp</td>\n",
       "      <td>0.006125</td>\n",
       "    </tr>\n",
       "    <tr>\n",
       "      <th>...</th>\n",
       "      <td>...</td>\n",
       "      <td>...</td>\n",
       "    </tr>\n",
       "    <tr>\n",
       "      <th>22</th>\n",
       "      <td>manual_user_identify_view_count</td>\n",
       "      <td>-0.006994</td>\n",
       "    </tr>\n",
       "    <tr>\n",
       "      <th>51</th>\n",
       "      <td>refer_host_www.google.com.hk</td>\n",
       "      <td>-0.008646</td>\n",
       "    </tr>\n",
       "    <tr>\n",
       "      <th>103</th>\n",
       "      <td>refer_host_59.151.81.45</td>\n",
       "      <td>-0.008727</td>\n",
       "    </tr>\n",
       "    <tr>\n",
       "      <th>141</th>\n",
       "      <td>refer_host_ipv6.google.com.hk</td>\n",
       "      <td>-0.010895</td>\n",
       "    </tr>\n",
       "    <tr>\n",
       "      <th>144</th>\n",
       "      <td>refer_host_analytics.51credit.com</td>\n",
       "      <td>-0.011564</td>\n",
       "    </tr>\n",
       "    <tr>\n",
       "      <th>77</th>\n",
       "      <td>refer_host_www.3lian.com</td>\n",
       "      <td>-0.013532</td>\n",
       "    </tr>\n",
       "    <tr>\n",
       "      <th>87</th>\n",
       "      <td>refer_host_www.rinterest.cn</td>\n",
       "      <td>-0.016248</td>\n",
       "    </tr>\n",
       "    <tr>\n",
       "      <th>42</th>\n",
       "      <td>refer_host_link.zhihu.com</td>\n",
       "      <td>-0.031322</td>\n",
       "    </tr>\n",
       "    <tr>\n",
       "      <th>18</th>\n",
       "      <td>manual_data_schema_view_count</td>\n",
       "      <td>-0.033801</td>\n",
       "    </tr>\n",
       "    <tr>\n",
       "      <th>62</th>\n",
       "      <td>refer_host_zhishi.sogou.com</td>\n",
       "      <td>-0.037435</td>\n",
       "    </tr>\n",
       "    <tr>\n",
       "      <th>76</th>\n",
       "      <td>refer_host_www.digitaling.com</td>\n",
       "      <td>-0.040709</td>\n",
       "    </tr>\n",
       "    <tr>\n",
       "      <th>0</th>\n",
       "      <td>index_view_count</td>\n",
       "      <td>-0.051406</td>\n",
       "    </tr>\n",
       "    <tr>\n",
       "      <th>26</th>\n",
       "      <td>direct_search_count</td>\n",
       "      <td>-0.056356</td>\n",
       "    </tr>\n",
       "    <tr>\n",
       "      <th>1</th>\n",
       "      <td>demo_view_count</td>\n",
       "      <td>-0.063901</td>\n",
       "    </tr>\n",
       "    <tr>\n",
       "      <th>33</th>\n",
       "      <td>source_baidu</td>\n",
       "      <td>-0.071718</td>\n",
       "    </tr>\n",
       "    <tr>\n",
       "      <th>127</th>\n",
       "      <td>refer_host_www.oneapm.com</td>\n",
       "      <td>-0.104044</td>\n",
       "    </tr>\n",
       "    <tr>\n",
       "      <th>7</th>\n",
       "      <td>courses_view_count</td>\n",
       "      <td>-0.156946</td>\n",
       "    </tr>\n",
       "    <tr>\n",
       "      <th>6</th>\n",
       "      <td>about_view_count</td>\n",
       "      <td>-0.183498</td>\n",
       "    </tr>\n",
       "    <tr>\n",
       "      <th>35</th>\n",
       "      <td>source_google</td>\n",
       "      <td>-0.199011</td>\n",
       "    </tr>\n",
       "    <tr>\n",
       "      <th>10</th>\n",
       "      <td>courses_index_view_count</td>\n",
       "      <td>-0.357303</td>\n",
       "    </tr>\n",
       "    <tr>\n",
       "      <th>2</th>\n",
       "      <td>product_view_count</td>\n",
       "      <td>-0.425247</td>\n",
       "    </tr>\n",
       "    <tr>\n",
       "      <th>21</th>\n",
       "      <td>manual_funnel_view_count</td>\n",
       "      <td>-0.429598</td>\n",
       "    </tr>\n",
       "    <tr>\n",
       "      <th>12</th>\n",
       "      <td>manual_data_model_view_count</td>\n",
       "      <td>-0.492086</td>\n",
       "    </tr>\n",
       "    <tr>\n",
       "      <th>32</th>\n",
       "      <td>stay_length_page_close</td>\n",
       "      <td>-0.631177</td>\n",
       "    </tr>\n",
       "    <tr>\n",
       "      <th>17</th>\n",
       "      <td>manual_vtrack_intro_view_count</td>\n",
       "      <td>-0.700083</td>\n",
       "    </tr>\n",
       "    <tr>\n",
       "      <th>16</th>\n",
       "      <td>manual_android_sdk_view_count</td>\n",
       "      <td>-0.892474</td>\n",
       "    </tr>\n",
       "    <tr>\n",
       "      <th>19</th>\n",
       "      <td>manual_data_import_view_count</td>\n",
       "      <td>-0.940644</td>\n",
       "    </tr>\n",
       "    <tr>\n",
       "      <th>29</th>\n",
       "      <td>stay_length_courses</td>\n",
       "      <td>-1.697964</td>\n",
       "    </tr>\n",
       "    <tr>\n",
       "      <th>11</th>\n",
       "      <td>manual_js_sdk_view_count</td>\n",
       "      <td>-1.706295</td>\n",
       "    </tr>\n",
       "    <tr>\n",
       "      <th>31</th>\n",
       "      <td>stay_length_about</td>\n",
       "      <td>-1.728789</td>\n",
       "    </tr>\n",
       "  </tbody>\n",
       "</table>\n",
       "<p>152 rows × 2 columns</p>\n",
       "</div>"
      ],
      "text/plain": [
       "                                     feature     coeff\n",
       "30                  stay_length_courses_play  0.245856\n",
       "3                          manual_view_count  0.183328\n",
       "25                tools_code_auto_view_count  0.126561\n",
       "34                              source_sogou  0.122657\n",
       "28                          stay_length_demo  0.118229\n",
       "13               manual_use_steps_view_count  0.102933\n",
       "36                           source_sanjieke  0.086506\n",
       "14                 manual_eb_case_view_count  0.086287\n",
       "4                         b_round_view_count  0.070824\n",
       "15               manual_event_ana_view_count  0.066752\n",
       "89                 refer_host_cpro.baidu.com  0.059895\n",
       "9                    manual_index_view_count  0.058387\n",
       "72                 refer_host_wisd.sogou.com  0.055331\n",
       "110                    refer_host_www.sdk.cn  0.053552\n",
       "27                         stay_length_index  0.048493\n",
       "23           manual_user_identify_view_count  0.044112\n",
       "24           manual_user_identify_view_count  0.027828\n",
       "5                           index_view_count  0.026026\n",
       "52                    refer_host_hippter.com  0.019183\n",
       "129                  refer_host_101.37.29.83  0.017705\n",
       "65               refer_host_segmentfault.com  0.017147\n",
       "104                   refer_host_hr.36kr.com  0.016807\n",
       "97                  refer_host_www.google.fr  0.015743\n",
       "121  refer_host_edudemo.cloud.sensorsdata.cn  0.013904\n",
       "100   refer_host_qiyukf.cloud.sensorsdata.cn  0.012952\n",
       "118          refer_host_analytics.mobi.7m.cn  0.010055\n",
       "148               refer_host_www.innotree.cn  0.007742\n",
       "55                 refer_host_sensorsdata.cn  0.007596\n",
       "151                 refer_host_next.36kr.com  0.007541\n",
       "74               refer_host_www.google.co.jp  0.006125\n",
       "..                                       ...       ...\n",
       "22           manual_user_identify_view_count -0.006994\n",
       "51              refer_host_www.google.com.hk -0.008646\n",
       "103                  refer_host_59.151.81.45 -0.008727\n",
       "141            refer_host_ipv6.google.com.hk -0.010895\n",
       "144        refer_host_analytics.51credit.com -0.011564\n",
       "77                  refer_host_www.3lian.com -0.013532\n",
       "87               refer_host_www.rinterest.cn -0.016248\n",
       "42                 refer_host_link.zhihu.com -0.031322\n",
       "18             manual_data_schema_view_count -0.033801\n",
       "62               refer_host_zhishi.sogou.com -0.037435\n",
       "76             refer_host_www.digitaling.com -0.040709\n",
       "0                           index_view_count -0.051406\n",
       "26                       direct_search_count -0.056356\n",
       "1                            demo_view_count -0.063901\n",
       "33                              source_baidu -0.071718\n",
       "127                refer_host_www.oneapm.com -0.104044\n",
       "7                         courses_view_count -0.156946\n",
       "6                           about_view_count -0.183498\n",
       "35                             source_google -0.199011\n",
       "10                  courses_index_view_count -0.357303\n",
       "2                         product_view_count -0.425247\n",
       "21                  manual_funnel_view_count -0.429598\n",
       "12              manual_data_model_view_count -0.492086\n",
       "32                    stay_length_page_close -0.631177\n",
       "17            manual_vtrack_intro_view_count -0.700083\n",
       "16             manual_android_sdk_view_count -0.892474\n",
       "19             manual_data_import_view_count -0.940644\n",
       "29                       stay_length_courses -1.697964\n",
       "11                  manual_js_sdk_view_count -1.706295\n",
       "31                         stay_length_about -1.728789\n",
       "\n",
       "[152 rows x 2 columns]"
      ]
     },
     "execution_count": 456,
     "metadata": {},
     "output_type": "execute_result"
    }
   ],
   "source": [
    "df_coeffs = pd.DataFrame(list(zip(result.columns, lr.coef_.flatten()))).sort_values(by=[1], ascending=False)\n",
    "df_coeffs.columns = ['feature', 'coeff']\n",
    "df_coeffs"
   ]
  },
  {
   "cell_type": "code",
   "execution_count": 457,
   "metadata": {
    "collapsed": true
   },
   "outputs": [],
   "source": [
    "# Make prediction on the training data\n",
    "y_train_pred = lr.predict(X_res)\n",
    "\n",
    "# Make predictions on test data\n",
    "y_test_pred = lr.predict(X_res_test)"
   ]
  },
  {
   "cell_type": "code",
   "execution_count": 458,
   "metadata": {},
   "outputs": [
    {
     "data": {
      "text/plain": [
       "(1643, 1352)"
      ]
     },
     "execution_count": 458,
     "metadata": {},
     "output_type": "execute_result"
    }
   ],
   "source": [
    "y_train_pred.sum(), y_test_pred.sum()"
   ]
  },
  {
   "cell_type": "code",
   "execution_count": 459,
   "metadata": {},
   "outputs": [
    {
     "data": {
      "text/plain": [
       "(2468,)"
      ]
     },
     "execution_count": 459,
     "metadata": {},
     "output_type": "execute_result"
    }
   ],
   "source": [
    "y_train_pred.size,"
   ]
  },
  {
   "cell_type": "code",
   "execution_count": 460,
   "metadata": {},
   "outputs": [
    {
     "name": "stdout",
     "output_type": "stream",
     "text": [
      "Training set scores:\n",
      "Accuracy of the Logistic Regression is: 0.605753646677\n",
      "Precision of the Logistic Regression is: 0.579427875837\n",
      "Recall of the Logistic Regression is: 0.771474878444\n",
      "f1-score of the Logistic Regression is: 0.661800486618\n"
     ]
    }
   ],
   "source": [
    "print(\"Training set scores:\")\n",
    "print_results(y_res, y_train_pred)"
   ]
  },
  {
   "cell_type": "code",
   "execution_count": 461,
   "metadata": {},
   "outputs": [
    {
     "name": "stdout",
     "output_type": "stream",
     "text": [
      "Test set scores:\n",
      "Accuracy of the Logistic Regression is: 0.45085995086\n",
      "Precision of the Logistic Regression is: 0.455621301775\n",
      "Recall of the Logistic Regression is: 0.504504504505\n",
      "f1-score of the Logistic Regression is: 0.478818499806\n"
     ]
    }
   ],
   "source": [
    "print(\"Test set scores:\")\n",
    "print_results(y_res_test, y_test_pred)"
   ]
  },
  {
   "cell_type": "code",
   "execution_count": 462,
   "metadata": {},
   "outputs": [
    {
     "data": {
      "text/plain": [
       "array([[543, 691],\n",
       "       [282, 952]])"
      ]
     },
     "execution_count": 462,
     "metadata": {},
     "output_type": "execute_result"
    }
   ],
   "source": [
    "from sklearn.metrics import confusion_matrix, classification_report, roc_curve\n",
    "confusion_matrix(y_res, y_train_pred)"
   ]
  },
  {
   "cell_type": "code",
   "execution_count": 463,
   "metadata": {},
   "outputs": [
    {
     "data": {
      "text/plain": [
       "array([[485, 736],\n",
       "       [605, 616]])"
      ]
     },
     "execution_count": 463,
     "metadata": {},
     "output_type": "execute_result"
    }
   ],
   "source": [
    "confusion_matrix(y_res_test, y_test_pred)"
   ]
  },
  {
   "cell_type": "code",
   "execution_count": 464,
   "metadata": {
    "collapsed": true
   },
   "outputs": [],
   "source": [
    "# Helper method to plot confusion matrix\n",
    "def plot_confusion_matrix(y_true, y_pred):\n",
    "    '''\n",
    "    Code from sklearn example.\n",
    "    '''\n",
    "    \n",
    "    cm = confusion_matrix(y_true, y_pred)\n",
    "\n",
    "    print(cm)\n",
    "\n",
    "    # Show confusion matrix in a separate window\n",
    "    plt.matshow(cm)\n",
    "    plt.title('Confusion matrix')\n",
    "    plt.colorbar()\n",
    "    plt.ylabel('True label')\n",
    "    plt.xlabel('Predicted label')\n",
    "    plt.show()"
   ]
  },
  {
   "cell_type": "code",
   "execution_count": 465,
   "metadata": {},
   "outputs": [
    {
     "name": "stdout",
     "output_type": "stream",
     "text": [
      "[[543 691]\n",
      " [282 952]]\n"
     ]
    },
    {
     "data": {
      "image/png": "[encoded data removed]",
      "text/plain": [
       "<matplotlib.figure.Figure at 0x11319cf90>"
      ]
     },
     "metadata": {},
     "output_type": "display_data"
    }
   ],
   "source": [
    "plot_confusion_matrix(y_res, y_train_pred)"
   ]
  },
  {
   "cell_type": "code",
   "execution_count": 466,
   "metadata": {},
   "outputs": [
    {
     "name": "stdout",
     "output_type": "stream",
     "text": [
      "[[485 736]\n",
      " [605 616]]\n"
     ]
    },
    {
     "data": {
      "image/png": "[encoded data removed]",
      "text/plain": [
       "<matplotlib.figure.Figure at 0x113422d50>"
      ]
     },
     "metadata": {},
     "output_type": "display_data"
    }
   ],
   "source": [
    "plot_confusion_matrix(y_res_test, y_test_pred)"
   ]
  },
  {
   "cell_type": "code",
   "execution_count": 467,
   "metadata": {},
   "outputs": [
    {
     "name": "stdout",
     "output_type": "stream",
     "text": [
      "Area Under Curve (AUC) of the Logistic Regression is: 0.45085995086\n"
     ]
    }
   ],
   "source": [
    "print(\"Area Under Curve (AUC) of the Logistic Regression is: {}\".format(roc_auc_score(y_res_test, y_test_pred)))"
   ]
  },
  {
   "cell_type": "code",
   "execution_count": 468,
   "metadata": {},
   "outputs": [
    {
     "name": "stdout",
     "output_type": "stream",
     "text": [
      "             precision    recall  f1-score   support\n",
      "\n",
      "          0       0.44      0.40      0.42      1221\n",
      "          1       0.46      0.50      0.48      1221\n",
      "\n",
      "avg / total       0.45      0.45      0.45      2442\n",
      "\n"
     ]
    }
   ],
   "source": [
    "print(classification_report(y_res_test, y_test_pred))"
   ]
  },
  {
   "cell_type": "code",
   "execution_count": 469,
   "metadata": {
    "collapsed": true
   },
   "outputs": [],
   "source": [
    "# Make predictions of the probability to be \"positive\"/\"sign up\"/\"1\", as compared to \"negative\"/\"not sign up\"/\"0\"\n",
    "y_test_pred_proba = lr.predict_proba(X_res_test)[:,1]"
   ]
  },
  {
   "cell_type": "code",
   "execution_count": 470,
   "metadata": {
    "collapsed": true
   },
   "outputs": [],
   "source": [
    "fpr, tpr, thresholds = roc_curve(y_res_test, y_test_pred_proba)"
   ]
  },
  {
   "cell_type": "code",
   "execution_count": 471,
   "metadata": {},
   "outputs": [
    {
     "data": {
      "image/png": "[encoded data removed]",
      "text/plain": [
       "<matplotlib.figure.Figure at 0x11277aad0>"
      ]
     },
     "metadata": {},
     "output_type": "display_data"
    }
   ],
   "source": [
    "# plot TPR against FPR\n",
    "plt.plot(fpr, tpr, color='red')\n",
    "\n",
    "# plot 45 degree line\n",
    "xx = np.linspace(0, 1.0, 20)\n",
    "plt.plot(xx, xx, color='blue')\n",
    "\n",
    "plt.xlabel(\"False Positive Rate\")\n",
    "plt.ylabel(\"True Positive Rate\")\n",
    "plt.title(\"ROC\")\n",
    "\n",
    "plt.show()"
   ]
  },
  {
   "cell_type": "markdown",
   "metadata": {},
   "source": [
    "Random Forest"
   ]
  },
  {
   "cell_type": "code",
   "execution_count": 472,
   "metadata": {},
   "outputs": [
    {
     "data": {
      "text/plain": [
       "RandomForestClassifier(bootstrap=True, class_weight=None, criterion='gini',\n",
       "            max_depth=None, max_features='auto', max_leaf_nodes=None,\n",
       "            min_impurity_split=1e-07, min_samples_leaf=10,\n",
       "            min_samples_split=2, min_weight_fraction_leaf=0.0,\n",
       "            n_estimators=5, n_jobs=1, oob_score=False, random_state=None,\n",
       "            verbose=0, warm_start=False)"
      ]
     },
     "execution_count": 472,
     "metadata": {},
     "output_type": "execute_result"
    }
   ],
   "source": [
    "# Build a Random Forest Classifier\n",
    "\n",
    "from sklearn.ensemble import RandomForestClassifier\n",
    "\n",
    "# To be implemented\n",
    "model_rfc = RandomForestClassifier(max_depth=None, n_estimators=5, min_samples_leaf=10)\n",
    "\n",
    "model_rfc.fit(X_res, y_res)"
   ]
  },
  {
   "cell_type": "code",
   "execution_count": 473,
   "metadata": {},
   "outputs": [
    {
     "data": {
      "text/html": [
       "<div>\n",
       "<style>\n",
       "    .dataframe thead tr:only-child th {\n",
       "        text-align: right;\n",
       "    }\n",
       "\n",
       "    .dataframe thead th {\n",
       "        text-align: left;\n",
       "    }\n",
       "\n",
       "    .dataframe tbody tr th {\n",
       "        vertical-align: top;\n",
       "    }\n",
       "</style>\n",
       "<table border=\"1\" class=\"dataframe\">\n",
       "  <thead>\n",
       "    <tr style=\"text-align: right;\">\n",
       "      <th></th>\n",
       "      <th>feature</th>\n",
       "      <th>feature importance</th>\n",
       "    </tr>\n",
       "  </thead>\n",
       "  <tbody>\n",
       "    <tr>\n",
       "      <th>2</th>\n",
       "      <td>product_view_count</td>\n",
       "      <td>0.103042</td>\n",
       "    </tr>\n",
       "    <tr>\n",
       "      <th>27</th>\n",
       "      <td>stay_length_index</td>\n",
       "      <td>0.090983</td>\n",
       "    </tr>\n",
       "    <tr>\n",
       "      <th>28</th>\n",
       "      <td>stay_length_demo</td>\n",
       "      <td>0.051024</td>\n",
       "    </tr>\n",
       "    <tr>\n",
       "      <th>34</th>\n",
       "      <td>source_sogou</td>\n",
       "      <td>0.039569</td>\n",
       "    </tr>\n",
       "    <tr>\n",
       "      <th>4</th>\n",
       "      <td>b_round_view_count</td>\n",
       "      <td>0.035744</td>\n",
       "    </tr>\n",
       "    <tr>\n",
       "      <th>82</th>\n",
       "      <td>refer_host_cn.bing.com</td>\n",
       "      <td>0.035088</td>\n",
       "    </tr>\n",
       "    <tr>\n",
       "      <th>26</th>\n",
       "      <td>direct_search_count</td>\n",
       "      <td>0.033373</td>\n",
       "    </tr>\n",
       "    <tr>\n",
       "      <th>1</th>\n",
       "      <td>demo_view_count</td>\n",
       "      <td>0.033256</td>\n",
       "    </tr>\n",
       "    <tr>\n",
       "      <th>3</th>\n",
       "      <td>manual_view_count</td>\n",
       "      <td>0.030666</td>\n",
       "    </tr>\n",
       "    <tr>\n",
       "      <th>75</th>\n",
       "      <td>refer_host_a.mobi.sogou.com</td>\n",
       "      <td>0.024074</td>\n",
       "    </tr>\n",
       "    <tr>\n",
       "      <th>119</th>\n",
       "      <td>refer_host_blog.sanjieke.cn</td>\n",
       "      <td>0.023011</td>\n",
       "    </tr>\n",
       "    <tr>\n",
       "      <th>97</th>\n",
       "      <td>refer_host_www.google.fr</td>\n",
       "      <td>0.021412</td>\n",
       "    </tr>\n",
       "    <tr>\n",
       "      <th>83</th>\n",
       "      <td>refer_host_192.168.3.130</td>\n",
       "      <td>0.019710</td>\n",
       "    </tr>\n",
       "    <tr>\n",
       "      <th>136</th>\n",
       "      <td>refer_host_www.jianshu.com</td>\n",
       "      <td>0.018457</td>\n",
       "    </tr>\n",
       "    <tr>\n",
       "      <th>70</th>\n",
       "      <td>refer_host_www.itjuzi.com</td>\n",
       "      <td>0.016898</td>\n",
       "    </tr>\n",
       "    <tr>\n",
       "      <th>29</th>\n",
       "      <td>stay_length_courses</td>\n",
       "      <td>0.016257</td>\n",
       "    </tr>\n",
       "    <tr>\n",
       "      <th>91</th>\n",
       "      <td>refer_host_www.199it.com</td>\n",
       "      <td>0.016164</td>\n",
       "    </tr>\n",
       "    <tr>\n",
       "      <th>51</th>\n",
       "      <td>refer_host_www.google.com.hk</td>\n",
       "      <td>0.016128</td>\n",
       "    </tr>\n",
       "    <tr>\n",
       "      <th>79</th>\n",
       "      <td>refer_host_mail.qq.com</td>\n",
       "      <td>0.015369</td>\n",
       "    </tr>\n",
       "    <tr>\n",
       "      <th>128</th>\n",
       "      <td>refer_host_pintu.corp.36kr.com</td>\n",
       "      <td>0.014899</td>\n",
       "    </tr>\n",
       "    <tr>\n",
       "      <th>117</th>\n",
       "      <td>refer_host_confluence.bbtree.com</td>\n",
       "      <td>0.014474</td>\n",
       "    </tr>\n",
       "    <tr>\n",
       "      <th>39</th>\n",
       "      <td>refer_host_www.sensorsdata.cn</td>\n",
       "      <td>0.014300</td>\n",
       "    </tr>\n",
       "    <tr>\n",
       "      <th>62</th>\n",
       "      <td>refer_host_zhishi.sogou.com</td>\n",
       "      <td>0.013901</td>\n",
       "    </tr>\n",
       "    <tr>\n",
       "      <th>40</th>\n",
       "      <td>refer_host_www.baidu.com</td>\n",
       "      <td>0.012541</td>\n",
       "    </tr>\n",
       "    <tr>\n",
       "      <th>127</th>\n",
       "      <td>refer_host_www.oneapm.com</td>\n",
       "      <td>0.010868</td>\n",
       "    </tr>\n",
       "    <tr>\n",
       "      <th>126</th>\n",
       "      <td>refer_host_www.bing.com</td>\n",
       "      <td>0.010533</td>\n",
       "    </tr>\n",
       "    <tr>\n",
       "      <th>98</th>\n",
       "      <td>refer_host_snaptube.cloud.sensorsdata.cn</td>\n",
       "      <td>0.009784</td>\n",
       "    </tr>\n",
       "    <tr>\n",
       "      <th>142</th>\n",
       "      <td>refer_host_qimingpian.com</td>\n",
       "      <td>0.009470</td>\n",
       "    </tr>\n",
       "    <tr>\n",
       "      <th>64</th>\n",
       "      <td>refer_host_36kr.com</td>\n",
       "      <td>0.009220</td>\n",
       "    </tr>\n",
       "    <tr>\n",
       "      <th>85</th>\n",
       "      <td>refer_host_tieba.baidu.com</td>\n",
       "      <td>0.009152</td>\n",
       "    </tr>\n",
       "    <tr>\n",
       "      <th>...</th>\n",
       "      <td>...</td>\n",
       "      <td>...</td>\n",
       "    </tr>\n",
       "    <tr>\n",
       "      <th>16</th>\n",
       "      <td>manual_android_sdk_view_count</td>\n",
       "      <td>0.000000</td>\n",
       "    </tr>\n",
       "    <tr>\n",
       "      <th>15</th>\n",
       "      <td>manual_event_ana_view_count</td>\n",
       "      <td>0.000000</td>\n",
       "    </tr>\n",
       "    <tr>\n",
       "      <th>137</th>\n",
       "      <td>refer_host_zhibodemo.cloud.sensorsdata.cn</td>\n",
       "      <td>0.000000</td>\n",
       "    </tr>\n",
       "    <tr>\n",
       "      <th>74</th>\n",
       "      <td>refer_host_www.google.co.jp</td>\n",
       "      <td>0.000000</td>\n",
       "    </tr>\n",
       "    <tr>\n",
       "      <th>36</th>\n",
       "      <td>source_sanjieke</td>\n",
       "      <td>0.000000</td>\n",
       "    </tr>\n",
       "    <tr>\n",
       "      <th>24</th>\n",
       "      <td>manual_user_identify_view_count</td>\n",
       "      <td>0.000000</td>\n",
       "    </tr>\n",
       "    <tr>\n",
       "      <th>95</th>\n",
       "      <td>refer_host_www.sanjieke.cn</td>\n",
       "      <td>0.000000</td>\n",
       "    </tr>\n",
       "    <tr>\n",
       "      <th>72</th>\n",
       "      <td>refer_host_wisd.sogou.com</td>\n",
       "      <td>0.000000</td>\n",
       "    </tr>\n",
       "    <tr>\n",
       "      <th>66</th>\n",
       "      <td>refer_host_newseed.pedaily.cn</td>\n",
       "      <td>0.000000</td>\n",
       "    </tr>\n",
       "    <tr>\n",
       "      <th>61</th>\n",
       "      <td>refer_host_www.tisiwi.com</td>\n",
       "      <td>0.000000</td>\n",
       "    </tr>\n",
       "    <tr>\n",
       "      <th>84</th>\n",
       "      <td>refer_host_sawiki2.nie.netease.com</td>\n",
       "      <td>0.000000</td>\n",
       "    </tr>\n",
       "    <tr>\n",
       "      <th>86</th>\n",
       "      <td>refer_host_shimo.im</td>\n",
       "      <td>0.000000</td>\n",
       "    </tr>\n",
       "    <tr>\n",
       "      <th>88</th>\n",
       "      <td>refer_host_www.appganhuo.com</td>\n",
       "      <td>0.000000</td>\n",
       "    </tr>\n",
       "    <tr>\n",
       "      <th>59</th>\n",
       "      <td>refer_host_www.so.com</td>\n",
       "      <td>0.000000</td>\n",
       "    </tr>\n",
       "    <tr>\n",
       "      <th>55</th>\n",
       "      <td>refer_host_sensorsdata.cn</td>\n",
       "      <td>0.000000</td>\n",
       "    </tr>\n",
       "    <tr>\n",
       "      <th>54</th>\n",
       "      <td>refer_host_googleads.g.doubleclick.net</td>\n",
       "      <td>0.000000</td>\n",
       "    </tr>\n",
       "    <tr>\n",
       "      <th>94</th>\n",
       "      <td>refer_host_open.ezrpro.com</td>\n",
       "      <td>0.000000</td>\n",
       "    </tr>\n",
       "    <tr>\n",
       "      <th>50</th>\n",
       "      <td>refer_host_zhidao.baidu.com</td>\n",
       "      <td>0.000000</td>\n",
       "    </tr>\n",
       "    <tr>\n",
       "      <th>25</th>\n",
       "      <td>tools_code_auto_view_count</td>\n",
       "      <td>0.000000</td>\n",
       "    </tr>\n",
       "    <tr>\n",
       "      <th>99</th>\n",
       "      <td>refer_host_47.93.78.66</td>\n",
       "      <td>0.000000</td>\n",
       "    </tr>\n",
       "    <tr>\n",
       "      <th>100</th>\n",
       "      <td>refer_host_qiyukf.cloud.sensorsdata.cn</td>\n",
       "      <td>0.000000</td>\n",
       "    </tr>\n",
       "    <tr>\n",
       "      <th>43</th>\n",
       "      <td>refer_host_ebizdemo.cloud.sensorsdata.cn</td>\n",
       "      <td>0.000000</td>\n",
       "    </tr>\n",
       "    <tr>\n",
       "      <th>38</th>\n",
       "      <td>refer_host_nan</td>\n",
       "      <td>0.000000</td>\n",
       "    </tr>\n",
       "    <tr>\n",
       "      <th>37</th>\n",
       "      <td>source_wechat</td>\n",
       "      <td>0.000000</td>\n",
       "    </tr>\n",
       "    <tr>\n",
       "      <th>113</th>\n",
       "      <td>refer_host_116.62.89.9</td>\n",
       "      <td>0.000000</td>\n",
       "    </tr>\n",
       "    <tr>\n",
       "      <th>115</th>\n",
       "      <td>refer_host_sensorsdata.vipkid.com.cn</td>\n",
       "      <td>0.000000</td>\n",
       "    </tr>\n",
       "    <tr>\n",
       "      <th>35</th>\n",
       "      <td>source_google</td>\n",
       "      <td>0.000000</td>\n",
       "    </tr>\n",
       "    <tr>\n",
       "      <th>118</th>\n",
       "      <td>refer_host_analytics.mobi.7m.cn</td>\n",
       "      <td>0.000000</td>\n",
       "    </tr>\n",
       "    <tr>\n",
       "      <th>31</th>\n",
       "      <td>stay_length_about</td>\n",
       "      <td>0.000000</td>\n",
       "    </tr>\n",
       "    <tr>\n",
       "      <th>151</th>\n",
       "      <td>refer_host_next.36kr.com</td>\n",
       "      <td>0.000000</td>\n",
       "    </tr>\n",
       "  </tbody>\n",
       "</table>\n",
       "<p>152 rows × 2 columns</p>\n",
       "</div>"
      ],
      "text/plain": [
       "                                       feature  feature importance\n",
       "2                           product_view_count            0.103042\n",
       "27                           stay_length_index            0.090983\n",
       "28                            stay_length_demo            0.051024\n",
       "34                                source_sogou            0.039569\n",
       "4                           b_round_view_count            0.035744\n",
       "82                      refer_host_cn.bing.com            0.035088\n",
       "26                         direct_search_count            0.033373\n",
       "1                              demo_view_count            0.033256\n",
       "3                            manual_view_count            0.030666\n",
       "75                 refer_host_a.mobi.sogou.com            0.024074\n",
       "119                refer_host_blog.sanjieke.cn            0.023011\n",
       "97                    refer_host_www.google.fr            0.021412\n",
       "83                    refer_host_192.168.3.130            0.019710\n",
       "136                 refer_host_www.jianshu.com            0.018457\n",
       "70                   refer_host_www.itjuzi.com            0.016898\n",
       "29                         stay_length_courses            0.016257\n",
       "91                    refer_host_www.199it.com            0.016164\n",
       "51                refer_host_www.google.com.hk            0.016128\n",
       "79                      refer_host_mail.qq.com            0.015369\n",
       "128             refer_host_pintu.corp.36kr.com            0.014899\n",
       "117           refer_host_confluence.bbtree.com            0.014474\n",
       "39               refer_host_www.sensorsdata.cn            0.014300\n",
       "62                 refer_host_zhishi.sogou.com            0.013901\n",
       "40                    refer_host_www.baidu.com            0.012541\n",
       "127                  refer_host_www.oneapm.com            0.010868\n",
       "126                    refer_host_www.bing.com            0.010533\n",
       "98    refer_host_snaptube.cloud.sensorsdata.cn            0.009784\n",
       "142                  refer_host_qimingpian.com            0.009470\n",
       "64                         refer_host_36kr.com            0.009220\n",
       "85                  refer_host_tieba.baidu.com            0.009152\n",
       "..                                         ...                 ...\n",
       "16               manual_android_sdk_view_count            0.000000\n",
       "15                 manual_event_ana_view_count            0.000000\n",
       "137  refer_host_zhibodemo.cloud.sensorsdata.cn            0.000000\n",
       "74                 refer_host_www.google.co.jp            0.000000\n",
       "36                             source_sanjieke            0.000000\n",
       "24             manual_user_identify_view_count            0.000000\n",
       "95                  refer_host_www.sanjieke.cn            0.000000\n",
       "72                   refer_host_wisd.sogou.com            0.000000\n",
       "66               refer_host_newseed.pedaily.cn            0.000000\n",
       "61                   refer_host_www.tisiwi.com            0.000000\n",
       "84          refer_host_sawiki2.nie.netease.com            0.000000\n",
       "86                         refer_host_shimo.im            0.000000\n",
       "88                refer_host_www.appganhuo.com            0.000000\n",
       "59                       refer_host_www.so.com            0.000000\n",
       "55                   refer_host_sensorsdata.cn            0.000000\n",
       "54      refer_host_googleads.g.doubleclick.net            0.000000\n",
       "94                  refer_host_open.ezrpro.com            0.000000\n",
       "50                 refer_host_zhidao.baidu.com            0.000000\n",
       "25                  tools_code_auto_view_count            0.000000\n",
       "99                      refer_host_47.93.78.66            0.000000\n",
       "100     refer_host_qiyukf.cloud.sensorsdata.cn            0.000000\n",
       "43    refer_host_ebizdemo.cloud.sensorsdata.cn            0.000000\n",
       "38                              refer_host_nan            0.000000\n",
       "37                               source_wechat            0.000000\n",
       "113                     refer_host_116.62.89.9            0.000000\n",
       "115       refer_host_sensorsdata.vipkid.com.cn            0.000000\n",
       "35                               source_google            0.000000\n",
       "118            refer_host_analytics.mobi.7m.cn            0.000000\n",
       "31                           stay_length_about            0.000000\n",
       "151                   refer_host_next.36kr.com            0.000000\n",
       "\n",
       "[152 rows x 2 columns]"
      ]
     },
     "execution_count": 473,
     "metadata": {},
     "output_type": "execute_result"
    }
   ],
   "source": [
    "df_feature_importance = pd.DataFrame(list(zip(result.columns, model_rfc.feature_importances_.flatten()))).sort_values(by=[1], ascending=False)\n",
    "df_feature_importance.columns = ['feature', 'feature importance']\n",
    "df_feature_importance"
   ]
  },
  {
   "cell_type": "code",
   "execution_count": 474,
   "metadata": {},
   "outputs": [],
   "source": [
    "y_train_pred = model_rfc.predict(X_res)"
   ]
  },
  {
   "cell_type": "code",
   "execution_count": 475,
   "metadata": {},
   "outputs": [
    {
     "name": "stdout",
     "output_type": "stream",
     "text": [
      "Training set scores:\n",
      "Accuracy of the Logistic Regression is: 0.788492706645\n",
      "Precision of the Logistic Regression is: 0.85814889336\n",
      "Recall of the Logistic Regression is: 0.691247974068\n",
      "f1-score of the Logistic Regression is: 0.765709156194\n"
     ]
    }
   ],
   "source": [
    "print(\"Training set scores:\")\n",
    "print_results(y_res, y_train_pred)"
   ]
  },
  {
   "cell_type": "code",
   "execution_count": 476,
   "metadata": {},
   "outputs": [],
   "source": [
    "y_test_pred = model_rfc.predict(X_res_test)"
   ]
  },
  {
   "cell_type": "code",
   "execution_count": 477,
   "metadata": {},
   "outputs": [
    {
     "name": "stdout",
     "output_type": "stream",
     "text": [
      "Training set scores:\n",
      "Accuracy of the Logistic Regression is: 0.633087633088\n",
      "Precision of the Logistic Regression is: 0.753510140406\n",
      "Recall of the Logistic Regression is: 0.395577395577\n",
      "f1-score of the Logistic Regression is: 0.518796992481\n"
     ]
    }
   ],
   "source": [
    "print(\"Training set scores:\")\n",
    "print_results(y_res_test, y_test_pred)"
   ]
  },
  {
   "cell_type": "code",
   "execution_count": 478,
   "metadata": {},
   "outputs": [
    {
     "data": {
      "text/plain": [
       "array([[1093,  141],\n",
       "       [ 381,  853]])"
      ]
     },
     "execution_count": 478,
     "metadata": {},
     "output_type": "execute_result"
    }
   ],
   "source": [
    "from sklearn.metrics import confusion_matrix, classification_report, roc_curve\n",
    "confusion_matrix(y_res, y_train_pred)"
   ]
  },
  {
   "cell_type": "code",
   "execution_count": 479,
   "metadata": {},
   "outputs": [
    {
     "data": {
      "text/plain": [
       "array([[1063,  158],\n",
       "       [ 738,  483]])"
      ]
     },
     "execution_count": 479,
     "metadata": {},
     "output_type": "execute_result"
    }
   ],
   "source": [
    "confusion_matrix(y_res_test, y_test_pred)"
   ]
  },
  {
   "cell_type": "code",
   "execution_count": 480,
   "metadata": {},
   "outputs": [
    {
     "name": "stdout",
     "output_type": "stream",
     "text": [
      "[[1093  141]\n",
      " [ 381  853]]\n"
     ]
    },
    {
     "data": {
      "image/png": "[encoded data removed]",
      "text/plain": [
       "<matplotlib.figure.Figure at 0x1109c5cd0>"
      ]
     },
     "metadata": {},
     "output_type": "display_data"
    }
   ],
   "source": [
    "plot_confusion_matrix(y_res, y_train_pred)"
   ]
  },
  {
   "cell_type": "code",
   "execution_count": 481,
   "metadata": {},
   "outputs": [
    {
     "name": "stdout",
     "output_type": "stream",
     "text": [
      "[[1063  158]\n",
      " [ 738  483]]\n"
     ]
    },
    {
     "data": {
      "image/png": "[encoded data removed]",
      "text/plain": [
       "<matplotlib.figure.Figure at 0x11354edd0>"
      ]
     },
     "metadata": {},
     "output_type": "display_data"
    }
   ],
   "source": [
    "plot_confusion_matrix(y_res_test, y_test_pred)"
   ]
  },
  {
   "cell_type": "code",
   "execution_count": 482,
   "metadata": {},
   "outputs": [
    {
     "name": "stdout",
     "output_type": "stream",
     "text": [
      "Area Under Curve (AUC) of the Logistic Regression is: 0.633087633088\n"
     ]
    }
   ],
   "source": [
    "print(\"Area Under Curve (AUC) of the Logistic Regression is: {}\".format(roc_auc_score(y_res_test, y_test_pred)))"
   ]
  },
  {
   "cell_type": "code",
   "execution_count": 483,
   "metadata": {},
   "outputs": [
    {
     "name": "stdout",
     "output_type": "stream",
     "text": [
      "             precision    recall  f1-score   support\n",
      "\n",
      "          0       0.59      0.87      0.70      1221\n",
      "          1       0.75      0.40      0.52      1221\n",
      "\n",
      "avg / total       0.67      0.63      0.61      2442\n",
      "\n"
     ]
    }
   ],
   "source": [
    "print(classification_report(y_res_test, y_test_pred))"
   ]
  },
  {
   "cell_type": "code",
   "execution_count": 484,
   "metadata": {
    "collapsed": true
   },
   "outputs": [],
   "source": [
    "# Make predictions of the probability to be \"positive\"/\"sign up\"/\"1\", as compared to \"negative\"/\"not sign up\"/\"0\"\n",
    "y_test_pred_proba = model_rfc.predict_proba(X_res_test)[:,1]"
   ]
  },
  {
   "cell_type": "code",
   "execution_count": 485,
   "metadata": {
    "collapsed": true
   },
   "outputs": [],
   "source": [
    "fpr, tpr, thresholds = roc_curve(y_res_test, y_test_pred_proba)"
   ]
  },
  {
   "cell_type": "code",
   "execution_count": 486,
   "metadata": {},
   "outputs": [
    {
     "data": {
      "image/png": "[encoded data removed]",
      "text/plain": [
       "<matplotlib.figure.Figure at 0x113181610>"
      ]
     },
     "metadata": {},
     "output_type": "display_data"
    }
   ],
   "source": [
    "# plot TPR against FPR\n",
    "plt.plot(fpr, tpr, color='red')\n",
    "\n",
    "# plot 45 degree line\n",
    "xx = np.linspace(0, 1.0, 20)\n",
    "plt.plot(xx, xx, color='blue')\n",
    "\n",
    "plt.xlabel(\"False Positive Rate\")\n",
    "plt.ylabel(\"True Positive Rate\")\n",
    "plt.title(\"ROC\")\n",
    "\n",
    "plt.show()"
   ]
  }
 ],
 "metadata": {
  "kernelspec": {
   "display_name": "Python 2",
   "language": "python",
   "name": "python2"
  },
  "language_info": {
   "codemirror_mode": {
    "name": "ipython",
    "version": 2
   },
   "file_extension": ".py",
   "mimetype": "text/x-python",
   "name": "python",
   "nbconvert_exporter": "python",
   "pygments_lexer": "ipython2",
   "version": "2.7.13"
  }
 },
 "nbformat": 4,
 "nbformat_minor": 2
}
