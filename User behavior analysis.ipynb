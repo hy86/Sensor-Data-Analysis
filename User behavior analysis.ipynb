{
 "cells": [
  {
   "cell_type": "markdown",
   "metadata": {},
   "source": [
    "###  数据"
   ]
  },
  {
   "cell_type": "markdown",
   "metadata": {},
   "source": [
    "- _nocache：随机数字防止缓存\n",
    "\n",
    "- Distinct_id：类型是字符串，对用户的标识，对未登录用户，可以填充设备标识、CookieID 等，对于登录用户，则应该填充注册账号；这里的例子，我们假设是一个未注册用户，所以填充的是一个设备编号；\n",
    "\n",
    "- event：事件名，需是合法的变量名，即不能以数字开头，且只包含：大小写字母、数字、下划线和 $； \n",
    "\n",
    "- properties： 这个 Event 的具体属性，以 dict 的形式存在。其中以'$'开头的表明是系统的保留字段，它的类型和中文名已经预先定义好了，自定义属性请不要以 $ 开头；同时，同一个名称的 property，在不同 event 中，必须保持一致的定义和类型。 \n",
    "\n",
    "  *《JavaScript SDK》 https://sensorsdata.cn/manual/js_sdk.html#62-预置属性\n",
    "     \n",
    "     - index_leave\n",
    "     - nan \n",
    "     - $pageview\n",
    "     - btnClick \n",
    "     - demo_leave\n",
    "     - click_send_cellphone\n",
    "     - verify_cellphone_code \n",
    "     - clickSubmit\n",
    "     - about_leave\n",
    "     - courses_leave \n",
    "     - formSubmit \n",
    "     - page_close\n",
    "     - courses_play_leave\n",
    "     \n",
    "- jssdk_error    \n",
    "- lib: SDK类型，例如python、iOS等  \n",
    "- time  \n",
    "- type\n",
    "     - 'track'\n",
    "     - 'profile_set_once' 用户设置首次激活时间、首次注册时间等只在首次设置时有效的属性\n",
    "\n",
    "reference: 官网文档数据格式 https://www.sensorsdata.cn/manual/data_schema.html\n"
   ]
  },
  {
   "cell_type": "markdown",
   "metadata": {},
   "source": [
    "### 1. Read in data"
   ]
  },
  {
   "cell_type": "code",
   "execution_count": 27,
   "metadata": {
    "collapsed": true
   },
   "outputs": [],
   "source": [
    "import json\n",
    "import pandas as pd\n",
    "import numpy as np\n",
    "import matplotlib.pyplot as plt\n",
    "% matplotlib inline\n",
    "plt.style.use(\"ggplot\")\n",
    "from pandas.io.json import json_normalize"
   ]
  },
  {
   "cell_type": "code",
   "execution_count": 28,
   "metadata": {
    "collapsed": true
   },
   "outputs": [],
   "source": [
    "filename = '/Users/zhanghaoyan/Documents/DS501/BitTiger-DS501-1702/Projects/神策数据/sensorswww_data.txt'\n",
    "# import data as list of dict\n",
    "ll = list()\n",
    "with open(filename) as f:\n",
    "    for line in f:\n",
    "        try:\n",
    "            l = json.loads(line, encoding='utf-8')\n",
    "            ll.append(l)\n",
    "        except:\n",
    "            pass\n",
    "result = json_normalize(ll)"
   ]
  },
  {
   "cell_type": "code",
   "execution_count": 29,
   "metadata": {
    "collapsed": true
   },
   "outputs": [],
   "source": [
    "result.to_csv('/Users/zhanghaoyan/Documents/DS501/BitTiger-DS501-1702/Projects/神策数据/sensor_data_result.csv',encoding='utf-8',index=False)"
   ]
  },
  {
   "cell_type": "markdown",
   "metadata": {},
   "source": [
    "### 2. Data Preprocessing"
   ]
  },
  {
   "cell_type": "code",
   "execution_count": 53,
   "metadata": {},
   "outputs": [],
   "source": [
    "df = pd.read_csv('/Users/zhanghaoyan/Documents/DS501/BitTiger-DS501-1702/Projects/神策数据/sensor_data_result.csv',encoding='utf-8')"
   ]
  },
  {
   "cell_type": "code",
   "execution_count": 31,
   "metadata": {},
   "outputs": [
    {
     "data": {
      "text/html": [
       "<div>\n",
       "<style>\n",
       "    .dataframe thead tr:only-child th {\n",
       "        text-align: right;\n",
       "    }\n",
       "\n",
       "    .dataframe thead th {\n",
       "        text-align: left;\n",
       "    }\n",
       "\n",
       "    .dataframe tbody tr th {\n",
       "        vertical-align: top;\n",
       "    }\n",
       "</style>\n",
       "<table border=\"1\" class=\"dataframe\">\n",
       "  <thead>\n",
       "    <tr style=\"text-align: right;\">\n",
       "      <th></th>\n",
       "      <th>_nocache</th>\n",
       "      <th>distinct_id</th>\n",
       "      <th>event</th>\n",
       "      <th>jssdk_error</th>\n",
       "      <th>lib.$lib</th>\n",
       "      <th>lib.$lib_method</th>\n",
       "      <th>lib.$lib_version</th>\n",
       "      <th>properties.$browser</th>\n",
       "      <th>properties.$browser_version</th>\n",
       "      <th>properties.$first_browser_language</th>\n",
       "      <th>...</th>\n",
       "      <th>properties.referrerUrl</th>\n",
       "      <th>properties.requestBtn</th>\n",
       "      <th>properties.result</th>\n",
       "      <th>properties.session_page_url</th>\n",
       "      <th>properties.siteUrl</th>\n",
       "      <th>properties.site_url</th>\n",
       "      <th>properties.url_path</th>\n",
       "      <th>properties.verification_code</th>\n",
       "      <th>time</th>\n",
       "      <th>type</th>\n",
       "    </tr>\n",
       "  </thead>\n",
       "  <tbody>\n",
       "    <tr>\n",
       "      <th>0</th>\n",
       "      <td>654392402996</td>\n",
       "      <td>595466e9a8e733434ce08de16e927d985e0b5d48</td>\n",
       "      <td>index_leave</td>\n",
       "      <td>NaN</td>\n",
       "      <td>js</td>\n",
       "      <td>code</td>\n",
       "      <td>1.6.20</td>\n",
       "      <td>chrome</td>\n",
       "      <td>56.0</td>\n",
       "      <td>NaN</td>\n",
       "      <td>...</td>\n",
       "      <td>NaN</td>\n",
       "      <td>NaN</td>\n",
       "      <td>NaN</td>\n",
       "      <td>https://www.sensorsdata.cn/?utm_source=baidu&amp;u...</td>\n",
       "      <td>NaN</td>\n",
       "      <td>NaN</td>\n",
       "      <td>NaN</td>\n",
       "      <td>NaN</td>\n",
       "      <td>1488791047953</td>\n",
       "      <td>track</td>\n",
       "    </tr>\n",
       "    <tr>\n",
       "      <th>1</th>\n",
       "      <td>3040562711955</td>\n",
       "      <td>9939d3e087bca29c42334d96dccd25ca0e06652a</td>\n",
       "      <td>NaN</td>\n",
       "      <td>NaN</td>\n",
       "      <td>js</td>\n",
       "      <td>code</td>\n",
       "      <td>1.6.20</td>\n",
       "      <td>NaN</td>\n",
       "      <td>NaN</td>\n",
       "      <td>zh-CN</td>\n",
       "      <td>...</td>\n",
       "      <td>NaN</td>\n",
       "      <td>NaN</td>\n",
       "      <td>NaN</td>\n",
       "      <td>NaN</td>\n",
       "      <td>NaN</td>\n",
       "      <td>NaN</td>\n",
       "      <td>NaN</td>\n",
       "      <td>NaN</td>\n",
       "      <td>1490958296645</td>\n",
       "      <td>profile_set_once</td>\n",
       "    </tr>\n",
       "    <tr>\n",
       "      <th>2</th>\n",
       "      <td>9587552771961</td>\n",
       "      <td>9939d3e087bca29c42334d96dccd25ca0e06652a</td>\n",
       "      <td>$pageview</td>\n",
       "      <td>NaN</td>\n",
       "      <td>js</td>\n",
       "      <td>code</td>\n",
       "      <td>1.6.20</td>\n",
       "      <td>chrome</td>\n",
       "      <td>56.0</td>\n",
       "      <td>NaN</td>\n",
       "      <td>...</td>\n",
       "      <td>NaN</td>\n",
       "      <td>NaN</td>\n",
       "      <td>NaN</td>\n",
       "      <td>https://sensorsdata.cn/?ch=demo</td>\n",
       "      <td>NaN</td>\n",
       "      <td>NaN</td>\n",
       "      <td>NaN</td>\n",
       "      <td>NaN</td>\n",
       "      <td>1488791050856</td>\n",
       "      <td>track</td>\n",
       "    </tr>\n",
       "    <tr>\n",
       "      <th>3</th>\n",
       "      <td>652937076129</td>\n",
       "      <td>9939d3e087bca29c42334d96dccd25ca0e06652a</td>\n",
       "      <td>btnClick</td>\n",
       "      <td>NaN</td>\n",
       "      <td>js</td>\n",
       "      <td>code</td>\n",
       "      <td>1.6.20</td>\n",
       "      <td>chrome</td>\n",
       "      <td>56.0</td>\n",
       "      <td>NaN</td>\n",
       "      <td>...</td>\n",
       "      <td>NaN</td>\n",
       "      <td>2.0</td>\n",
       "      <td>NaN</td>\n",
       "      <td>https://sensorsdata.cn/?ch=demo</td>\n",
       "      <td>NaN</td>\n",
       "      <td>NaN</td>\n",
       "      <td>NaN</td>\n",
       "      <td>NaN</td>\n",
       "      <td>1488791051772</td>\n",
       "      <td>track</td>\n",
       "    </tr>\n",
       "    <tr>\n",
       "      <th>4</th>\n",
       "      <td>8207407748558</td>\n",
       "      <td>9939d3e087bca29c42334d96dccd25ca0e06652a</td>\n",
       "      <td>btnClick</td>\n",
       "      <td>NaN</td>\n",
       "      <td>js</td>\n",
       "      <td>code</td>\n",
       "      <td>1.6.20</td>\n",
       "      <td>chrome</td>\n",
       "      <td>56.0</td>\n",
       "      <td>NaN</td>\n",
       "      <td>...</td>\n",
       "      <td>NaN</td>\n",
       "      <td>2.0</td>\n",
       "      <td>NaN</td>\n",
       "      <td>https://sensorsdata.cn/?ch=demo</td>\n",
       "      <td>NaN</td>\n",
       "      <td>NaN</td>\n",
       "      <td>NaN</td>\n",
       "      <td>NaN</td>\n",
       "      <td>1488791056032</td>\n",
       "      <td>track</td>\n",
       "    </tr>\n",
       "  </tbody>\n",
       "</table>\n",
       "<p>5 rows × 70 columns</p>\n",
       "</div>"
      ],
      "text/plain": [
       "        _nocache                               distinct_id        event  \\\n",
       "0   654392402996  595466e9a8e733434ce08de16e927d985e0b5d48  index_leave   \n",
       "1  3040562711955  9939d3e087bca29c42334d96dccd25ca0e06652a          NaN   \n",
       "2  9587552771961  9939d3e087bca29c42334d96dccd25ca0e06652a    $pageview   \n",
       "3   652937076129  9939d3e087bca29c42334d96dccd25ca0e06652a     btnClick   \n",
       "4  8207407748558  9939d3e087bca29c42334d96dccd25ca0e06652a     btnClick   \n",
       "\n",
       "  jssdk_error lib.$lib lib.$lib_method lib.$lib_version properties.$browser  \\\n",
       "0         NaN       js            code           1.6.20              chrome   \n",
       "1         NaN       js            code           1.6.20                 NaN   \n",
       "2         NaN       js            code           1.6.20              chrome   \n",
       "3         NaN       js            code           1.6.20              chrome   \n",
       "4         NaN       js            code           1.6.20              chrome   \n",
       "\n",
       "   properties.$browser_version properties.$first_browser_language  \\\n",
       "0                         56.0                                NaN   \n",
       "1                          NaN                              zh-CN   \n",
       "2                         56.0                                NaN   \n",
       "3                         56.0                                NaN   \n",
       "4                         56.0                                NaN   \n",
       "\n",
       "         ...        properties.referrerUrl properties.requestBtn  \\\n",
       "0        ...                           NaN                   NaN   \n",
       "1        ...                           NaN                   NaN   \n",
       "2        ...                           NaN                   NaN   \n",
       "3        ...                           NaN                   2.0   \n",
       "4        ...                           NaN                   2.0   \n",
       "\n",
       "  properties.result                        properties.session_page_url  \\\n",
       "0               NaN  https://www.sensorsdata.cn/?utm_source=baidu&u...   \n",
       "1               NaN                                                NaN   \n",
       "2               NaN                    https://sensorsdata.cn/?ch=demo   \n",
       "3               NaN                    https://sensorsdata.cn/?ch=demo   \n",
       "4               NaN                    https://sensorsdata.cn/?ch=demo   \n",
       "\n",
       "  properties.siteUrl properties.site_url properties.url_path  \\\n",
       "0                NaN                 NaN                 NaN   \n",
       "1                NaN                 NaN                 NaN   \n",
       "2                NaN                 NaN                 NaN   \n",
       "3                NaN                 NaN                 NaN   \n",
       "4                NaN                 NaN                 NaN   \n",
       "\n",
       "  properties.verification_code           time              type  \n",
       "0                          NaN  1488791047953             track  \n",
       "1                          NaN  1490958296645  profile_set_once  \n",
       "2                          NaN  1488791050856             track  \n",
       "3                          NaN  1488791051772             track  \n",
       "4                          NaN  1488791056032             track  \n",
       "\n",
       "[5 rows x 70 columns]"
      ]
     },
     "execution_count": 31,
     "metadata": {},
     "output_type": "execute_result"
    }
   ],
   "source": [
    "df.head()"
   ]
  },
  {
   "cell_type": "markdown",
   "metadata": {},
   "source": [
    "    Convert the time into timestamp and convert it into Asia/Shanghai timezone"
   ]
  },
  {
   "cell_type": "code",
   "execution_count": 32,
   "metadata": {
    "collapsed": true
   },
   "outputs": [],
   "source": [
    "time = pd.to_datetime(df['time'],unit = 'ms',utc=True)\n",
    "for i,_ in enumerate(time):\n",
    "    df.loc[i,'time'] = time[i].tz_localize('UTC').tz_convert('Asia/Shanghai')"
   ]
  },
  {
   "cell_type": "code",
   "execution_count": 33,
   "metadata": {},
   "outputs": [
    {
     "data": {
      "text/html": [
       "<div>\n",
       "<style>\n",
       "    .dataframe thead tr:only-child th {\n",
       "        text-align: right;\n",
       "    }\n",
       "\n",
       "    .dataframe thead th {\n",
       "        text-align: left;\n",
       "    }\n",
       "\n",
       "    .dataframe tbody tr th {\n",
       "        vertical-align: top;\n",
       "    }\n",
       "</style>\n",
       "<table border=\"1\" class=\"dataframe\">\n",
       "  <thead>\n",
       "    <tr style=\"text-align: right;\">\n",
       "      <th></th>\n",
       "      <th>_nocache</th>\n",
       "      <th>distinct_id</th>\n",
       "      <th>event</th>\n",
       "      <th>jssdk_error</th>\n",
       "      <th>lib.$lib</th>\n",
       "      <th>lib.$lib_method</th>\n",
       "      <th>lib.$lib_version</th>\n",
       "      <th>properties.$browser</th>\n",
       "      <th>properties.$browser_version</th>\n",
       "      <th>properties.$first_browser_language</th>\n",
       "      <th>...</th>\n",
       "      <th>properties.referrerUrl</th>\n",
       "      <th>properties.requestBtn</th>\n",
       "      <th>properties.result</th>\n",
       "      <th>properties.session_page_url</th>\n",
       "      <th>properties.siteUrl</th>\n",
       "      <th>properties.site_url</th>\n",
       "      <th>properties.url_path</th>\n",
       "      <th>properties.verification_code</th>\n",
       "      <th>time</th>\n",
       "      <th>type</th>\n",
       "    </tr>\n",
       "  </thead>\n",
       "  <tbody>\n",
       "    <tr>\n",
       "      <th>0</th>\n",
       "      <td>654392402996</td>\n",
       "      <td>595466e9a8e733434ce08de16e927d985e0b5d48</td>\n",
       "      <td>index_leave</td>\n",
       "      <td>NaN</td>\n",
       "      <td>js</td>\n",
       "      <td>code</td>\n",
       "      <td>1.6.20</td>\n",
       "      <td>chrome</td>\n",
       "      <td>56.0</td>\n",
       "      <td>NaN</td>\n",
       "      <td>...</td>\n",
       "      <td>NaN</td>\n",
       "      <td>NaN</td>\n",
       "      <td>NaN</td>\n",
       "      <td>https://www.sensorsdata.cn/?utm_source=baidu&amp;u...</td>\n",
       "      <td>NaN</td>\n",
       "      <td>NaN</td>\n",
       "      <td>NaN</td>\n",
       "      <td>NaN</td>\n",
       "      <td>2017-03-06 17:04:07.953000+08:00</td>\n",
       "      <td>track</td>\n",
       "    </tr>\n",
       "    <tr>\n",
       "      <th>1</th>\n",
       "      <td>3040562711955</td>\n",
       "      <td>9939d3e087bca29c42334d96dccd25ca0e06652a</td>\n",
       "      <td>NaN</td>\n",
       "      <td>NaN</td>\n",
       "      <td>js</td>\n",
       "      <td>code</td>\n",
       "      <td>1.6.20</td>\n",
       "      <td>NaN</td>\n",
       "      <td>NaN</td>\n",
       "      <td>zh-CN</td>\n",
       "      <td>...</td>\n",
       "      <td>NaN</td>\n",
       "      <td>NaN</td>\n",
       "      <td>NaN</td>\n",
       "      <td>NaN</td>\n",
       "      <td>NaN</td>\n",
       "      <td>NaN</td>\n",
       "      <td>NaN</td>\n",
       "      <td>NaN</td>\n",
       "      <td>2017-03-31 19:04:56.645000+08:00</td>\n",
       "      <td>profile_set_once</td>\n",
       "    </tr>\n",
       "    <tr>\n",
       "      <th>2</th>\n",
       "      <td>9587552771961</td>\n",
       "      <td>9939d3e087bca29c42334d96dccd25ca0e06652a</td>\n",
       "      <td>$pageview</td>\n",
       "      <td>NaN</td>\n",
       "      <td>js</td>\n",
       "      <td>code</td>\n",
       "      <td>1.6.20</td>\n",
       "      <td>chrome</td>\n",
       "      <td>56.0</td>\n",
       "      <td>NaN</td>\n",
       "      <td>...</td>\n",
       "      <td>NaN</td>\n",
       "      <td>NaN</td>\n",
       "      <td>NaN</td>\n",
       "      <td>https://sensorsdata.cn/?ch=demo</td>\n",
       "      <td>NaN</td>\n",
       "      <td>NaN</td>\n",
       "      <td>NaN</td>\n",
       "      <td>NaN</td>\n",
       "      <td>2017-03-06 17:04:10.856000+08:00</td>\n",
       "      <td>track</td>\n",
       "    </tr>\n",
       "    <tr>\n",
       "      <th>3</th>\n",
       "      <td>652937076129</td>\n",
       "      <td>9939d3e087bca29c42334d96dccd25ca0e06652a</td>\n",
       "      <td>btnClick</td>\n",
       "      <td>NaN</td>\n",
       "      <td>js</td>\n",
       "      <td>code</td>\n",
       "      <td>1.6.20</td>\n",
       "      <td>chrome</td>\n",
       "      <td>56.0</td>\n",
       "      <td>NaN</td>\n",
       "      <td>...</td>\n",
       "      <td>NaN</td>\n",
       "      <td>2.0</td>\n",
       "      <td>NaN</td>\n",
       "      <td>https://sensorsdata.cn/?ch=demo</td>\n",
       "      <td>NaN</td>\n",
       "      <td>NaN</td>\n",
       "      <td>NaN</td>\n",
       "      <td>NaN</td>\n",
       "      <td>2017-03-06 17:04:11.772000+08:00</td>\n",
       "      <td>track</td>\n",
       "    </tr>\n",
       "    <tr>\n",
       "      <th>4</th>\n",
       "      <td>8207407748558</td>\n",
       "      <td>9939d3e087bca29c42334d96dccd25ca0e06652a</td>\n",
       "      <td>btnClick</td>\n",
       "      <td>NaN</td>\n",
       "      <td>js</td>\n",
       "      <td>code</td>\n",
       "      <td>1.6.20</td>\n",
       "      <td>chrome</td>\n",
       "      <td>56.0</td>\n",
       "      <td>NaN</td>\n",
       "      <td>...</td>\n",
       "      <td>NaN</td>\n",
       "      <td>2.0</td>\n",
       "      <td>NaN</td>\n",
       "      <td>https://sensorsdata.cn/?ch=demo</td>\n",
       "      <td>NaN</td>\n",
       "      <td>NaN</td>\n",
       "      <td>NaN</td>\n",
       "      <td>NaN</td>\n",
       "      <td>2017-03-06 17:04:16.032000+08:00</td>\n",
       "      <td>track</td>\n",
       "    </tr>\n",
       "  </tbody>\n",
       "</table>\n",
       "<p>5 rows × 70 columns</p>\n",
       "</div>"
      ],
      "text/plain": [
       "        _nocache                               distinct_id        event  \\\n",
       "0   654392402996  595466e9a8e733434ce08de16e927d985e0b5d48  index_leave   \n",
       "1  3040562711955  9939d3e087bca29c42334d96dccd25ca0e06652a          NaN   \n",
       "2  9587552771961  9939d3e087bca29c42334d96dccd25ca0e06652a    $pageview   \n",
       "3   652937076129  9939d3e087bca29c42334d96dccd25ca0e06652a     btnClick   \n",
       "4  8207407748558  9939d3e087bca29c42334d96dccd25ca0e06652a     btnClick   \n",
       "\n",
       "  jssdk_error lib.$lib lib.$lib_method lib.$lib_version properties.$browser  \\\n",
       "0         NaN       js            code           1.6.20              chrome   \n",
       "1         NaN       js            code           1.6.20                 NaN   \n",
       "2         NaN       js            code           1.6.20              chrome   \n",
       "3         NaN       js            code           1.6.20              chrome   \n",
       "4         NaN       js            code           1.6.20              chrome   \n",
       "\n",
       "   properties.$browser_version properties.$first_browser_language  \\\n",
       "0                         56.0                                NaN   \n",
       "1                          NaN                              zh-CN   \n",
       "2                         56.0                                NaN   \n",
       "3                         56.0                                NaN   \n",
       "4                         56.0                                NaN   \n",
       "\n",
       "         ...        properties.referrerUrl properties.requestBtn  \\\n",
       "0        ...                           NaN                   NaN   \n",
       "1        ...                           NaN                   NaN   \n",
       "2        ...                           NaN                   NaN   \n",
       "3        ...                           NaN                   2.0   \n",
       "4        ...                           NaN                   2.0   \n",
       "\n",
       "  properties.result                        properties.session_page_url  \\\n",
       "0               NaN  https://www.sensorsdata.cn/?utm_source=baidu&u...   \n",
       "1               NaN                                                NaN   \n",
       "2               NaN                    https://sensorsdata.cn/?ch=demo   \n",
       "3               NaN                    https://sensorsdata.cn/?ch=demo   \n",
       "4               NaN                    https://sensorsdata.cn/?ch=demo   \n",
       "\n",
       "  properties.siteUrl properties.site_url properties.url_path  \\\n",
       "0                NaN                 NaN                 NaN   \n",
       "1                NaN                 NaN                 NaN   \n",
       "2                NaN                 NaN                 NaN   \n",
       "3                NaN                 NaN                 NaN   \n",
       "4                NaN                 NaN                 NaN   \n",
       "\n",
       "  properties.verification_code                              time  \\\n",
       "0                          NaN  2017-03-06 17:04:07.953000+08:00   \n",
       "1                          NaN  2017-03-31 19:04:56.645000+08:00   \n",
       "2                          NaN  2017-03-06 17:04:10.856000+08:00   \n",
       "3                          NaN  2017-03-06 17:04:11.772000+08:00   \n",
       "4                          NaN  2017-03-06 17:04:16.032000+08:00   \n",
       "\n",
       "               type  \n",
       "0             track  \n",
       "1  profile_set_once  \n",
       "2             track  \n",
       "3             track  \n",
       "4             track  \n",
       "\n",
       "[5 rows x 70 columns]"
      ]
     },
     "execution_count": 33,
     "metadata": {},
     "output_type": "execute_result"
    }
   ],
   "source": [
    "df.head()"
   ]
  },
  {
   "cell_type": "code",
   "execution_count": 34,
   "metadata": {},
   "outputs": [
    {
     "name": "stdout",
     "output_type": "stream",
     "text": [
      "<class 'pandas.core.frame.DataFrame'>\n",
      "RangeIndex: 51048 entries, 0 to 51047\n",
      "Data columns (total 70 columns):\n",
      "_nocache                               51048 non-null int64\n",
      "distinct_id                            51048 non-null object\n",
      "event                                  44563 non-null object\n",
      "jssdk_error                            33 non-null object\n",
      "lib.$lib                               51048 non-null object\n",
      "lib.$lib_method                        51048 non-null object\n",
      "lib.$lib_version                       51048 non-null object\n",
      "properties.$browser                    44563 non-null object\n",
      "properties.$browser_version            44563 non-null float64\n",
      "properties.$first_browser_language     6289 non-null object\n",
      "properties.$first_referrer             4728 non-null object\n",
      "properties.$first_referrer_host        4728 non-null object\n",
      "properties.$first_visit_time           6485 non-null object\n",
      "properties.$ip                         44563 non-null object\n",
      "properties.$is_first_day               44563 non-null object\n",
      "properties.$is_first_time              44563 non-null object\n",
      "properties.$latest_referrer            28149 non-null object\n",
      "properties.$latest_referrer_host       28149 non-null object\n",
      "properties.$latest_utm_campaign        27253 non-null object\n",
      "properties.$latest_utm_content         26552 non-null object\n",
      "properties.$latest_utm_medium          27206 non-null object\n",
      "properties.$latest_utm_source          27649 non-null object\n",
      "properties.$latest_utm_term            26828 non-null object\n",
      "properties.$lib                        44563 non-null object\n",
      "properties.$lib_version                44563 non-null object\n",
      "properties.$model                      44563 non-null object\n",
      "properties.$os                         44563 non-null object\n",
      "properties.$os_version                 44563 non-null float64\n",
      "properties.$referrer                   17406 non-null object\n",
      "properties.$referrer_host              17406 non-null object\n",
      "properties.$screen_height              44563 non-null float64\n",
      "properties.$screen_width               44563 non-null float64\n",
      "properties.$title                      22037 non-null object\n",
      "properties.$url                        22037 non-null object\n",
      "properties.$url_path                   22037 non-null object\n",
      "properties.$utm_campaign               9694 non-null object\n",
      "properties.$utm_content                9600 non-null object\n",
      "properties.$utm_medium                 9691 non-null object\n",
      "properties.$utm_source                 9766 non-null object\n",
      "properties.$utm_term                   9622 non-null object\n",
      "properties._latest_ch                  5642 non-null object\n",
      "properties._session_from_url           66 non-null object\n",
      "properties._session_referrer           32483 non-null object\n",
      "properties._session_referrer_domain    28 non-null object\n",
      "properties._session_referrer_host      32466 non-null object\n",
      "properties.ch                          400 non-null object\n",
      "properties.company                     751 non-null object\n",
      "properties.contact                     851 non-null object\n",
      "properties.email                       748 non-null object\n",
      "properties.from_url                    562 non-null object\n",
      "properties.info                        738 non-null object\n",
      "properties.isMsg                       313 non-null object\n",
      "properties.isSuccess                   535 non-null object\n",
      "properties.name                        10250 non-null object\n",
      "properties.page                        7994 non-null object\n",
      "properties.pagePosition                11334 non-null float64\n",
      "properties.pageStayTime                11472 non-null float64\n",
      "properties.pageUrl                     20728 non-null object\n",
      "properties.project_name                1672 non-null object\n",
      "properties.referrHostUrl               184 non-null object\n",
      "properties.referrerUrl                 184 non-null object\n",
      "properties.requestBtn                  2962 non-null float64\n",
      "properties.result                      772 non-null object\n",
      "properties.session_page_url            42656 non-null object\n",
      "properties.siteUrl                     313 non-null object\n",
      "properties.site_url                    666 non-null object\n",
      "properties.url_path                    138 non-null object\n",
      "properties.verification_code           828 non-null object\n",
      "time                                   51048 non-null object\n",
      "type                                   51048 non-null object\n",
      "dtypes: float64(7), int64(1), object(62)\n",
      "memory usage: 27.3+ MB\n"
     ]
    }
   ],
   "source": [
    "df.info()"
   ]
  },
  {
   "cell_type": "markdown",
   "metadata": {},
   "source": [
    "    Drop duplicates 25 records"
   ]
  },
  {
   "cell_type": "code",
   "execution_count": 54,
   "metadata": {},
   "outputs": [],
   "source": [
    "df.drop_duplicates(subset = ['_nocache'],inplace = True)"
   ]
  },
  {
   "cell_type": "code",
   "execution_count": 55,
   "metadata": {},
   "outputs": [
    {
     "name": "stdout",
     "output_type": "stream",
     "text": [
      "<class 'pandas.core.frame.DataFrame'>\n",
      "Int64Index: 51023 entries, 0 to 51047\n",
      "Data columns (total 70 columns):\n",
      "_nocache                               51023 non-null int64\n",
      "distinct_id                            51023 non-null object\n",
      "event                                  44549 non-null object\n",
      "jssdk_error                            33 non-null object\n",
      "lib.$lib                               51023 non-null object\n",
      "lib.$lib_method                        51023 non-null object\n",
      "lib.$lib_version                       51023 non-null object\n",
      "properties.$browser                    44549 non-null object\n",
      "properties.$browser_version            44549 non-null float64\n",
      "properties.$first_browser_language     6278 non-null object\n",
      "properties.$first_referrer             4722 non-null object\n",
      "properties.$first_referrer_host        4722 non-null object\n",
      "properties.$first_visit_time           6474 non-null object\n",
      "properties.$ip                         44549 non-null object\n",
      "properties.$is_first_day               44549 non-null object\n",
      "properties.$is_first_time              44549 non-null object\n",
      "properties.$latest_referrer            28142 non-null object\n",
      "properties.$latest_referrer_host       28142 non-null object\n",
      "properties.$latest_utm_campaign        27243 non-null object\n",
      "properties.$latest_utm_content         26542 non-null object\n",
      "properties.$latest_utm_medium          27196 non-null object\n",
      "properties.$latest_utm_source          27639 non-null object\n",
      "properties.$latest_utm_term            26818 non-null object\n",
      "properties.$lib                        44549 non-null object\n",
      "properties.$lib_version                44549 non-null object\n",
      "properties.$model                      44549 non-null object\n",
      "properties.$os                         44549 non-null object\n",
      "properties.$os_version                 44549 non-null float64\n",
      "properties.$referrer                   17399 non-null object\n",
      "properties.$referrer_host              17399 non-null object\n",
      "properties.$screen_height              44549 non-null float64\n",
      "properties.$screen_width               44549 non-null float64\n",
      "properties.$title                      22025 non-null object\n",
      "properties.$url                        22025 non-null object\n",
      "properties.$url_path                   22025 non-null object\n",
      "properties.$utm_campaign               9674 non-null object\n",
      "properties.$utm_content                9580 non-null object\n",
      "properties.$utm_medium                 9671 non-null object\n",
      "properties.$utm_source                 9746 non-null object\n",
      "properties.$utm_term                   9602 non-null object\n",
      "properties._latest_ch                  5642 non-null object\n",
      "properties._session_from_url           66 non-null object\n",
      "properties._session_referrer           32476 non-null object\n",
      "properties._session_referrer_domain    28 non-null object\n",
      "properties._session_referrer_host      32459 non-null object\n",
      "properties.ch                          400 non-null object\n",
      "properties.company                     751 non-null object\n",
      "properties.contact                     851 non-null object\n",
      "properties.email                       748 non-null object\n",
      "properties.from_url                    562 non-null object\n",
      "properties.info                        738 non-null object\n",
      "properties.isMsg                       313 non-null object\n",
      "properties.isSuccess                   535 non-null object\n",
      "properties.name                        10248 non-null object\n",
      "properties.page                        7992 non-null object\n",
      "properties.pagePosition                11334 non-null float64\n",
      "properties.pageStayTime                11472 non-null float64\n",
      "properties.pageUrl                     20726 non-null object\n",
      "properties.project_name                1671 non-null object\n",
      "properties.referrHostUrl               184 non-null object\n",
      "properties.referrerUrl                 184 non-null object\n",
      "properties.requestBtn                  2962 non-null float64\n",
      "properties.result                      772 non-null object\n",
      "properties.session_page_url            42643 non-null object\n",
      "properties.siteUrl                     313 non-null object\n",
      "properties.site_url                    666 non-null object\n",
      "properties.url_path                    138 non-null object\n",
      "properties.verification_code           828 non-null object\n",
      "time                                   51023 non-null int64\n",
      "type                                   51023 non-null object\n",
      "dtypes: float64(7), int64(2), object(61)\n",
      "memory usage: 27.6+ MB\n"
     ]
    }
   ],
   "source": [
    "df.info()"
   ]
  },
  {
   "cell_type": "markdown",
   "metadata": {},
   "source": [
    "Only keeps columns that are intereted in analysis"
   ]
  },
  {
   "cell_type": "code",
   "execution_count": 56,
   "metadata": {
    "collapsed": true
   },
   "outputs": [],
   "source": [
    "columns = [u'distinct_id',u'event',\\\n",
    "           u'properties.$first_referrer',u'properties.$first_referrer_host',\\\n",
    "           u'properties.$referrer',u'properties.$referrer_host',\\\n",
    "           u'properties.$latest_referrer',u'properties.$latest_referrer_host',\\\n",
    "           u'properties.$first_visit_time',u'properties.$is_first_day',u'properties.$is_fist_time',\\\n",
    "           u'properties.$latest_utm_source',u'properties.$latest_utm_campaign',u'properties.$latest_utm_content',u'properties.$latest_utm_medium',u'properties.$latest_utm_term',\\\n",
    "           u'properties.$utm_source',u'properties.$utm_campaign', u'properties.$utm_content', u'properties.$utm_medium', u'properties.$utm_term',\n",
    "           u'properties.$title',u'properties.$url',u'properties.$url_path',\\\n",
    "           u'properties._session_from_url', u'properties._session_referrer', u'properties._session_referrer_domain',u'properties._session_referrer_host',\\\n",
    "           u'properties.isSuccess', u'properties.name', u'properties.page',\\\n",
    "           u'properties.pagePosition', u'properties.pageStayTime',u'properties.project_name',\\\n",
    "           u'properties.requestBtn', u'time',u'type'\n",
    "           ]\n",
    "df = df.loc[:,columns]"
   ]
  },
  {
   "cell_type": "code",
   "execution_count": 57,
   "metadata": {
    "collapsed": true
   },
   "outputs": [],
   "source": [
    "df.to_csv('/Users/zhanghaoyan/Documents/DS501/BitTiger-DS501-1702/Projects/神策数据/sensor_data.csv',encoding='utf-8',index=False)"
   ]
  },
  {
   "cell_type": "code",
   "execution_count": 58,
   "metadata": {},
   "outputs": [
    {
     "data": {
      "text/plain": [
       "Index([u'distinct_id', u'event', u'properties.$first_referrer',\n",
       "       u'properties.$first_referrer_host', u'properties.$referrer',\n",
       "       u'properties.$referrer_host', u'properties.$latest_referrer',\n",
       "       u'properties.$latest_referrer_host', u'properties.$first_visit_time',\n",
       "       u'properties.$is_first_day', u'properties.$is_fist_time',\n",
       "       u'properties.$latest_utm_source', u'properties.$latest_utm_campaign',\n",
       "       u'properties.$latest_utm_content', u'properties.$latest_utm_medium',\n",
       "       u'properties.$latest_utm_term', u'properties.$utm_source',\n",
       "       u'properties.$utm_campaign', u'properties.$utm_content',\n",
       "       u'properties.$utm_medium', u'properties.$utm_term',\n",
       "       u'properties.$title', u'properties.$url', u'properties.$url_path',\n",
       "       u'properties._session_from_url', u'properties._session_referrer',\n",
       "       u'properties._session_referrer_domain',\n",
       "       u'properties._session_referrer_host', u'properties.isSuccess',\n",
       "       u'properties.name', u'properties.page', u'properties.pagePosition',\n",
       "       u'properties.pageStayTime', u'properties.project_name',\n",
       "       u'properties.requestBtn', u'time', u'type'],\n",
       "      dtype='object')"
      ]
     },
     "execution_count": 58,
     "metadata": {},
     "output_type": "execute_result"
    }
   ],
   "source": [
    "df.columns"
   ]
  },
  {
   "cell_type": "markdown",
   "metadata": {},
   "source": [
    "### 3. Data Inspection"
   ]
  },
  {
   "cell_type": "code",
   "execution_count": 40,
   "metadata": {},
   "outputs": [],
   "source": [
    "df = pd.read_csv('/Users/zhanghaoyan/Documents/DS501/BitTiger-DS501-1702/Projects/神策数据/sensor_data.csv',encoding='utf-8')"
   ]
  },
  {
   "cell_type": "code",
   "execution_count": 41,
   "metadata": {},
   "outputs": [
    {
     "data": {
      "text/html": [
       "<div>\n",
       "<style>\n",
       "    .dataframe thead tr:only-child th {\n",
       "        text-align: right;\n",
       "    }\n",
       "\n",
       "    .dataframe thead th {\n",
       "        text-align: left;\n",
       "    }\n",
       "\n",
       "    .dataframe tbody tr th {\n",
       "        vertical-align: top;\n",
       "    }\n",
       "</style>\n",
       "<table border=\"1\" class=\"dataframe\">\n",
       "  <thead>\n",
       "    <tr style=\"text-align: right;\">\n",
       "      <th></th>\n",
       "      <th>distinct_id</th>\n",
       "      <th>event</th>\n",
       "      <th>properties.$first_referrer</th>\n",
       "      <th>properties.$first_referrer_host</th>\n",
       "      <th>properties.$referrer</th>\n",
       "      <th>properties.$referrer_host</th>\n",
       "      <th>properties.$latest_referrer</th>\n",
       "      <th>properties.$latest_referrer_host</th>\n",
       "      <th>properties.$first_visit_time</th>\n",
       "      <th>properties.$is_first_day</th>\n",
       "      <th>...</th>\n",
       "      <th>properties._session_referrer_host</th>\n",
       "      <th>properties.isSuccess</th>\n",
       "      <th>properties.name</th>\n",
       "      <th>properties.page</th>\n",
       "      <th>properties.pagePosition</th>\n",
       "      <th>properties.pageStayTime</th>\n",
       "      <th>properties.project_name</th>\n",
       "      <th>properties.requestBtn</th>\n",
       "      <th>time</th>\n",
       "      <th>type</th>\n",
       "    </tr>\n",
       "  </thead>\n",
       "  <tbody>\n",
       "    <tr>\n",
       "      <th>0</th>\n",
       "      <td>595466e9a8e733434ce08de16e927d985e0b5d48</td>\n",
       "      <td>index_leave</td>\n",
       "      <td>NaN</td>\n",
       "      <td>NaN</td>\n",
       "      <td>NaN</td>\n",
       "      <td>NaN</td>\n",
       "      <td>NaN</td>\n",
       "      <td>NaN</td>\n",
       "      <td>NaN</td>\n",
       "      <td>True</td>\n",
       "      <td>...</td>\n",
       "      <td>www.baidu.com</td>\n",
       "      <td>NaN</td>\n",
       "      <td>NaN</td>\n",
       "      <td>NaN</td>\n",
       "      <td>2.0</td>\n",
       "      <td>5.692</td>\n",
       "      <td>NaN</td>\n",
       "      <td>NaN</td>\n",
       "      <td>2017-03-06 17:04:07.953000+08:00</td>\n",
       "      <td>track</td>\n",
       "    </tr>\n",
       "    <tr>\n",
       "      <th>1</th>\n",
       "      <td>9939d3e087bca29c42334d96dccd25ca0e06652a</td>\n",
       "      <td>NaN</td>\n",
       "      <td>NaN</td>\n",
       "      <td>NaN</td>\n",
       "      <td>NaN</td>\n",
       "      <td>NaN</td>\n",
       "      <td>NaN</td>\n",
       "      <td>NaN</td>\n",
       "      <td>2017-03-06 17:04:10.999</td>\n",
       "      <td>NaN</td>\n",
       "      <td>...</td>\n",
       "      <td>NaN</td>\n",
       "      <td>NaN</td>\n",
       "      <td>NaN</td>\n",
       "      <td>NaN</td>\n",
       "      <td>NaN</td>\n",
       "      <td>NaN</td>\n",
       "      <td>NaN</td>\n",
       "      <td>NaN</td>\n",
       "      <td>2017-03-31 19:04:56.645000+08:00</td>\n",
       "      <td>profile_set_once</td>\n",
       "    </tr>\n",
       "    <tr>\n",
       "      <th>2</th>\n",
       "      <td>9939d3e087bca29c42334d96dccd25ca0e06652a</td>\n",
       "      <td>$pageview</td>\n",
       "      <td>NaN</td>\n",
       "      <td>NaN</td>\n",
       "      <td>NaN</td>\n",
       "      <td>NaN</td>\n",
       "      <td>NaN</td>\n",
       "      <td>NaN</td>\n",
       "      <td>NaN</td>\n",
       "      <td>True</td>\n",
       "      <td>...</td>\n",
       "      <td>NaN</td>\n",
       "      <td>NaN</td>\n",
       "      <td>NaN</td>\n",
       "      <td>NaN</td>\n",
       "      <td>NaN</td>\n",
       "      <td>NaN</td>\n",
       "      <td>NaN</td>\n",
       "      <td>NaN</td>\n",
       "      <td>2017-03-06 17:04:10.856000+08:00</td>\n",
       "      <td>track</td>\n",
       "    </tr>\n",
       "    <tr>\n",
       "      <th>3</th>\n",
       "      <td>9939d3e087bca29c42334d96dccd25ca0e06652a</td>\n",
       "      <td>btnClick</td>\n",
       "      <td>NaN</td>\n",
       "      <td>NaN</td>\n",
       "      <td>NaN</td>\n",
       "      <td>NaN</td>\n",
       "      <td>NaN</td>\n",
       "      <td>NaN</td>\n",
       "      <td>NaN</td>\n",
       "      <td>True</td>\n",
       "      <td>...</td>\n",
       "      <td>NaN</td>\n",
       "      <td>NaN</td>\n",
       "      <td>request</td>\n",
       "      <td>index</td>\n",
       "      <td>NaN</td>\n",
       "      <td>NaN</td>\n",
       "      <td>NaN</td>\n",
       "      <td>2.0</td>\n",
       "      <td>2017-03-06 17:04:11.772000+08:00</td>\n",
       "      <td>track</td>\n",
       "    </tr>\n",
       "    <tr>\n",
       "      <th>4</th>\n",
       "      <td>9939d3e087bca29c42334d96dccd25ca0e06652a</td>\n",
       "      <td>btnClick</td>\n",
       "      <td>NaN</td>\n",
       "      <td>NaN</td>\n",
       "      <td>NaN</td>\n",
       "      <td>NaN</td>\n",
       "      <td>NaN</td>\n",
       "      <td>NaN</td>\n",
       "      <td>NaN</td>\n",
       "      <td>True</td>\n",
       "      <td>...</td>\n",
       "      <td>NaN</td>\n",
       "      <td>NaN</td>\n",
       "      <td>request</td>\n",
       "      <td>index</td>\n",
       "      <td>NaN</td>\n",
       "      <td>NaN</td>\n",
       "      <td>NaN</td>\n",
       "      <td>2.0</td>\n",
       "      <td>2017-03-06 17:04:16.032000+08:00</td>\n",
       "      <td>track</td>\n",
       "    </tr>\n",
       "  </tbody>\n",
       "</table>\n",
       "<p>5 rows × 37 columns</p>\n",
       "</div>"
      ],
      "text/plain": [
       "                                distinct_id        event  \\\n",
       "0  595466e9a8e733434ce08de16e927d985e0b5d48  index_leave   \n",
       "1  9939d3e087bca29c42334d96dccd25ca0e06652a          NaN   \n",
       "2  9939d3e087bca29c42334d96dccd25ca0e06652a    $pageview   \n",
       "3  9939d3e087bca29c42334d96dccd25ca0e06652a     btnClick   \n",
       "4  9939d3e087bca29c42334d96dccd25ca0e06652a     btnClick   \n",
       "\n",
       "  properties.$first_referrer properties.$first_referrer_host  \\\n",
       "0                        NaN                             NaN   \n",
       "1                        NaN                             NaN   \n",
       "2                        NaN                             NaN   \n",
       "3                        NaN                             NaN   \n",
       "4                        NaN                             NaN   \n",
       "\n",
       "  properties.$referrer properties.$referrer_host properties.$latest_referrer  \\\n",
       "0                  NaN                       NaN                         NaN   \n",
       "1                  NaN                       NaN                         NaN   \n",
       "2                  NaN                       NaN                         NaN   \n",
       "3                  NaN                       NaN                         NaN   \n",
       "4                  NaN                       NaN                         NaN   \n",
       "\n",
       "  properties.$latest_referrer_host properties.$first_visit_time  \\\n",
       "0                              NaN                          NaN   \n",
       "1                              NaN      2017-03-06 17:04:10.999   \n",
       "2                              NaN                          NaN   \n",
       "3                              NaN                          NaN   \n",
       "4                              NaN                          NaN   \n",
       "\n",
       "  properties.$is_first_day        ...         \\\n",
       "0                     True        ...          \n",
       "1                      NaN        ...          \n",
       "2                     True        ...          \n",
       "3                     True        ...          \n",
       "4                     True        ...          \n",
       "\n",
       "   properties._session_referrer_host properties.isSuccess properties.name  \\\n",
       "0                      www.baidu.com                  NaN             NaN   \n",
       "1                                NaN                  NaN             NaN   \n",
       "2                                NaN                  NaN             NaN   \n",
       "3                                NaN                  NaN         request   \n",
       "4                                NaN                  NaN         request   \n",
       "\n",
       "  properties.page properties.pagePosition properties.pageStayTime  \\\n",
       "0             NaN                     2.0                   5.692   \n",
       "1             NaN                     NaN                     NaN   \n",
       "2             NaN                     NaN                     NaN   \n",
       "3           index                     NaN                     NaN   \n",
       "4           index                     NaN                     NaN   \n",
       "\n",
       "  properties.project_name properties.requestBtn  \\\n",
       "0                     NaN                   NaN   \n",
       "1                     NaN                   NaN   \n",
       "2                     NaN                   NaN   \n",
       "3                     NaN                   2.0   \n",
       "4                     NaN                   2.0   \n",
       "\n",
       "                               time              type  \n",
       "0  2017-03-06 17:04:07.953000+08:00             track  \n",
       "1  2017-03-31 19:04:56.645000+08:00  profile_set_once  \n",
       "2  2017-03-06 17:04:10.856000+08:00             track  \n",
       "3  2017-03-06 17:04:11.772000+08:00             track  \n",
       "4  2017-03-06 17:04:16.032000+08:00             track  \n",
       "\n",
       "[5 rows x 37 columns]"
      ]
     },
     "execution_count": 41,
     "metadata": {},
     "output_type": "execute_result"
    }
   ],
   "source": [
    "df.head()"
   ]
  },
  {
   "cell_type": "markdown",
   "metadata": {},
   "source": [
    "Not all visitor have pageview action, whihc means that there are users with imcomplete records.\n",
    "\n",
    "There are new visit users with type set_profile_once (6479 user 6481 recods)  and users visited the site before data-collected time."
   ]
  },
  {
   "cell_type": "code",
   "execution_count": 59,
   "metadata": {},
   "outputs": [
    {
     "data": {
      "text/plain": [
       "(8254, 6474)"
      ]
     },
     "execution_count": 59,
     "metadata": {},
     "output_type": "execute_result"
    }
   ],
   "source": [
    "users = df['distinct_id'].unique()\n",
    "new_users = df.loc[(df['type']=='profile_set_once'),'distinct_id'].unique()\n",
    "users.size,new_users.size"
   ]
  },
  {
   "cell_type": "code",
   "execution_count": 60,
   "metadata": {},
   "outputs": [
    {
     "data": {
      "text/plain": [
       "8116"
      ]
     },
     "execution_count": 60,
     "metadata": {},
     "output_type": "execute_result"
    }
   ],
   "source": [
    "pageview_user = df.loc[(df['event']=='$pageview'),'distinct_id'].unique()\n",
    "pageview_user.size"
   ]
  },
  {
   "cell_type": "code",
   "execution_count": 61,
   "metadata": {
    "collapsed": true
   },
   "outputs": [],
   "source": [
    "df_new_users = df.loc[df['distinct_id'].isin(new_users),:]\n",
    "df_new_users.to_csv('/Users/zhanghaoyan/Documents/DS501/BitTiger-DS501-1702/Projects/神策数据/sensor_data_new_user.csv',encoding='utf-8',index=False)"
   ]
  },
  {
   "cell_type": "code",
   "execution_count": 66,
   "metadata": {},
   "outputs": [
    {
     "data": {
      "text/plain": [
       "6438"
      ]
     },
     "execution_count": 66,
     "metadata": {},
     "output_type": "execute_result"
    }
   ],
   "source": [
    "df_new_users.loc[(df['event']=='$pageview'),'distinct_id'].unique().size"
   ]
  },
  {
   "cell_type": "code",
   "execution_count": 92,
   "metadata": {},
   "outputs": [
    {
     "data": {
      "text/plain": [
       "(35, 36)"
      ]
     },
     "execution_count": 92,
     "metadata": {},
     "output_type": "execute_result"
    }
   ],
   "source": [
    "###### There are 35 new users have no pageview activity\n",
    "users_with_no_pageview = new_users[np.in1d(new_users,pageview_user,assume_unique=True)==False]\n",
    "users_with_one_record = df_new_users.groupby('distinct_id')['distinct_id'].count().index[df_new_users.groupby('distinct_id')['distinct_id'].count() == 1]\n",
    "df_new_users.loc[df_new_users['distinct_id'].isin(users_with_one_record),:]\n",
    "users_with_one_record.size, users_with_no_pageview.size"
   ]
  },
  {
   "cell_type": "markdown",
   "metadata": {},
   "source": [
    "    The flow of success register is as follow:\n",
    "    Pageview -> button click -> click request button -> form submit点击提交表单 -> is success"
   ]
  },
  {
   "cell_type": "markdown",
   "metadata": {},
   "source": [
    "#### Each steps' user size:"
   ]
  },
  {
   "cell_type": "code",
   "execution_count": 76,
   "metadata": {},
   "outputs": [
    {
     "name": "stdout",
     "output_type": "stream",
     "text": [
      "(6438, 2423, 1222, 278, 255)\n"
     ]
    }
   ],
   "source": [
    "pageview_user = df_new_users.loc[(df_new_users['event']=='$pageview'),'distinct_id'].unique()\n",
    "click_button_user = df_new_users.loc[(df_new_users['event']=='btnClick'),'distinct_id'].unique()\n",
    "click_request_button_user = df_new_users.loc[(df_new_users['event']=='btnClick')&(df_new_users['properties.name']=='request'),'distinct_id'].unique()\n",
    "form_submit_user = df_new_users.loc[(df_new_users['event']=='formSubmit'),'distinct_id'].unique()\n",
    "form_submit_success_user = df_new_users.loc[(df_new_users['event']=='formSubmit')&(df_new_users['properties.isSuccess']==True),'distinct_id'].unique()\n",
    "user_sizes = pageview_user.size,click_button_user.size,click_request_button_user.size,form_submit_user.size,\\\n",
    " form_submit_success_user.size\n",
    "print user_sizes"
   ]
  },
  {
   "cell_type": "code",
   "execution_count": 77,
   "metadata": {},
   "outputs": [
    {
     "data": {
      "text/plain": [
       "[<matplotlib.text.Text at 0x1144ec910>,\n",
       " <matplotlib.text.Text at 0x1144d7910>,\n",
       " <matplotlib.text.Text at 0x11716d410>,\n",
       " <matplotlib.text.Text at 0x11716dad0>,\n",
       " <matplotlib.text.Text at 0x11dfe4250>,\n",
       " <matplotlib.text.Text at 0x11dfe4990>]"
      ]
     },
     "execution_count": 77,
     "metadata": {},
     "output_type": "execute_result"
    },
    {
     "data": {
      "image/png": "[encoded data removed]",
      "text/plain": [
       "<matplotlib.figure.Figure at 0x1183ad510>"
      ]
     },
     "metadata": {},
     "output_type": "display_data"
    }
   ],
   "source": [
    "fig, axes = plt.subplots(1, 1, figsize=(5,4))\n",
    "axes.bar(xrange(len(user_sizes)),user_sizes,width = 0.35)\n",
    "axes.set_title(\"Users size of each event\")\n",
    "axes.set_xticklabels(labels=['','pageview_user','click_button_user','click_request_button','form_submit_user','form_submit_success'],rotation=90)"
   ]
  },
  {
   "cell_type": "markdown",
   "metadata": {},
   "source": [
    "Each users' record number"
   ]
  },
  {
   "cell_type": "code",
   "execution_count": 80,
   "metadata": {
    "collapsed": true
   },
   "outputs": [],
   "source": [
    "df_only_pageview_user = df_new_users[df_new_users['distinct_id'].isin(pageview_user) & np.logical_not(df_new_users['distinct_id'].isin(click_button_user))]\n",
    "df_request_user = df_new_users[df_new_users['distinct_id'].isin(click_request_button_user) & np.logical_not(df_new_users['distinct_id'].isin(form_submit_user))]\n",
    "df_click_button_user =  df_new_users[df_new_users['distinct_id'].isin(click_button_user) & np.logical_not(df_new_users['distinct_id'].isin(click_request_button_user))]\n",
    "df_form_submit_user = df_new_users[df_new_users['distinct_id'].isin(form_submit_user)]\n",
    "\n",
    "def number_of_record(df,number):\n",
    "    return (df['distinct_id'].value_counts() == number).sum()\n",
    "\n",
    "def table(df):\n",
    "    x = []; y = []\n",
    "    for i in df['distinct_id'].value_counts().unique():\n",
    "        x = np.append(x,i)\n",
    "        y = np.append(y,number_of_record(df,i))\n",
    "        n = df['distinct_id'].value_counts().shape[0]\n",
    "        df_record = pd.DataFrame(list(zip(x.astype(int), y.astype(int), y/n))).sort_values(by=[0], ascending=True)\n",
    "    df_record.columns = ['number of count', 'number of users', 'percent of all users']\n",
    "    return df_record"
   ]
  },
  {
   "cell_type": "code",
   "execution_count": 91,
   "metadata": {},
   "outputs": [
    {
     "data": {
      "text/html": [
       "<div>\n",
       "<style>\n",
       "    .dataframe thead tr:only-child th {\n",
       "        text-align: right;\n",
       "    }\n",
       "\n",
       "    .dataframe thead th {\n",
       "        text-align: left;\n",
       "    }\n",
       "\n",
       "    .dataframe tbody tr th {\n",
       "        vertical-align: top;\n",
       "    }\n",
       "</style>\n",
       "<table border=\"1\" class=\"dataframe\">\n",
       "  <thead>\n",
       "    <tr style=\"text-align: right;\">\n",
       "      <th></th>\n",
       "      <th>number of count</th>\n",
       "      <th>number of users</th>\n",
       "      <th>percent of all users</th>\n",
       "    </tr>\n",
       "  </thead>\n",
       "  <tbody>\n",
       "    <tr>\n",
       "      <th>70</th>\n",
       "      <td>1</td>\n",
       "      <td>35</td>\n",
       "      <td>0.005406</td>\n",
       "    </tr>\n",
       "    <tr>\n",
       "      <th>69</th>\n",
       "      <td>2</td>\n",
       "      <td>1806</td>\n",
       "      <td>0.278962</td>\n",
       "    </tr>\n",
       "    <tr>\n",
       "      <th>68</th>\n",
       "      <td>3</td>\n",
       "      <td>2029</td>\n",
       "      <td>0.313407</td>\n",
       "    </tr>\n",
       "    <tr>\n",
       "      <th>67</th>\n",
       "      <td>4</td>\n",
       "      <td>506</td>\n",
       "      <td>0.078159</td>\n",
       "    </tr>\n",
       "    <tr>\n",
       "      <th>66</th>\n",
       "      <td>5</td>\n",
       "      <td>459</td>\n",
       "      <td>0.070899</td>\n",
       "    </tr>\n",
       "    <tr>\n",
       "      <th>65</th>\n",
       "      <td>6</td>\n",
       "      <td>251</td>\n",
       "      <td>0.038770</td>\n",
       "    </tr>\n",
       "    <tr>\n",
       "      <th>64</th>\n",
       "      <td>7</td>\n",
       "      <td>187</td>\n",
       "      <td>0.028885</td>\n",
       "    </tr>\n",
       "    <tr>\n",
       "      <th>63</th>\n",
       "      <td>8</td>\n",
       "      <td>151</td>\n",
       "      <td>0.023324</td>\n",
       "    </tr>\n",
       "    <tr>\n",
       "      <th>62</th>\n",
       "      <td>9</td>\n",
       "      <td>144</td>\n",
       "      <td>0.022243</td>\n",
       "    </tr>\n",
       "    <tr>\n",
       "      <th>61</th>\n",
       "      <td>10</td>\n",
       "      <td>104</td>\n",
       "      <td>0.016064</td>\n",
       "    </tr>\n",
       "  </tbody>\n",
       "</table>\n",
       "</div>"
      ],
      "text/plain": [
       "    number of count  number of users  percent of all users\n",
       "70                1               35              0.005406\n",
       "69                2             1806              0.278962\n",
       "68                3             2029              0.313407\n",
       "67                4              506              0.078159\n",
       "66                5              459              0.070899\n",
       "65                6              251              0.038770\n",
       "64                7              187              0.028885\n",
       "63                8              151              0.023324\n",
       "62                9              144              0.022243\n",
       "61               10              104              0.016064"
      ]
     },
     "execution_count": 91,
     "metadata": {},
     "output_type": "execute_result"
    }
   ],
   "source": [
    "table(df_new_users)[:10]"
   ]
  },
  {
   "cell_type": "code",
   "execution_count": 94,
   "metadata": {},
   "outputs": [
    {
     "data": {
      "text/html": [
       "<div>\n",
       "<style>\n",
       "    .dataframe thead tr:only-child th {\n",
       "        text-align: right;\n",
       "    }\n",
       "\n",
       "    .dataframe thead th {\n",
       "        text-align: left;\n",
       "    }\n",
       "\n",
       "    .dataframe tbody tr th {\n",
       "        vertical-align: top;\n",
       "    }\n",
       "</style>\n",
       "<table border=\"1\" class=\"dataframe\">\n",
       "  <thead>\n",
       "    <tr style=\"text-align: right;\">\n",
       "      <th></th>\n",
       "      <th>distinct_id</th>\n",
       "      <th>event</th>\n",
       "      <th>properties.$first_referrer</th>\n",
       "      <th>properties.$first_referrer_host</th>\n",
       "      <th>properties.$referrer</th>\n",
       "      <th>properties.$referrer_host</th>\n",
       "      <th>properties.$latest_referrer</th>\n",
       "      <th>properties.$latest_referrer_host</th>\n",
       "      <th>properties.$first_visit_time</th>\n",
       "      <th>properties.$is_first_day</th>\n",
       "      <th>...</th>\n",
       "      <th>properties._session_referrer_host</th>\n",
       "      <th>properties.isSuccess</th>\n",
       "      <th>properties.name</th>\n",
       "      <th>properties.page</th>\n",
       "      <th>properties.pagePosition</th>\n",
       "      <th>properties.pageStayTime</th>\n",
       "      <th>properties.project_name</th>\n",
       "      <th>properties.requestBtn</th>\n",
       "      <th>time</th>\n",
       "      <th>type</th>\n",
       "    </tr>\n",
       "  </thead>\n",
       "  <tbody>\n",
       "    <tr>\n",
       "      <th>11274</th>\n",
       "      <td>395aa9f7438034ede69880308d38047adbfc3410</td>\n",
       "      <td>index_leave</td>\n",
       "      <td>NaN</td>\n",
       "      <td>NaN</td>\n",
       "      <td>NaN</td>\n",
       "      <td>NaN</td>\n",
       "      <td>https://www.baidu.com/baidu.php</td>\n",
       "      <td>www.baidu.com</td>\n",
       "      <td>NaN</td>\n",
       "      <td>True</td>\n",
       "      <td>...</td>\n",
       "      <td>www.baidu.com</td>\n",
       "      <td>NaN</td>\n",
       "      <td>NaN</td>\n",
       "      <td>NaN</td>\n",
       "      <td>1.0</td>\n",
       "      <td>2.973</td>\n",
       "      <td>NaN</td>\n",
       "      <td>NaN</td>\n",
       "      <td>1488879785724</td>\n",
       "      <td>track</td>\n",
       "    </tr>\n",
       "    <tr>\n",
       "      <th>11275</th>\n",
       "      <td>395aa9f7438034ede69880308d38047adbfc3410</td>\n",
       "      <td>NaN</td>\n",
       "      <td>https://www.baidu.com/baidu.php</td>\n",
       "      <td>www.baidu.com</td>\n",
       "      <td>NaN</td>\n",
       "      <td>NaN</td>\n",
       "      <td>NaN</td>\n",
       "      <td>NaN</td>\n",
       "      <td>2017-03-07 17:43:07.806</td>\n",
       "      <td>NaN</td>\n",
       "      <td>...</td>\n",
       "      <td>NaN</td>\n",
       "      <td>NaN</td>\n",
       "      <td>NaN</td>\n",
       "      <td>NaN</td>\n",
       "      <td>NaN</td>\n",
       "      <td>NaN</td>\n",
       "      <td>NaN</td>\n",
       "      <td>NaN</td>\n",
       "      <td>1490958311834</td>\n",
       "      <td>profile_set_once</td>\n",
       "    </tr>\n",
       "  </tbody>\n",
       "</table>\n",
       "<p>2 rows × 37 columns</p>\n",
       "</div>"
      ],
      "text/plain": [
       "                                    distinct_id        event  \\\n",
       "11274  395aa9f7438034ede69880308d38047adbfc3410  index_leave   \n",
       "11275  395aa9f7438034ede69880308d38047adbfc3410          NaN   \n",
       "\n",
       "            properties.$first_referrer properties.$first_referrer_host  \\\n",
       "11274                              NaN                             NaN   \n",
       "11275  https://www.baidu.com/baidu.php                   www.baidu.com   \n",
       "\n",
       "      properties.$referrer properties.$referrer_host  \\\n",
       "11274                  NaN                       NaN   \n",
       "11275                  NaN                       NaN   \n",
       "\n",
       "           properties.$latest_referrer properties.$latest_referrer_host  \\\n",
       "11274  https://www.baidu.com/baidu.php                    www.baidu.com   \n",
       "11275                              NaN                              NaN   \n",
       "\n",
       "      properties.$first_visit_time properties.$is_first_day        ...         \\\n",
       "11274                          NaN                     True        ...          \n",
       "11275      2017-03-07 17:43:07.806                      NaN        ...          \n",
       "\n",
       "       properties._session_referrer_host properties.isSuccess properties.name  \\\n",
       "11274                      www.baidu.com                  NaN             NaN   \n",
       "11275                                NaN                  NaN             NaN   \n",
       "\n",
       "      properties.page properties.pagePosition properties.pageStayTime  \\\n",
       "11274             NaN                     1.0                   2.973   \n",
       "11275             NaN                     NaN                     NaN   \n",
       "\n",
       "      properties.project_name properties.requestBtn           time  \\\n",
       "11274                     NaN                   NaN  1488879785724   \n",
       "11275                     NaN                   NaN  1490958311834   \n",
       "\n",
       "                   type  \n",
       "11274             track  \n",
       "11275  profile_set_once  \n",
       "\n",
       "[2 rows x 37 columns]"
      ]
     },
     "execution_count": 94,
     "metadata": {},
     "output_type": "execute_result"
    }
   ],
   "source": [
    "# There are 36 users with no pageview but only 35 users have one records?\n",
    "# There is a unusual new user with only one record of index_leave \n",
    "one_record = (df_new_users['distinct_id'].value_counts() == 1).index[(df_new_users['distinct_id'].value_counts() == 1) == True]\n",
    "no_pageview = users_with_no_pageview[np.in1d(users_with_no_pageview,a,assume_unique=True)==False]\n",
    "df_new_users.loc[df_new_users['distinct_id']==no_pageview[0],:]"
   ]
  },
  {
   "cell_type": "code",
   "execution_count": 82,
   "metadata": {},
   "outputs": [
    {
     "data": {
      "text/plain": [
       "(1, 30)"
      ]
     },
     "execution_count": 82,
     "metadata": {},
     "output_type": "execute_result"
    },
    {
     "data": {
      "image/png": "[encoded data removed]",
      "text/plain": [
       "<matplotlib.figure.Figure at 0x117d58bd0>"
      ]
     },
     "metadata": {},
     "output_type": "display_data"
    }
   ],
   "source": [
    "# A histogram\n",
    "n = df_new_users['distinct_id'].value_counts()\n",
    "fig, axes = plt.subplots(figsize=(12,4))\n",
    "\n",
    "axes.hist(n,bins=max(n))\n",
    "axes.set_title(\"Number of reords for each user\")\n",
    "axes.set_xlim((min(n), 30))"
   ]
  },
  {
   "cell_type": "code",
   "execution_count": 90,
   "metadata": {},
   "outputs": [
    {
     "data": {
      "text/html": [
       "<div>\n",
       "<style>\n",
       "    .dataframe thead tr:only-child th {\n",
       "        text-align: right;\n",
       "    }\n",
       "\n",
       "    .dataframe thead th {\n",
       "        text-align: left;\n",
       "    }\n",
       "\n",
       "    .dataframe tbody tr th {\n",
       "        vertical-align: top;\n",
       "    }\n",
       "</style>\n",
       "<table border=\"1\" class=\"dataframe\">\n",
       "  <thead>\n",
       "    <tr style=\"text-align: right;\">\n",
       "      <th></th>\n",
       "      <th>number of count</th>\n",
       "      <th>number of users</th>\n",
       "      <th>percent of all users</th>\n",
       "    </tr>\n",
       "  </thead>\n",
       "  <tbody>\n",
       "    <tr>\n",
       "      <th>12</th>\n",
       "      <td>2</td>\n",
       "      <td>1805</td>\n",
       "      <td>0.449564</td>\n",
       "    </tr>\n",
       "    <tr>\n",
       "      <th>11</th>\n",
       "      <td>3</td>\n",
       "      <td>1921</td>\n",
       "      <td>0.478456</td>\n",
       "    </tr>\n",
       "    <tr>\n",
       "      <th>10</th>\n",
       "      <td>4</td>\n",
       "      <td>91</td>\n",
       "      <td>0.022665</td>\n",
       "    </tr>\n",
       "    <tr>\n",
       "      <th>9</th>\n",
       "      <td>5</td>\n",
       "      <td>129</td>\n",
       "      <td>0.032130</td>\n",
       "    </tr>\n",
       "    <tr>\n",
       "      <th>8</th>\n",
       "      <td>6</td>\n",
       "      <td>26</td>\n",
       "      <td>0.006476</td>\n",
       "    </tr>\n",
       "    <tr>\n",
       "      <th>7</th>\n",
       "      <td>7</td>\n",
       "      <td>26</td>\n",
       "      <td>0.006476</td>\n",
       "    </tr>\n",
       "    <tr>\n",
       "      <th>6</th>\n",
       "      <td>8</td>\n",
       "      <td>3</td>\n",
       "      <td>0.000747</td>\n",
       "    </tr>\n",
       "    <tr>\n",
       "      <th>5</th>\n",
       "      <td>9</td>\n",
       "      <td>8</td>\n",
       "      <td>0.001993</td>\n",
       "    </tr>\n",
       "    <tr>\n",
       "      <th>4</th>\n",
       "      <td>10</td>\n",
       "      <td>2</td>\n",
       "      <td>0.000498</td>\n",
       "    </tr>\n",
       "    <tr>\n",
       "      <th>3</th>\n",
       "      <td>11</td>\n",
       "      <td>1</td>\n",
       "      <td>0.000249</td>\n",
       "    </tr>\n",
       "    <tr>\n",
       "      <th>2</th>\n",
       "      <td>14</td>\n",
       "      <td>1</td>\n",
       "      <td>0.000249</td>\n",
       "    </tr>\n",
       "    <tr>\n",
       "      <th>1</th>\n",
       "      <td>21</td>\n",
       "      <td>1</td>\n",
       "      <td>0.000249</td>\n",
       "    </tr>\n",
       "    <tr>\n",
       "      <th>0</th>\n",
       "      <td>32</td>\n",
       "      <td>1</td>\n",
       "      <td>0.000249</td>\n",
       "    </tr>\n",
       "  </tbody>\n",
       "</table>\n",
       "</div>"
      ],
      "text/plain": [
       "    number of count  number of users  percent of all users\n",
       "12                2             1805              0.449564\n",
       "11                3             1921              0.478456\n",
       "10                4               91              0.022665\n",
       "9                 5              129              0.032130\n",
       "8                 6               26              0.006476\n",
       "7                 7               26              0.006476\n",
       "6                 8                3              0.000747\n",
       "5                 9                8              0.001993\n",
       "4                10                2              0.000498\n",
       "3                11                1              0.000249\n",
       "2                14                1              0.000249\n",
       "1                21                1              0.000249\n",
       "0                32                1              0.000249"
      ]
     },
     "execution_count": 90,
     "metadata": {},
     "output_type": "execute_result"
    }
   ],
   "source": [
    "table(df_only_pageview_user)"
   ]
  },
  {
   "cell_type": "code",
   "execution_count": 84,
   "metadata": {
    "collapsed": true
   },
   "outputs": [],
   "source": [
    "# table(df_click_button_user)"
   ]
  },
  {
   "cell_type": "code",
   "execution_count": 85,
   "metadata": {
    "collapsed": true
   },
   "outputs": [],
   "source": [
    "# table(df_request_user)"
   ]
  },
  {
   "cell_type": "code",
   "execution_count": 86,
   "metadata": {
    "collapsed": true
   },
   "outputs": [],
   "source": [
    "# table(df_form_submit_user)"
   ]
  },
  {
   "cell_type": "code",
   "execution_count": 88,
   "metadata": {},
   "outputs": [
    {
     "data": {
      "text/plain": [
       "(2, 32)"
      ]
     },
     "execution_count": 88,
     "metadata": {},
     "output_type": "execute_result"
    },
    {
     "data": {
      "image/png": "[encoded data removed]",
      "text/plain": [
       "<matplotlib.figure.Figure at 0x11b49c450>"
      ]
     },
     "metadata": {},
     "output_type": "display_data"
    }
   ],
   "source": [
    "n = df_only_pageview_user['distinct_id'].value_counts()\n",
    "n1 = df_click_button_user['distinct_id'].value_counts()\n",
    "n2 = df_request_user['distinct_id'].value_counts()\n",
    "n3 = df_form_submit_user['distinct_id'].value_counts()\n",
    "\n",
    "fig, axes = plt.subplots(2,2,figsize=(12,8))\n",
    "\n",
    "axes[0][0].hist(n,bins=max(n))\n",
    "axes[0][0].set_title(\"Pageview-only User Record Count\")\n",
    "axes[0][0].set_xlim((min(n), max(n)))\n",
    "\n",
    "axes[0][1].hist(n1,bins=max(n))\n",
    "axes[0][1].set_title(\"Click Button User Record Count\")\n",
    "axes[0][1].set_xlim((min(n), max(n)))\n",
    "\n",
    "axes[1][0].hist(n2,bins=max(n))\n",
    "axes[1][0].set_title(\"Request User Record Count\")\n",
    "axes[1][0].set_xlim((min(n), max(n)))\n",
    "\n",
    "axes[1][1].hist(n3,bins=max(n))\n",
    "axes[1][1].set_title(\"Form Submit User Record Count\")\n",
    "axes[1][1].set_xlim((min(n), max(n)))"
   ]
  },
  {
   "cell_type": "code",
   "execution_count": 89,
   "metadata": {},
   "outputs": [
    {
     "data": {
      "text/plain": [
       "(3.0, 7.0, 5.0, 21.5)"
      ]
     },
     "execution_count": 89,
     "metadata": {},
     "output_type": "execute_result"
    }
   ],
   "source": [
    "n.median(),n1.median(),n2.median(),n3.median()"
   ]
  },
  {
   "cell_type": "markdown",
   "metadata": {},
   "source": [
    "User's set profile once information"
   ]
  },
  {
   "cell_type": "code",
   "execution_count": 110,
   "metadata": {},
   "outputs": [
    {
     "data": {
      "text/plain": [
       "(6474, 37)"
      ]
     },
     "execution_count": 110,
     "metadata": {},
     "output_type": "execute_result"
    }
   ],
   "source": [
    "df_profile = df_new_users[df_new_users['type']=='profile_set_once']\n",
    "# df_profile['distinct_id'].value_counts().index[df_profile['distinct_id'].value_counts()>1]\n",
    "# df_profile.drop(labels=[44239,44243],inplace=True)\n",
    "df_profile.shape"
   ]
  },
  {
   "cell_type": "code",
   "execution_count": 156,
   "metadata": {},
   "outputs": [],
   "source": [
    "df_profile=df_profile.loc[:,['distinct_id','properties.$first_referrer','properties.$first_referrer_host','properties.$first_visit_time',\\\n",
    "          'properties.$utm_source','properties.$utm_campaign','properties.$utm_content','properties.$utm_medium',\\\n",
    "          'properties.$latest_utm_term','time']]"
   ]
  },
  {
   "cell_type": "code",
   "execution_count": 143,
   "metadata": {},
   "outputs": [
    {
     "data": {
      "text/plain": [
       "<matplotlib.axes._subplots.AxesSubplot at 0x12d4b7d50>"
      ]
     },
     "execution_count": 143,
     "metadata": {},
     "output_type": "execute_result"
    },
    {
     "data": {
      "image/png": "[encoded data removed]",
      "text/plain": [
       "<matplotlib.figure.Figure at 0x12d4cead0>"
      ]
     },
     "metadata": {},
     "output_type": "display_data"
    }
   ],
   "source": [
    "cond = pd.to_datetime(df_profile['properties.$first_visit_time'])>'2017-03-06'\n",
    "df_timestamp =pd.DataFrame((pd.to_datetime(df_profile.loc[cond,'properties.$first_visit_time']).copy()))\n",
    "df_timestamp = df_timestamp.set_index('properties.$first_visit_time')\n",
    "df_timestamp['count'] = 1\n",
    "df_timestamp['count'].resample(\"1D\").sum().plot()"
   ]
  },
  {
   "cell_type": "code",
   "execution_count": 157,
   "metadata": {},
   "outputs": [
    {
     "data": {
      "text/plain": [
       "distinct_id                           0\n",
       "properties.$first_referrer         1752\n",
       "properties.$first_referrer_host    1752\n",
       "properties.$first_visit_time          0\n",
       "properties.$utm_source             2252\n",
       "properties.$utm_campaign           2278\n",
       "properties.$utm_content            2311\n",
       "properties.$utm_medium             2277\n",
       "properties.$latest_utm_term        6474\n",
       "time                                  0\n",
       "dtype: int64"
      ]
     },
     "execution_count": 157,
     "metadata": {},
     "output_type": "execute_result"
    }
   ],
   "source": [
    "df_profile.isnull().sum()"
   ]
  }
 ],
 "metadata": {
  "kernelspec": {
   "display_name": "Python 2",
   "language": "python",
   "name": "python2"
  },
  "language_info": {
   "codemirror_mode": {
    "name": "ipython",
    "version": 2
   },
   "file_extension": ".py",
   "mimetype": "text/x-python",
   "name": "python",
   "nbconvert_exporter": "python",
   "pygments_lexer": "ipython2",
   "version": "2.7.13"
  }
 },
 "nbformat": 4,
 "nbformat_minor": 2
}
